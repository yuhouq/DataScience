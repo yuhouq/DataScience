{
 "cells": [
  {
   "cell_type": "code",
   "execution_count": 1,
   "metadata": {},
   "outputs": [],
   "source": [
    "text = \"Friends is an American television sitcom, created by David Crane and Marta Kauffman, which aired on NBC from September 22, 1994, to May 6, 2004, lasting ten seasons.[1] With an ensemble cast starring Jennifer Aniston, Courteney Cox, Lisa Kudrow, Matt LeBlanc, Matthew Perry and David Schwimmer, the show revolves around six friends in their 20s and 30s who live in Manhattan, New York City. The series was produced by Bright/Kauffman/Crane Productions, in association with Warner Bros. Television. The original executive producers were Kevin S. Bright, Kauffman, and Crane.\"  "
   ]
  },
  {
   "cell_type": "code",
   "execution_count": 2,
   "metadata": {},
   "outputs": [
    {
     "data": {
      "text/plain": [
       "'Friends is an American television sitcom, created by David Crane and Marta Kauffman, which aired on NBC from September 22, 1994, to May 6, 2004, lasting ten seasons.[1] With an ensemble cast starring Jennifer Aniston, Courteney Cox, Lisa Kudrow, Matt LeBlanc, Matthew Perry and David Schwimmer, the show revolves around six friends in their 20s and 30s who live in Manhattan, New York City. The series was produced by Bright/Kauffman/Crane Productions, in association with Warner Bros. Television. The original executive producers were Kevin S. Bright, Kauffman, and Crane.'"
      ]
     },
     "execution_count": 2,
     "metadata": {},
     "output_type": "execute_result"
    }
   ],
   "source": [
    "text"
   ]
  },
  {
   "cell_type": "code",
   "execution_count": 3,
   "metadata": {},
   "outputs": [],
   "source": [
    "import spacy "
   ]
  },
  {
   "cell_type": "code",
   "execution_count": 4,
   "metadata": {},
   "outputs": [],
   "source": [
    "nlp = spacy.load('en') "
   ]
  },
  {
   "cell_type": "code",
   "execution_count": 5,
   "metadata": {},
   "outputs": [],
   "source": [
    "doc = nlp(text)  "
   ]
  },
  {
   "cell_type": "code",
   "execution_count": 6,
   "metadata": {},
   "outputs": [
    {
     "data": {
      "text/plain": [
       "Friends is an American television sitcom, created by David Crane and Marta Kauffman, which aired on NBC from September 22, 1994, to May 6, 2004, lasting ten seasons.[1] With an ensemble cast starring Jennifer Aniston, Courteney Cox, Lisa Kudrow, Matt LeBlanc, Matthew Perry and David Schwimmer, the show revolves around six friends in their 20s and 30s who live in Manhattan, New York City. The series was produced by Bright/Kauffman/Crane Productions, in association with Warner Bros. Television. The original executive producers were Kevin S. Bright, Kauffman, and Crane."
      ]
     },
     "execution_count": 6,
     "metadata": {},
     "output_type": "execute_result"
    }
   ],
   "source": [
    "doc"
   ]
  },
  {
   "cell_type": "code",
   "execution_count": 7,
   "metadata": {},
   "outputs": [
    {
     "name": "stdout",
     "output_type": "stream",
     "text": [
      "\"Friends\"\n",
      "\"is\"\n",
      "\"an\"\n",
      "\"American\"\n",
      "\"television\"\n",
      "\"sitcom\"\n",
      "\",\"\n",
      "\"created\"\n",
      "\"by\"\n",
      "\"David\"\n",
      "\"Crane\"\n",
      "\"and\"\n",
      "\"Marta\"\n",
      "\"Kauffman\"\n",
      "\",\"\n",
      "\"which\"\n",
      "\"aired\"\n",
      "\"on\"\n",
      "\"NBC\"\n",
      "\"from\"\n",
      "\"September\"\n",
      "\"22\"\n",
      "\",\"\n",
      "\"1994\"\n",
      "\",\"\n",
      "\"to\"\n",
      "\"May\"\n",
      "\"6\"\n",
      "\",\"\n",
      "\"2004\"\n",
      "\",\"\n",
      "\"lasting\"\n",
      "\"ten\"\n",
      "\"seasons.[1\"\n",
      "\"]\"\n",
      "\"With\"\n",
      "\"an\"\n",
      "\"ensemble\"\n",
      "\"cast\"\n",
      "\"starring\"\n",
      "\"Jennifer\"\n",
      "\"Aniston\"\n",
      "\",\"\n",
      "\"Courteney\"\n",
      "\"Cox\"\n",
      "\",\"\n",
      "\"Lisa\"\n",
      "\"Kudrow\"\n",
      "\",\"\n",
      "\"Matt\"\n",
      "\"LeBlanc\"\n",
      "\",\"\n",
      "\"Matthew\"\n",
      "\"Perry\"\n",
      "\"and\"\n",
      "\"David\"\n",
      "\"Schwimmer\"\n",
      "\",\"\n",
      "\"the\"\n",
      "\"show\"\n",
      "\"revolves\"\n",
      "\"around\"\n",
      "\"six\"\n",
      "\"friends\"\n",
      "\"in\"\n",
      "\"their\"\n",
      "\"20s\"\n",
      "\"and\"\n",
      "\"30s\"\n",
      "\"who\"\n",
      "\"live\"\n",
      "\"in\"\n",
      "\"Manhattan\"\n",
      "\",\"\n",
      "\"New\"\n",
      "\"York\"\n",
      "\"City\"\n",
      "\".\"\n",
      "\"The\"\n",
      "\"series\"\n",
      "\"was\"\n",
      "\"produced\"\n",
      "\"by\"\n",
      "\"Bright\"\n",
      "\"/\"\n",
      "\"Kauffman\"\n",
      "\"/\"\n",
      "\"Crane\"\n",
      "\"Productions\"\n",
      "\",\"\n",
      "\"in\"\n",
      "\"association\"\n",
      "\"with\"\n",
      "\"Warner\"\n",
      "\"Bros.\"\n",
      "\"Television\"\n",
      "\".\"\n",
      "\"The\"\n",
      "\"original\"\n",
      "\"executive\"\n",
      "\"producers\"\n",
      "\"were\"\n",
      "\"Kevin\"\n",
      "\"S.\"\n",
      "\"Bright\"\n",
      "\",\"\n",
      "\"Kauffman\"\n",
      "\",\"\n",
      "\"and\"\n",
      "\"Crane\"\n",
      "\".\"\n"
     ]
    }
   ],
   "source": [
    "for token in doc:  \n",
    "    print('\"' + token.text + '\"')\n"
   ]
  },
  {
   "cell_type": "code",
   "execution_count": 8,
   "metadata": {},
   "outputs": [
    {
     "name": "stdout",
     "output_type": "stream",
     "text": [
      "Friends\t0\tfriend\tFalse\tFalse\tXxxxx\tNOUN\tNNS\n",
      "is\t8\tbe\tFalse\tFalse\txx\tAUX\tVBZ\n",
      "an\t11\tan\tFalse\tFalse\txx\tDET\tDT\n",
      "American\t14\tamerican\tFalse\tFalse\tXxxxx\tADJ\tJJ\n",
      "television\t23\ttelevision\tFalse\tFalse\txxxx\tNOUN\tNN\n",
      "sitcom\t34\tsitcom\tFalse\tFalse\txxxx\tNOUN\tNN\n",
      ",\t40\t,\tTrue\tFalse\t,\tPUNCT\t,\n",
      "created\t42\tcreate\tFalse\tFalse\txxxx\tVERB\tVBN\n",
      "by\t50\tby\tFalse\tFalse\txx\tADP\tIN\n",
      "David\t53\tDavid\tFalse\tFalse\tXxxxx\tPROPN\tNNP\n"
     ]
    }
   ],
   "source": [
    "for token in doc[:10]:      \n",
    "    print(\"{0}\\t{1}\\t{2}\\t{3}\\t{4}\\t{5}\\t{6}\\t{7}\".format(          \n",
    "      token.text,          \n",
    "      token.idx,         \n",
    "      token.lemma_,          \n",
    "      token.is_punct,          \n",
    "      token.is_space,\n",
    "      token.shape_,          \n",
    "      token.pos_,         \n",
    "      token.tag_ )) \n"
   ]
  },
  {
   "cell_type": "code",
   "execution_count": 9,
   "metadata": {},
   "outputs": [
    {
     "name": "stdout",
     "output_type": "stream",
     "text": [
      "American NORP\n",
      "David Crane PERSON\n",
      "Marta Kauffman PERSON\n",
      "NBC ORG\n",
      "September 22, 1994 DATE\n",
      "May 6, 2004 DATE\n",
      "ten CARDINAL\n",
      "Jennifer Aniston PERSON\n",
      "Courteney Cox PERSON\n",
      "Lisa Kudrow PERSON\n",
      "Matt LeBlanc PERSON\n",
      "Matthew Perry PERSON\n",
      "David Schwimmer PERSON\n",
      "six CARDINAL\n",
      "20s and 30s DATE\n",
      "Manhattan GPE\n",
      "New York City GPE\n",
      "Bright/Kauffman/Crane Productions ORG\n",
      "Warner Bros. Television ORG\n",
      "Kevin S. Bright PERSON\n",
      "Kauffman PERSON\n",
      "Crane ORG\n"
     ]
    }
   ],
   "source": [
    "for ent in doc.ents:     \n",
    "      print(ent.text, ent.label_) \n"
   ]
  },
  {
   "cell_type": "code",
   "execution_count": 10,
   "metadata": {},
   "outputs": [
    {
     "data": {
      "text/html": [
       "<span class=\"tex2jax_ignore\"><div class=\"entities\" style=\"line-height: 2.5; direction: ltr\">Friends is an \n",
       "<mark class=\"entity\" style=\"background: #c887fb; padding: 0.45em 0.6em; margin: 0 0.25em; line-height: 1; border-radius: 0.35em;\">\n",
       "    American\n",
       "    <span style=\"font-size: 0.8em; font-weight: bold; line-height: 1; border-radius: 0.35em; text-transform: uppercase; vertical-align: middle; margin-left: 0.5rem\">NORP</span>\n",
       "</mark>\n",
       " television sitcom, created by \n",
       "<mark class=\"entity\" style=\"background: #aa9cfc; padding: 0.45em 0.6em; margin: 0 0.25em; line-height: 1; border-radius: 0.35em;\">\n",
       "    David Crane\n",
       "    <span style=\"font-size: 0.8em; font-weight: bold; line-height: 1; border-radius: 0.35em; text-transform: uppercase; vertical-align: middle; margin-left: 0.5rem\">PERSON</span>\n",
       "</mark>\n",
       " and \n",
       "<mark class=\"entity\" style=\"background: #aa9cfc; padding: 0.45em 0.6em; margin: 0 0.25em; line-height: 1; border-radius: 0.35em;\">\n",
       "    Marta Kauffman\n",
       "    <span style=\"font-size: 0.8em; font-weight: bold; line-height: 1; border-radius: 0.35em; text-transform: uppercase; vertical-align: middle; margin-left: 0.5rem\">PERSON</span>\n",
       "</mark>\n",
       ", which aired on \n",
       "<mark class=\"entity\" style=\"background: #7aecec; padding: 0.45em 0.6em; margin: 0 0.25em; line-height: 1; border-radius: 0.35em;\">\n",
       "    NBC\n",
       "    <span style=\"font-size: 0.8em; font-weight: bold; line-height: 1; border-radius: 0.35em; text-transform: uppercase; vertical-align: middle; margin-left: 0.5rem\">ORG</span>\n",
       "</mark>\n",
       " from \n",
       "<mark class=\"entity\" style=\"background: #bfe1d9; padding: 0.45em 0.6em; margin: 0 0.25em; line-height: 1; border-radius: 0.35em;\">\n",
       "    September 22, 1994\n",
       "    <span style=\"font-size: 0.8em; font-weight: bold; line-height: 1; border-radius: 0.35em; text-transform: uppercase; vertical-align: middle; margin-left: 0.5rem\">DATE</span>\n",
       "</mark>\n",
       ", to \n",
       "<mark class=\"entity\" style=\"background: #bfe1d9; padding: 0.45em 0.6em; margin: 0 0.25em; line-height: 1; border-radius: 0.35em;\">\n",
       "    May 6, 2004\n",
       "    <span style=\"font-size: 0.8em; font-weight: bold; line-height: 1; border-radius: 0.35em; text-transform: uppercase; vertical-align: middle; margin-left: 0.5rem\">DATE</span>\n",
       "</mark>\n",
       ", lasting \n",
       "<mark class=\"entity\" style=\"background: #e4e7d2; padding: 0.45em 0.6em; margin: 0 0.25em; line-height: 1; border-radius: 0.35em;\">\n",
       "    ten\n",
       "    <span style=\"font-size: 0.8em; font-weight: bold; line-height: 1; border-radius: 0.35em; text-transform: uppercase; vertical-align: middle; margin-left: 0.5rem\">CARDINAL</span>\n",
       "</mark>\n",
       " seasons.[1] With an ensemble cast starring \n",
       "<mark class=\"entity\" style=\"background: #aa9cfc; padding: 0.45em 0.6em; margin: 0 0.25em; line-height: 1; border-radius: 0.35em;\">\n",
       "    Jennifer Aniston\n",
       "    <span style=\"font-size: 0.8em; font-weight: bold; line-height: 1; border-radius: 0.35em; text-transform: uppercase; vertical-align: middle; margin-left: 0.5rem\">PERSON</span>\n",
       "</mark>\n",
       ", \n",
       "<mark class=\"entity\" style=\"background: #aa9cfc; padding: 0.45em 0.6em; margin: 0 0.25em; line-height: 1; border-radius: 0.35em;\">\n",
       "    Courteney Cox\n",
       "    <span style=\"font-size: 0.8em; font-weight: bold; line-height: 1; border-radius: 0.35em; text-transform: uppercase; vertical-align: middle; margin-left: 0.5rem\">PERSON</span>\n",
       "</mark>\n",
       ", \n",
       "<mark class=\"entity\" style=\"background: #aa9cfc; padding: 0.45em 0.6em; margin: 0 0.25em; line-height: 1; border-radius: 0.35em;\">\n",
       "    Lisa Kudrow\n",
       "    <span style=\"font-size: 0.8em; font-weight: bold; line-height: 1; border-radius: 0.35em; text-transform: uppercase; vertical-align: middle; margin-left: 0.5rem\">PERSON</span>\n",
       "</mark>\n",
       ", \n",
       "<mark class=\"entity\" style=\"background: #aa9cfc; padding: 0.45em 0.6em; margin: 0 0.25em; line-height: 1; border-radius: 0.35em;\">\n",
       "    Matt LeBlanc\n",
       "    <span style=\"font-size: 0.8em; font-weight: bold; line-height: 1; border-radius: 0.35em; text-transform: uppercase; vertical-align: middle; margin-left: 0.5rem\">PERSON</span>\n",
       "</mark>\n",
       ", \n",
       "<mark class=\"entity\" style=\"background: #aa9cfc; padding: 0.45em 0.6em; margin: 0 0.25em; line-height: 1; border-radius: 0.35em;\">\n",
       "    Matthew Perry\n",
       "    <span style=\"font-size: 0.8em; font-weight: bold; line-height: 1; border-radius: 0.35em; text-transform: uppercase; vertical-align: middle; margin-left: 0.5rem\">PERSON</span>\n",
       "</mark>\n",
       " and \n",
       "<mark class=\"entity\" style=\"background: #aa9cfc; padding: 0.45em 0.6em; margin: 0 0.25em; line-height: 1; border-radius: 0.35em;\">\n",
       "    David Schwimmer\n",
       "    <span style=\"font-size: 0.8em; font-weight: bold; line-height: 1; border-radius: 0.35em; text-transform: uppercase; vertical-align: middle; margin-left: 0.5rem\">PERSON</span>\n",
       "</mark>\n",
       ", the show revolves around \n",
       "<mark class=\"entity\" style=\"background: #e4e7d2; padding: 0.45em 0.6em; margin: 0 0.25em; line-height: 1; border-radius: 0.35em;\">\n",
       "    six\n",
       "    <span style=\"font-size: 0.8em; font-weight: bold; line-height: 1; border-radius: 0.35em; text-transform: uppercase; vertical-align: middle; margin-left: 0.5rem\">CARDINAL</span>\n",
       "</mark>\n",
       " friends in their \n",
       "<mark class=\"entity\" style=\"background: #bfe1d9; padding: 0.45em 0.6em; margin: 0 0.25em; line-height: 1; border-radius: 0.35em;\">\n",
       "    20s and 30s\n",
       "    <span style=\"font-size: 0.8em; font-weight: bold; line-height: 1; border-radius: 0.35em; text-transform: uppercase; vertical-align: middle; margin-left: 0.5rem\">DATE</span>\n",
       "</mark>\n",
       " who live in \n",
       "<mark class=\"entity\" style=\"background: #feca74; padding: 0.45em 0.6em; margin: 0 0.25em; line-height: 1; border-radius: 0.35em;\">\n",
       "    Manhattan\n",
       "    <span style=\"font-size: 0.8em; font-weight: bold; line-height: 1; border-radius: 0.35em; text-transform: uppercase; vertical-align: middle; margin-left: 0.5rem\">GPE</span>\n",
       "</mark>\n",
       ", \n",
       "<mark class=\"entity\" style=\"background: #feca74; padding: 0.45em 0.6em; margin: 0 0.25em; line-height: 1; border-radius: 0.35em;\">\n",
       "    New York City\n",
       "    <span style=\"font-size: 0.8em; font-weight: bold; line-height: 1; border-radius: 0.35em; text-transform: uppercase; vertical-align: middle; margin-left: 0.5rem\">GPE</span>\n",
       "</mark>\n",
       ". The series was produced by \n",
       "<mark class=\"entity\" style=\"background: #7aecec; padding: 0.45em 0.6em; margin: 0 0.25em; line-height: 1; border-radius: 0.35em;\">\n",
       "    Bright/Kauffman/Crane Productions\n",
       "    <span style=\"font-size: 0.8em; font-weight: bold; line-height: 1; border-radius: 0.35em; text-transform: uppercase; vertical-align: middle; margin-left: 0.5rem\">ORG</span>\n",
       "</mark>\n",
       ", in association with \n",
       "<mark class=\"entity\" style=\"background: #7aecec; padding: 0.45em 0.6em; margin: 0 0.25em; line-height: 1; border-radius: 0.35em;\">\n",
       "    Warner Bros. Television\n",
       "    <span style=\"font-size: 0.8em; font-weight: bold; line-height: 1; border-radius: 0.35em; text-transform: uppercase; vertical-align: middle; margin-left: 0.5rem\">ORG</span>\n",
       "</mark>\n",
       ". The original executive producers were \n",
       "<mark class=\"entity\" style=\"background: #aa9cfc; padding: 0.45em 0.6em; margin: 0 0.25em; line-height: 1; border-radius: 0.35em;\">\n",
       "    Kevin S. Bright\n",
       "    <span style=\"font-size: 0.8em; font-weight: bold; line-height: 1; border-radius: 0.35em; text-transform: uppercase; vertical-align: middle; margin-left: 0.5rem\">PERSON</span>\n",
       "</mark>\n",
       ", \n",
       "<mark class=\"entity\" style=\"background: #aa9cfc; padding: 0.45em 0.6em; margin: 0 0.25em; line-height: 1; border-radius: 0.35em;\">\n",
       "    Kauffman\n",
       "    <span style=\"font-size: 0.8em; font-weight: bold; line-height: 1; border-radius: 0.35em; text-transform: uppercase; vertical-align: middle; margin-left: 0.5rem\">PERSON</span>\n",
       "</mark>\n",
       ", and \n",
       "<mark class=\"entity\" style=\"background: #7aecec; padding: 0.45em 0.6em; margin: 0 0.25em; line-height: 1; border-radius: 0.35em;\">\n",
       "    Crane\n",
       "    <span style=\"font-size: 0.8em; font-weight: bold; line-height: 1; border-radius: 0.35em; text-transform: uppercase; vertical-align: middle; margin-left: 0.5rem\">ORG</span>\n",
       "</mark>\n",
       ".</div></span>"
      ],
      "text/plain": [
       "<IPython.core.display.HTML object>"
      ]
     },
     "metadata": {},
     "output_type": "display_data"
    }
   ],
   "source": [
    "from spacy import displacy  \n",
    "displacy.render(doc, style='ent', jupyter=True)\n"
   ]
  },
  {
   "cell_type": "code",
   "execution_count": 11,
   "metadata": {},
   "outputs": [
    {
     "name": "stdout",
     "output_type": "stream",
     "text": [
      "Friends is an American television sitcom, created by David Crane and Marta Kauffman, which aired on NBC from September 22, 1994, to May 6, 2004, lasting ten seasons.[1] With an ensemble cast starring Jennifer Aniston, Courteney Cox, Lisa Kudrow, Matt LeBlanc, Matthew Perry and David Schwimmer, the show revolves around six friends in their 20s and 30s who live in Manhattan, New York City.\n",
      "The series was produced by Bright/Kauffman/Crane Productions, in association with Warner Bros. Television.\n",
      "The original executive producers were Kevin S. Bright, Kauffman, and Crane.\n"
     ]
    }
   ],
   "source": [
    "for sent in doc.sents:  \n",
    "    print(sent)\n"
   ]
  },
  {
   "cell_type": "code",
   "execution_count": 12,
   "metadata": {},
   "outputs": [
    {
     "data": {
      "text/plain": [
       "<generator at 0x245cf288a48>"
      ]
     },
     "execution_count": 12,
     "metadata": {},
     "output_type": "execute_result"
    }
   ],
   "source": [
    "doc.sents"
   ]
  },
  {
   "cell_type": "code",
   "execution_count": 13,
   "metadata": {},
   "outputs": [
    {
     "data": {
      "text/plain": [
       "[Friends is an American television sitcom, created by David Crane and Marta Kauffman, which aired on NBC from September 22, 1994, to May 6, 2004, lasting ten seasons.[1] With an ensemble cast starring Jennifer Aniston, Courteney Cox, Lisa Kudrow, Matt LeBlanc, Matthew Perry and David Schwimmer, the show revolves around six friends in their 20s and 30s who live in Manhattan, New York City.,\n",
       " The series was produced by Bright/Kauffman/Crane Productions, in association with Warner Bros. Television.,\n",
       " The original executive producers were Kevin S. Bright, Kauffman, and Crane.]"
      ]
     },
     "execution_count": 13,
     "metadata": {},
     "output_type": "execute_result"
    }
   ],
   "source": [
    "list(doc.sents)"
   ]
  },
  {
   "cell_type": "code",
   "execution_count": 14,
   "metadata": {},
   "outputs": [
    {
     "name": "stdout",
     "output_type": "stream",
     "text": [
      "The/DT <--det-- series/NN\n",
      "series/NN <--nsubjpass-- produced/VBN\n",
      "was/VBD <--auxpass-- produced/VBN\n",
      "produced/VBN <--ROOT-- produced/VBN\n",
      "by/IN <--agent-- produced/VBN\n",
      "Bright/NNP <--nmod-- Productions/NNPS\n",
      "//SYM <--punct-- Crane/NNP\n",
      "Kauffman/NNP <--nmod-- Crane/NNP\n",
      "//SYM <--punct-- Crane/NNP\n",
      "Crane/NNP <--compound-- Productions/NNPS\n",
      "Productions/NNPS <--pobj-- by/IN\n",
      ",/, <--punct-- produced/VBN\n",
      "in/IN <--prep-- produced/VBN\n",
      "association/NN <--pobj-- in/IN\n",
      "with/IN <--prep-- association/NN\n",
      "Warner/NNP <--compound-- Television/NNP\n",
      "Bros./NNPS <--compound-- Television/NNP\n",
      "Television/NNP <--pobj-- with/IN\n",
      "./. <--punct-- produced/VBN\n"
     ]
    }
   ],
   "source": [
    "newdoc = nlp(list(doc.sents)[1].text)  \n",
    "for token in newdoc:\n",
    "    print(\"{0}/{1} <--{2}-- {3}/{4}\".format(         \n",
    "        token.text, token.tag_, token.dep_, token.head.text, token.head.tag_)) \n"
   ]
  },
  {
   "cell_type": "code",
   "execution_count": 15,
   "metadata": {},
   "outputs": [
    {
     "data": {
      "text/plain": [
       "The series was produced by Bright/Kauffman/Crane Productions, in association with Warner Bros. Television."
      ]
     },
     "execution_count": 15,
     "metadata": {},
     "output_type": "execute_result"
    }
   ],
   "source": [
    "newdoc"
   ]
  },
  {
   "cell_type": "code",
   "execution_count": 16,
   "metadata": {},
   "outputs": [
    {
     "data": {
      "text/html": [
       "<span class=\"tex2jax_ignore\"><svg xmlns=\"http://www.w3.org/2000/svg\" xmlns:xlink=\"http://www.w3.org/1999/xlink\" xml:lang=\"en\" id=\"d5dc95738361413ca6bd49f0d6fabcc2-0\" class=\"displacy\" width=\"1400\" height=\"362.0\" direction=\"ltr\" style=\"max-width: none; height: 362.0px; color: #000000; background: #ffffff; font-family: Arial; direction: ltr\">\n",
       "<text class=\"displacy-token\" fill=\"currentColor\" text-anchor=\"middle\" y=\"272.0\">\n",
       "    <tspan class=\"displacy-word\" fill=\"currentColor\" x=\"50\">The</tspan>\n",
       "    <tspan class=\"displacy-tag\" dy=\"2em\" fill=\"currentColor\" x=\"50\">DET</tspan>\n",
       "</text>\n",
       "\n",
       "<text class=\"displacy-token\" fill=\"currentColor\" text-anchor=\"middle\" y=\"272.0\">\n",
       "    <tspan class=\"displacy-word\" fill=\"currentColor\" x=\"140\">series</tspan>\n",
       "    <tspan class=\"displacy-tag\" dy=\"2em\" fill=\"currentColor\" x=\"140\">NOUN</tspan>\n",
       "</text>\n",
       "\n",
       "<text class=\"displacy-token\" fill=\"currentColor\" text-anchor=\"middle\" y=\"272.0\">\n",
       "    <tspan class=\"displacy-word\" fill=\"currentColor\" x=\"230\">was</tspan>\n",
       "    <tspan class=\"displacy-tag\" dy=\"2em\" fill=\"currentColor\" x=\"230\">AUX</tspan>\n",
       "</text>\n",
       "\n",
       "<text class=\"displacy-token\" fill=\"currentColor\" text-anchor=\"middle\" y=\"272.0\">\n",
       "    <tspan class=\"displacy-word\" fill=\"currentColor\" x=\"320\">produced</tspan>\n",
       "    <tspan class=\"displacy-tag\" dy=\"2em\" fill=\"currentColor\" x=\"320\">VERB</tspan>\n",
       "</text>\n",
       "\n",
       "<text class=\"displacy-token\" fill=\"currentColor\" text-anchor=\"middle\" y=\"272.0\">\n",
       "    <tspan class=\"displacy-word\" fill=\"currentColor\" x=\"410\">by</tspan>\n",
       "    <tspan class=\"displacy-tag\" dy=\"2em\" fill=\"currentColor\" x=\"410\">ADP</tspan>\n",
       "</text>\n",
       "\n",
       "<text class=\"displacy-token\" fill=\"currentColor\" text-anchor=\"middle\" y=\"272.0\">\n",
       "    <tspan class=\"displacy-word\" fill=\"currentColor\" x=\"500\">Bright/</tspan>\n",
       "    <tspan class=\"displacy-tag\" dy=\"2em\" fill=\"currentColor\" x=\"500\">PROPN</tspan>\n",
       "</text>\n",
       "\n",
       "<text class=\"displacy-token\" fill=\"currentColor\" text-anchor=\"middle\" y=\"272.0\">\n",
       "    <tspan class=\"displacy-word\" fill=\"currentColor\" x=\"590\">Kauffman/</tspan>\n",
       "    <tspan class=\"displacy-tag\" dy=\"2em\" fill=\"currentColor\" x=\"590\">PROPN</tspan>\n",
       "</text>\n",
       "\n",
       "<text class=\"displacy-token\" fill=\"currentColor\" text-anchor=\"middle\" y=\"272.0\">\n",
       "    <tspan class=\"displacy-word\" fill=\"currentColor\" x=\"680\">Crane</tspan>\n",
       "    <tspan class=\"displacy-tag\" dy=\"2em\" fill=\"currentColor\" x=\"680\">PROPN</tspan>\n",
       "</text>\n",
       "\n",
       "<text class=\"displacy-token\" fill=\"currentColor\" text-anchor=\"middle\" y=\"272.0\">\n",
       "    <tspan class=\"displacy-word\" fill=\"currentColor\" x=\"770\">Productions,</tspan>\n",
       "    <tspan class=\"displacy-tag\" dy=\"2em\" fill=\"currentColor\" x=\"770\">PROPN</tspan>\n",
       "</text>\n",
       "\n",
       "<text class=\"displacy-token\" fill=\"currentColor\" text-anchor=\"middle\" y=\"272.0\">\n",
       "    <tspan class=\"displacy-word\" fill=\"currentColor\" x=\"860\">in</tspan>\n",
       "    <tspan class=\"displacy-tag\" dy=\"2em\" fill=\"currentColor\" x=\"860\">ADP</tspan>\n",
       "</text>\n",
       "\n",
       "<text class=\"displacy-token\" fill=\"currentColor\" text-anchor=\"middle\" y=\"272.0\">\n",
       "    <tspan class=\"displacy-word\" fill=\"currentColor\" x=\"950\">association</tspan>\n",
       "    <tspan class=\"displacy-tag\" dy=\"2em\" fill=\"currentColor\" x=\"950\">NOUN</tspan>\n",
       "</text>\n",
       "\n",
       "<text class=\"displacy-token\" fill=\"currentColor\" text-anchor=\"middle\" y=\"272.0\">\n",
       "    <tspan class=\"displacy-word\" fill=\"currentColor\" x=\"1040\">with</tspan>\n",
       "    <tspan class=\"displacy-tag\" dy=\"2em\" fill=\"currentColor\" x=\"1040\">ADP</tspan>\n",
       "</text>\n",
       "\n",
       "<text class=\"displacy-token\" fill=\"currentColor\" text-anchor=\"middle\" y=\"272.0\">\n",
       "    <tspan class=\"displacy-word\" fill=\"currentColor\" x=\"1130\">Warner</tspan>\n",
       "    <tspan class=\"displacy-tag\" dy=\"2em\" fill=\"currentColor\" x=\"1130\">PROPN</tspan>\n",
       "</text>\n",
       "\n",
       "<text class=\"displacy-token\" fill=\"currentColor\" text-anchor=\"middle\" y=\"272.0\">\n",
       "    <tspan class=\"displacy-word\" fill=\"currentColor\" x=\"1220\">Bros.</tspan>\n",
       "    <tspan class=\"displacy-tag\" dy=\"2em\" fill=\"currentColor\" x=\"1220\">PROPN</tspan>\n",
       "</text>\n",
       "\n",
       "<text class=\"displacy-token\" fill=\"currentColor\" text-anchor=\"middle\" y=\"272.0\">\n",
       "    <tspan class=\"displacy-word\" fill=\"currentColor\" x=\"1310\">Television.</tspan>\n",
       "    <tspan class=\"displacy-tag\" dy=\"2em\" fill=\"currentColor\" x=\"1310\">PROPN</tspan>\n",
       "</text>\n",
       "\n",
       "<g class=\"displacy-arrow\">\n",
       "    <path class=\"displacy-arc\" id=\"arrow-d5dc95738361413ca6bd49f0d6fabcc2-0-0\" stroke-width=\"2px\" d=\"M70,227.0 C70,182.0 120.0,182.0 120.0,227.0\" fill=\"none\" stroke=\"currentColor\"/>\n",
       "    <text dy=\"1.25em\" style=\"font-size: 0.8em; letter-spacing: 1px\">\n",
       "        <textPath xlink:href=\"#arrow-d5dc95738361413ca6bd49f0d6fabcc2-0-0\" class=\"displacy-label\" startOffset=\"50%\" side=\"left\" fill=\"currentColor\" text-anchor=\"middle\">det</textPath>\n",
       "    </text>\n",
       "    <path class=\"displacy-arrowhead\" d=\"M70,229.0 L62,217.0 78,217.0\" fill=\"currentColor\"/>\n",
       "</g>\n",
       "\n",
       "<g class=\"displacy-arrow\">\n",
       "    <path class=\"displacy-arc\" id=\"arrow-d5dc95738361413ca6bd49f0d6fabcc2-0-1\" stroke-width=\"2px\" d=\"M160,227.0 C160,137.0 305.0,137.0 305.0,227.0\" fill=\"none\" stroke=\"currentColor\"/>\n",
       "    <text dy=\"1.25em\" style=\"font-size: 0.8em; letter-spacing: 1px\">\n",
       "        <textPath xlink:href=\"#arrow-d5dc95738361413ca6bd49f0d6fabcc2-0-1\" class=\"displacy-label\" startOffset=\"50%\" side=\"left\" fill=\"currentColor\" text-anchor=\"middle\">nsubjpass</textPath>\n",
       "    </text>\n",
       "    <path class=\"displacy-arrowhead\" d=\"M160,229.0 L152,217.0 168,217.0\" fill=\"currentColor\"/>\n",
       "</g>\n",
       "\n",
       "<g class=\"displacy-arrow\">\n",
       "    <path class=\"displacy-arc\" id=\"arrow-d5dc95738361413ca6bd49f0d6fabcc2-0-2\" stroke-width=\"2px\" d=\"M250,227.0 C250,182.0 300.0,182.0 300.0,227.0\" fill=\"none\" stroke=\"currentColor\"/>\n",
       "    <text dy=\"1.25em\" style=\"font-size: 0.8em; letter-spacing: 1px\">\n",
       "        <textPath xlink:href=\"#arrow-d5dc95738361413ca6bd49f0d6fabcc2-0-2\" class=\"displacy-label\" startOffset=\"50%\" side=\"left\" fill=\"currentColor\" text-anchor=\"middle\">auxpass</textPath>\n",
       "    </text>\n",
       "    <path class=\"displacy-arrowhead\" d=\"M250,229.0 L242,217.0 258,217.0\" fill=\"currentColor\"/>\n",
       "</g>\n",
       "\n",
       "<g class=\"displacy-arrow\">\n",
       "    <path class=\"displacy-arc\" id=\"arrow-d5dc95738361413ca6bd49f0d6fabcc2-0-3\" stroke-width=\"2px\" d=\"M340,227.0 C340,182.0 390.0,182.0 390.0,227.0\" fill=\"none\" stroke=\"currentColor\"/>\n",
       "    <text dy=\"1.25em\" style=\"font-size: 0.8em; letter-spacing: 1px\">\n",
       "        <textPath xlink:href=\"#arrow-d5dc95738361413ca6bd49f0d6fabcc2-0-3\" class=\"displacy-label\" startOffset=\"50%\" side=\"left\" fill=\"currentColor\" text-anchor=\"middle\">agent</textPath>\n",
       "    </text>\n",
       "    <path class=\"displacy-arrowhead\" d=\"M390.0,229.0 L398.0,217.0 382.0,217.0\" fill=\"currentColor\"/>\n",
       "</g>\n",
       "\n",
       "<g class=\"displacy-arrow\">\n",
       "    <path class=\"displacy-arc\" id=\"arrow-d5dc95738361413ca6bd49f0d6fabcc2-0-4\" stroke-width=\"2px\" d=\"M520,227.0 C520,92.0 760.0,92.0 760.0,227.0\" fill=\"none\" stroke=\"currentColor\"/>\n",
       "    <text dy=\"1.25em\" style=\"font-size: 0.8em; letter-spacing: 1px\">\n",
       "        <textPath xlink:href=\"#arrow-d5dc95738361413ca6bd49f0d6fabcc2-0-4\" class=\"displacy-label\" startOffset=\"50%\" side=\"left\" fill=\"currentColor\" text-anchor=\"middle\">nmod</textPath>\n",
       "    </text>\n",
       "    <path class=\"displacy-arrowhead\" d=\"M520,229.0 L512,217.0 528,217.0\" fill=\"currentColor\"/>\n",
       "</g>\n",
       "\n",
       "<g class=\"displacy-arrow\">\n",
       "    <path class=\"displacy-arc\" id=\"arrow-d5dc95738361413ca6bd49f0d6fabcc2-0-5\" stroke-width=\"2px\" d=\"M610,227.0 C610,182.0 660.0,182.0 660.0,227.0\" fill=\"none\" stroke=\"currentColor\"/>\n",
       "    <text dy=\"1.25em\" style=\"font-size: 0.8em; letter-spacing: 1px\">\n",
       "        <textPath xlink:href=\"#arrow-d5dc95738361413ca6bd49f0d6fabcc2-0-5\" class=\"displacy-label\" startOffset=\"50%\" side=\"left\" fill=\"currentColor\" text-anchor=\"middle\">nmod</textPath>\n",
       "    </text>\n",
       "    <path class=\"displacy-arrowhead\" d=\"M610,229.0 L602,217.0 618,217.0\" fill=\"currentColor\"/>\n",
       "</g>\n",
       "\n",
       "<g class=\"displacy-arrow\">\n",
       "    <path class=\"displacy-arc\" id=\"arrow-d5dc95738361413ca6bd49f0d6fabcc2-0-6\" stroke-width=\"2px\" d=\"M700,227.0 C700,182.0 750.0,182.0 750.0,227.0\" fill=\"none\" stroke=\"currentColor\"/>\n",
       "    <text dy=\"1.25em\" style=\"font-size: 0.8em; letter-spacing: 1px\">\n",
       "        <textPath xlink:href=\"#arrow-d5dc95738361413ca6bd49f0d6fabcc2-0-6\" class=\"displacy-label\" startOffset=\"50%\" side=\"left\" fill=\"currentColor\" text-anchor=\"middle\">compound</textPath>\n",
       "    </text>\n",
       "    <path class=\"displacy-arrowhead\" d=\"M700,229.0 L692,217.0 708,217.0\" fill=\"currentColor\"/>\n",
       "</g>\n",
       "\n",
       "<g class=\"displacy-arrow\">\n",
       "    <path class=\"displacy-arc\" id=\"arrow-d5dc95738361413ca6bd49f0d6fabcc2-0-7\" stroke-width=\"2px\" d=\"M430,227.0 C430,47.0 765.0,47.0 765.0,227.0\" fill=\"none\" stroke=\"currentColor\"/>\n",
       "    <text dy=\"1.25em\" style=\"font-size: 0.8em; letter-spacing: 1px\">\n",
       "        <textPath xlink:href=\"#arrow-d5dc95738361413ca6bd49f0d6fabcc2-0-7\" class=\"displacy-label\" startOffset=\"50%\" side=\"left\" fill=\"currentColor\" text-anchor=\"middle\">pobj</textPath>\n",
       "    </text>\n",
       "    <path class=\"displacy-arrowhead\" d=\"M765.0,229.0 L773.0,217.0 757.0,217.0\" fill=\"currentColor\"/>\n",
       "</g>\n",
       "\n",
       "<g class=\"displacy-arrow\">\n",
       "    <path class=\"displacy-arc\" id=\"arrow-d5dc95738361413ca6bd49f0d6fabcc2-0-8\" stroke-width=\"2px\" d=\"M340,227.0 C340,2.0 860.0,2.0 860.0,227.0\" fill=\"none\" stroke=\"currentColor\"/>\n",
       "    <text dy=\"1.25em\" style=\"font-size: 0.8em; letter-spacing: 1px\">\n",
       "        <textPath xlink:href=\"#arrow-d5dc95738361413ca6bd49f0d6fabcc2-0-8\" class=\"displacy-label\" startOffset=\"50%\" side=\"left\" fill=\"currentColor\" text-anchor=\"middle\">prep</textPath>\n",
       "    </text>\n",
       "    <path class=\"displacy-arrowhead\" d=\"M860.0,229.0 L868.0,217.0 852.0,217.0\" fill=\"currentColor\"/>\n",
       "</g>\n",
       "\n",
       "<g class=\"displacy-arrow\">\n",
       "    <path class=\"displacy-arc\" id=\"arrow-d5dc95738361413ca6bd49f0d6fabcc2-0-9\" stroke-width=\"2px\" d=\"M880,227.0 C880,182.0 930.0,182.0 930.0,227.0\" fill=\"none\" stroke=\"currentColor\"/>\n",
       "    <text dy=\"1.25em\" style=\"font-size: 0.8em; letter-spacing: 1px\">\n",
       "        <textPath xlink:href=\"#arrow-d5dc95738361413ca6bd49f0d6fabcc2-0-9\" class=\"displacy-label\" startOffset=\"50%\" side=\"left\" fill=\"currentColor\" text-anchor=\"middle\">pobj</textPath>\n",
       "    </text>\n",
       "    <path class=\"displacy-arrowhead\" d=\"M930.0,229.0 L938.0,217.0 922.0,217.0\" fill=\"currentColor\"/>\n",
       "</g>\n",
       "\n",
       "<g class=\"displacy-arrow\">\n",
       "    <path class=\"displacy-arc\" id=\"arrow-d5dc95738361413ca6bd49f0d6fabcc2-0-10\" stroke-width=\"2px\" d=\"M970,227.0 C970,182.0 1020.0,182.0 1020.0,227.0\" fill=\"none\" stroke=\"currentColor\"/>\n",
       "    <text dy=\"1.25em\" style=\"font-size: 0.8em; letter-spacing: 1px\">\n",
       "        <textPath xlink:href=\"#arrow-d5dc95738361413ca6bd49f0d6fabcc2-0-10\" class=\"displacy-label\" startOffset=\"50%\" side=\"left\" fill=\"currentColor\" text-anchor=\"middle\">prep</textPath>\n",
       "    </text>\n",
       "    <path class=\"displacy-arrowhead\" d=\"M1020.0,229.0 L1028.0,217.0 1012.0,217.0\" fill=\"currentColor\"/>\n",
       "</g>\n",
       "\n",
       "<g class=\"displacy-arrow\">\n",
       "    <path class=\"displacy-arc\" id=\"arrow-d5dc95738361413ca6bd49f0d6fabcc2-0-11\" stroke-width=\"2px\" d=\"M1150,227.0 C1150,137.0 1295.0,137.0 1295.0,227.0\" fill=\"none\" stroke=\"currentColor\"/>\n",
       "    <text dy=\"1.25em\" style=\"font-size: 0.8em; letter-spacing: 1px\">\n",
       "        <textPath xlink:href=\"#arrow-d5dc95738361413ca6bd49f0d6fabcc2-0-11\" class=\"displacy-label\" startOffset=\"50%\" side=\"left\" fill=\"currentColor\" text-anchor=\"middle\">compound</textPath>\n",
       "    </text>\n",
       "    <path class=\"displacy-arrowhead\" d=\"M1150,229.0 L1142,217.0 1158,217.0\" fill=\"currentColor\"/>\n",
       "</g>\n",
       "\n",
       "<g class=\"displacy-arrow\">\n",
       "    <path class=\"displacy-arc\" id=\"arrow-d5dc95738361413ca6bd49f0d6fabcc2-0-12\" stroke-width=\"2px\" d=\"M1240,227.0 C1240,182.0 1290.0,182.0 1290.0,227.0\" fill=\"none\" stroke=\"currentColor\"/>\n",
       "    <text dy=\"1.25em\" style=\"font-size: 0.8em; letter-spacing: 1px\">\n",
       "        <textPath xlink:href=\"#arrow-d5dc95738361413ca6bd49f0d6fabcc2-0-12\" class=\"displacy-label\" startOffset=\"50%\" side=\"left\" fill=\"currentColor\" text-anchor=\"middle\">compound</textPath>\n",
       "    </text>\n",
       "    <path class=\"displacy-arrowhead\" d=\"M1240,229.0 L1232,217.0 1248,217.0\" fill=\"currentColor\"/>\n",
       "</g>\n",
       "\n",
       "<g class=\"displacy-arrow\">\n",
       "    <path class=\"displacy-arc\" id=\"arrow-d5dc95738361413ca6bd49f0d6fabcc2-0-13\" stroke-width=\"2px\" d=\"M1060,227.0 C1060,92.0 1300.0,92.0 1300.0,227.0\" fill=\"none\" stroke=\"currentColor\"/>\n",
       "    <text dy=\"1.25em\" style=\"font-size: 0.8em; letter-spacing: 1px\">\n",
       "        <textPath xlink:href=\"#arrow-d5dc95738361413ca6bd49f0d6fabcc2-0-13\" class=\"displacy-label\" startOffset=\"50%\" side=\"left\" fill=\"currentColor\" text-anchor=\"middle\">pobj</textPath>\n",
       "    </text>\n",
       "    <path class=\"displacy-arrowhead\" d=\"M1300.0,229.0 L1308.0,217.0 1292.0,217.0\" fill=\"currentColor\"/>\n",
       "</g>\n",
       "</svg></span>"
      ],
      "text/plain": [
       "<IPython.core.display.HTML object>"
      ]
     },
     "metadata": {},
     "output_type": "display_data"
    }
   ],
   "source": [
    "displacy.render(newdoc, style='dep', jupyter=True, options={'distance': 90})"
   ]
  },
  {
   "cell_type": "code",
   "execution_count": 17,
   "metadata": {},
   "outputs": [],
   "source": [
    "nlp = spacy.load('en_core_web_lg')  "
   ]
  },
  {
   "cell_type": "code",
   "execution_count": 19,
   "metadata": {
    "scrolled": true
   },
   "outputs": [
    {
     "name": "stdout",
     "output_type": "stream",
     "text": [
      "[-2.0740e-02  4.2632e-01  5.9367e-01 -9.0906e-02 -8.9114e-02  2.4806e-02\n",
      "  5.1282e-01 -7.4682e-02  3.7606e-01  6.1082e-01 -8.4280e-01  7.9367e-02\n",
      "  1.1851e-05 -1.2885e-01 -9.6593e-02  4.5638e-01  1.6055e-03  7.5215e-01\n",
      "  2.5594e-01 -2.0861e-01  4.8442e-01  3.2337e-02  3.1784e-01 -2.3701e-01\n",
      "  2.6684e-01 -3.2749e-02 -5.9444e-01 -3.0884e-01 -2.8215e-01  3.2193e-01\n",
      " -3.0831e-01 -3.0631e-01  2.8587e-01  2.4943e-01 -3.5980e-01  4.3492e-01\n",
      "  2.2315e-01  1.4438e-01  2.3795e-02  1.7209e-01  2.1748e-02 -4.0441e-01\n",
      "  4.3686e-01  1.5975e-02 -1.6592e-01 -9.2730e-02 -1.9652e-01 -7.1368e-01\n",
      "  3.2649e-01  2.1061e-01 -3.1622e-01 -1.2271e-01  1.3803e-01 -1.6507e-01\n",
      "  2.3287e-01 -7.8033e-02  1.0763e-01  6.9952e-02  1.0926e-01  1.2958e-01\n",
      " -1.4595e-01 -2.8762e-01  4.2717e-01 -5.5422e-01 -2.3330e-01  1.8102e-01\n",
      " -3.4826e-01  8.8849e-02 -2.1208e-01 -5.6674e-02 -3.7342e-01  1.6941e-01\n",
      "  3.1013e-01 -1.7257e-01  5.3347e-01  2.6452e-01  3.3636e-01  4.4698e-01\n",
      "  6.6692e-02  6.6652e-01  3.2735e-01  1.6912e-01  4.3540e-02  1.3195e-01\n",
      " -3.5419e-03 -3.1081e-01  7.5044e-01 -5.9561e-01  2.0866e-01  9.1533e-02\n",
      "  2.9783e-01 -4.0653e-01  3.1414e-01 -4.8897e-01  6.2868e-02 -1.1089e-01\n",
      "  1.5552e-01  4.1102e-01 -8.4933e-03  3.3881e-01 -2.4611e-01 -2.3163e-01\n",
      "  1.2251e-01  3.9516e-01 -1.4608e-01 -6.5619e-01  5.1530e-02  1.8834e-01\n",
      "  3.8695e-01 -5.5695e-02 -1.1510e-01 -2.4372e-01  1.2256e-01  1.2011e-01\n",
      " -8.8760e-02 -4.4769e-02  2.9564e-01  4.4525e-01 -3.2016e-02 -1.1410e-01\n",
      "  3.8153e-01 -1.1108e-02 -5.7130e-01  3.1655e-01  1.2480e-01  5.5634e-01\n",
      "  3.9368e-01  1.3345e-01  1.3356e-01 -5.5388e-02  1.8787e-01 -5.7442e-01\n",
      " -3.5782e-01 -1.5097e-01 -5.8155e-03 -4.0164e-02 -4.3269e-01  1.4924e-01\n",
      "  1.6226e-02 -2.2069e-01 -1.6493e+00 -5.5801e-01 -3.2798e-02  1.8529e-01\n",
      "  2.5995e-01  5.1775e-01 -7.3559e-02  1.2705e-01  1.1110e-01  5.5532e-02\n",
      " -1.5345e-01 -1.0264e+00  3.6957e-01  1.7419e-01  3.8964e-01  2.3334e-01\n",
      " -3.2220e-01 -3.7586e-02 -1.7855e-01  2.3278e-01  7.0923e-01 -3.1201e-01\n",
      "  1.1182e-01 -2.3988e-01 -3.0116e-01  4.6292e-01 -4.6832e-01  4.3914e-01\n",
      " -1.4590e-01  4.9567e-01 -3.0757e-01  3.2792e-01 -4.3250e-01  6.3241e-01\n",
      " -4.7911e-02  4.9957e-01 -1.3555e-01  1.2627e-01  4.0922e-01  7.7625e-01\n",
      "  2.3118e-01  8.4234e-01 -1.0669e-01  5.8765e-02  2.4940e-01 -3.1939e-01\n",
      " -8.0221e-02 -9.3071e-02 -1.1786e-01 -1.7191e-01  2.0420e-01 -5.1082e-01\n",
      "  3.4586e-01 -6.2479e-02  1.8817e-01  6.9538e-01  2.7143e-01 -2.2150e-02\n",
      " -9.3897e-02 -4.5252e-02 -1.6908e-01 -1.7613e-01  2.2103e-01  2.6156e-01\n",
      "  3.8373e-01 -2.7584e-01 -9.7562e-02  5.1473e-02  1.2437e-01 -9.9249e-04\n",
      "  9.3210e-02  9.3924e-02  6.1656e-01  1.2050e-01 -2.8573e-01  1.0680e-01\n",
      " -2.4617e-01 -4.8131e-01  6.4202e-02 -5.0500e-02  3.0936e-01 -2.8830e-01\n",
      " -3.5841e-01 -2.1806e-01 -3.4282e-01  3.3098e-01  1.6253e-01 -2.2442e-01\n",
      "  3.2443e-01 -1.0859e-01 -9.6720e-02  4.7280e-01 -3.1178e-02 -2.8564e-01\n",
      " -5.1620e-01 -6.4957e-01 -1.1854e-01 -2.1813e-01  4.6280e-02 -7.1568e-02\n",
      " -1.7609e-01 -8.8755e-02 -2.8779e-01  3.2574e-01  4.0036e-01  1.5638e-01\n",
      "  7.8557e-01  8.2361e-01 -5.3307e-02 -4.9659e-01 -1.7388e-03  1.6585e-01\n",
      "  1.3754e-01 -7.8900e-01  1.3728e-01 -3.2133e-02 -4.4290e-01 -5.7252e-01\n",
      " -4.6631e-01 -2.4494e-01  3.9924e-01 -1.9613e-01 -3.8855e-01  3.4498e-01\n",
      " -4.0199e-01 -9.3989e-01 -1.4253e-01 -2.9181e-02 -1.0072e+00  2.1052e-01\n",
      " -5.2551e-01 -2.6844e-01 -3.2949e-01  6.4076e-01  2.0048e-01  7.3296e-02\n",
      "  1.4591e-01 -3.0647e-01  2.6741e-01  1.7985e-01  8.3033e-01 -1.1213e+00\n",
      " -8.7592e-02  4.4117e-02  7.5721e-01 -1.3595e-01  2.7030e-02 -8.9832e-02\n",
      "  6.0593e-01  7.1632e-01  7.9466e-02  6.0068e-01 -6.5390e-02  3.6518e-01\n",
      "  4.5658e-01 -4.4597e-01  8.8972e-02  1.8013e-01 -3.0847e-02  1.7219e-01]\n"
     ]
    }
   ],
   "source": [
    "print(nlp.vocab['September'].vector)  "
   ]
  },
  {
   "cell_type": "code",
   "execution_count": 20,
   "metadata": {},
   "outputs": [],
   "source": [
    "dog = nlp.vocab[\"dog\"]\n",
    "cat = nlp.vocab[\"cat\"]\n",
    "apple = nlp.vocab[\"apple\"]\n",
    "orange = nlp.vocab[\"orange\"]  "
   ]
  },
  {
   "cell_type": "code",
   "execution_count": 21,
   "metadata": {},
   "outputs": [
    {
     "data": {
      "text/plain": [
       "0.80168545"
      ]
     },
     "execution_count": 21,
     "metadata": {},
     "output_type": "execute_result"
    }
   ],
   "source": [
    "dog.similarity(cat)"
   ]
  },
  {
   "cell_type": "code",
   "execution_count": 22,
   "metadata": {},
   "outputs": [],
   "source": [
    "from scipy.spatial.distance import cosine"
   ]
  },
  {
   "cell_type": "code",
   "execution_count": 23,
   "metadata": {},
   "outputs": [
    {
     "data": {
      "text/plain": [
       "0.8016855120658875"
      ]
     },
     "execution_count": 23,
     "metadata": {},
     "output_type": "execute_result"
    }
   ],
   "source": [
    "1 - cosine(dog.vector, cat.vector)"
   ]
  },
  {
   "cell_type": "code",
   "execution_count": 30,
   "metadata": {},
   "outputs": [],
   "source": [
    "def vector_similarity(x, y):     \n",
    "     return 1 - cosine(x, y)\n",
    "\n",
    "def make_guess_word(words):      \n",
    "    [first, second, third] = words      \n",
    "    return nlp.vocab[first].vector - nlp.vocab[second].vector + nlp.vocab[third].vector\n"
   ]
  },
  {
   "cell_type": "code",
   "execution_count": 31,
   "metadata": {},
   "outputs": [],
   "source": [
    "def get_similar_word(words, scope=nlp.vocab):      \n",
    "    guess_word = make_guess_word(words)      \n",
    "    similarities = []      \n",
    "    for word in scope:\n",
    "        if not word.has_vector:              \n",
    "            continue          \n",
    "        similarity = vector_similarity(guess_word, word.vector)  \n",
    "        similarities.append((word, similarity))   \n",
    "    similarities = sorted(similarities, key=lambda item: -item[1])      \n",
    "    print([word[0].text for word in similarities[:10]])"
   ]
  },
  {
   "cell_type": "code",
   "execution_count": 32,
   "metadata": {},
   "outputs": [],
   "source": [
    "words = [\"king\", \"queen\", \"woman\"]"
   ]
  },
  {
   "cell_type": "code",
   "execution_count": 33,
   "metadata": {},
   "outputs": [
    {
     "name": "stdout",
     "output_type": "stream",
     "text": [
      "['woman', 'He', 'he', 'Who', 'who', 'king', 'when', 'When', 'she', 'She']\n"
     ]
    }
   ],
   "source": [
    "get_similar_word(words)"
   ]
  },
  {
   "cell_type": "code",
   "execution_count": 34,
   "metadata": {},
   "outputs": [],
   "source": [
    "words = [\"Paris\", \"London\", \"England\"]"
   ]
  },
  {
   "cell_type": "code",
   "execution_count": 35,
   "metadata": {},
   "outputs": [
    {
     "name": "stdout",
     "output_type": "stream",
     "text": [
      "['Paris', 'England', 'September', 'Mr.', 'I', 'i', 'St.', 'd', 'r.', 'queen']\n"
     ]
    }
   ],
   "source": [
    "get_similar_word(words)"
   ]
  },
  {
   "cell_type": "code",
   "execution_count": 36,
   "metadata": {},
   "outputs": [],
   "source": [
    "import numpy as np "
   ]
  },
  {
   "cell_type": "code",
   "execution_count": 37,
   "metadata": {},
   "outputs": [],
   "source": [
    "word_list = []"
   ]
  },
  {
   "cell_type": "code",
   "execution_count": 43,
   "metadata": {},
   "outputs": [
    {
     "data": {
      "text/plain": [
       "['Friends',\n",
       " 'is',\n",
       " 'an',\n",
       " 'American',\n",
       " 'television',\n",
       " 'sitcom',\n",
       " 'created',\n",
       " 'by',\n",
       " 'David',\n",
       " 'Crane',\n",
       " 'and',\n",
       " 'Marta',\n",
       " 'Kauffman',\n",
       " 'which',\n",
       " 'aired',\n",
       " 'on',\n",
       " 'NBC',\n",
       " 'from',\n",
       " 'September',\n",
       " '22',\n",
       " '1994',\n",
       " 'to',\n",
       " 'May',\n",
       " '6',\n",
       " '2004',\n",
       " 'lasting',\n",
       " 'ten',\n",
       " 'seasons.[1',\n",
       " 'With',\n",
       " 'ensemble',\n",
       " 'cast',\n",
       " 'starring',\n",
       " 'Jennifer',\n",
       " 'Aniston',\n",
       " 'Courteney',\n",
       " 'Cox',\n",
       " 'Lisa',\n",
       " 'Kudrow',\n",
       " 'Matt',\n",
       " 'LeBlanc',\n",
       " 'Matthew',\n",
       " 'Perry',\n",
       " 'Schwimmer',\n",
       " 'the',\n",
       " 'show',\n",
       " 'revolves',\n",
       " 'around',\n",
       " 'six',\n",
       " 'friends',\n",
       " 'in',\n",
       " 'their',\n",
       " '20s',\n",
       " '30s',\n",
       " 'who',\n",
       " 'live',\n",
       " 'Manhattan',\n",
       " 'New',\n",
       " 'York',\n",
       " 'City',\n",
       " 'The',\n",
       " 'series',\n",
       " 'was',\n",
       " 'produced',\n",
       " 'Bright',\n",
       " 'Productions',\n",
       " 'association',\n",
       " 'with',\n",
       " 'Warner',\n",
       " 'Bros.',\n",
       " 'Television',\n",
       " 'original',\n",
       " 'executive',\n",
       " 'producers',\n",
       " 'were',\n",
       " 'Kevin',\n",
       " 'S.']"
      ]
     },
     "execution_count": 43,
     "metadata": {},
     "output_type": "execute_result"
    }
   ],
   "source": [
    "for token in doc:\n",
    "    if not(token.is_punct) and not(token.text in word_list):   \n",
    "        word_list.append(token.text)\n",
    "word_list"
   ]
  },
  {
   "cell_type": "code",
   "execution_count": 46,
   "metadata": {},
   "outputs": [
    {
     "data": {
      "text/plain": [
       "(22800,)"
      ]
     },
     "execution_count": 46,
     "metadata": {},
     "output_type": "execute_result"
    }
   ],
   "source": [
    "embedding = np.array([])\n",
    "for word in word_list:     \n",
    "    embedding = np.append(embedding, nlp.vocab[word].vector)  \n",
    "embedding.shape"
   ]
  },
  {
   "cell_type": "code",
   "execution_count": 47,
   "metadata": {},
   "outputs": [],
   "source": [
    "embedding = embedding.reshape(len(word_list), -1)\n"
   ]
  },
  {
   "cell_type": "code",
   "execution_count": 48,
   "metadata": {},
   "outputs": [
    {
     "data": {
      "text/plain": [
       "(76, 300)"
      ]
     },
     "execution_count": 48,
     "metadata": {},
     "output_type": "execute_result"
    }
   ],
   "source": [
    "embedding.shape"
   ]
  },
  {
   "cell_type": "code",
   "execution_count": 49,
   "metadata": {},
   "outputs": [],
   "source": [
    "from sklearn.manifold import TSNE"
   ]
  },
  {
   "cell_type": "code",
   "execution_count": 50,
   "metadata": {},
   "outputs": [],
   "source": [
    "tsne = TSNE()"
   ]
  },
  {
   "cell_type": "code",
   "execution_count": 51,
   "metadata": {},
   "outputs": [],
   "source": [
    "low_dim_embedding = tsne.fit_transform(embedding)"
   ]
  },
  {
   "cell_type": "code",
   "execution_count": 52,
   "metadata": {},
   "outputs": [
    {
     "name": "stdout",
     "output_type": "stream",
     "text": [
      "Populating the interactive namespace from numpy and matplotlib\n"
     ]
    },
    {
     "name": "stderr",
     "output_type": "stream",
     "text": [
      "C:\\ProgramData\\Anaconda3\\lib\\site-packages\\IPython\\core\\magics\\pylab.py:160: UserWarning: pylab import has clobbered these variables: ['text']\n",
      "`%matplotlib` prevents importing * from pylab and numpy\n",
      "  \"\\n`%matplotlib` prevents importing * from pylab and numpy\"\n"
     ]
    }
   ],
   "source": [
    "import matplotlib.pyplot as plt  \n",
    "%pylab inline"
   ]
  },
  {
   "cell_type": "code",
   "execution_count": 55,
   "metadata": {},
   "outputs": [],
   "source": [
    "def plot_with_labels(low_dim_embs, labels, filename='tsne.PDF'):  \n",
    "    assert low_dim_embs.shape[0] >= len(labels), \"More labels than embeddings\"   \n",
    "    plt.figure(figsize=(18, 18))  # in inches  \n",
    "    for i, label in enumerate(labels):\n",
    "        x, y = low_dim_embs[i, :]          \n",
    "        plt.scatter(x, y)          \n",
    "        plt.annotate(label,\n",
    "                xy=(x, y),                   \n",
    "                xytext=(5, 2),  \n",
    "                textcoords='offset points',  \n",
    "                ha='right',                   \n",
    "                va='bottom')      \n",
    "    plt.savefig(filename) \n"
   ]
  },
  {
   "cell_type": "code",
   "execution_count": 56,
   "metadata": {},
   "outputs": [
    {
     "data": {
      "image/png": "[encoded data removed]",
      "text/plain": [
       "<Figure size 1296x1296 with 1 Axes>"
      ]
     },
     "metadata": {
      "needs_background": "light"
     },
     "output_type": "display_data"
    }
   ],
   "source": [
    "plot_with_labels(low_dim_embedding, word_list)"
   ]
  },
  {
   "cell_type": "code",
   "execution_count": null,
   "metadata": {},
   "outputs": [],
   "source": []
  }
 ],
 "metadata": {
  "kernelspec": {
   "display_name": "Python 3",
   "language": "python",
   "name": "python3"
  },
  "language_info": {
   "codemirror_mode": {
    "name": "ipython",
    "version": 3
   },
   "file_extension": ".py",
   "mimetype": "text/x-python",
   "name": "python",
   "nbconvert_exporter": "python",
   "pygments_lexer": "ipython3",
   "version": "3.7.5"
  }
 },
 "nbformat": 4,
 "nbformat_minor": 2
}
