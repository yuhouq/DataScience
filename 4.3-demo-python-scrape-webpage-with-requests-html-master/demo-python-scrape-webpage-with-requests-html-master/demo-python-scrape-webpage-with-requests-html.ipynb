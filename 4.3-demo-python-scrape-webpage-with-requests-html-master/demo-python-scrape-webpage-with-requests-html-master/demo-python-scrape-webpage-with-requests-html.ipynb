{
 "cells": [
  {
   "cell_type": "code",
   "execution_count": 1,
   "metadata": {
    "execution": {
     "iopub.execute_input": "2021-10-12T17:32:13.842143Z",
     "iopub.status.busy": "2021-10-12T17:32:13.841877Z",
     "iopub.status.idle": "2021-10-12T17:32:16.018347Z",
     "shell.execute_reply": "2021-10-12T17:32:16.017141Z",
     "shell.execute_reply.started": "2021-10-12T17:32:13.842079Z"
    }
   },
   "outputs": [
    {
     "name": "stdout",
     "output_type": "stream",
     "text": [
      "Looking in indexes: https://pypi.tuna.tsinghua.edu.cn/simple\n",
      "Requirement already satisfied: requests_html in /opt/conda/envs/python35-paddle120-env/lib/python3.7/site-packages (0.10.0)\n",
      "Requirement already satisfied: requests in /opt/conda/envs/python35-paddle120-env/lib/python3.7/site-packages (from requests_html) (2.22.0)\n",
      "Requirement already satisfied: parse in /opt/conda/envs/python35-paddle120-env/lib/python3.7/site-packages (from requests_html) (1.19.0)\n",
      "Requirement already satisfied: pyppeteer>=0.0.14 in /opt/conda/envs/python35-paddle120-env/lib/python3.7/site-packages (from requests_html) (0.2.6)\n",
      "Requirement already satisfied: fake-useragent in /opt/conda/envs/python35-paddle120-env/lib/python3.7/site-packages (from requests_html) (0.1.11)\n",
      "Requirement already satisfied: w3lib in /opt/conda/envs/python35-paddle120-env/lib/python3.7/site-packages (from requests_html) (1.22.0)\n",
      "Requirement already satisfied: bs4 in /opt/conda/envs/python35-paddle120-env/lib/python3.7/site-packages (from requests_html) (0.0.1)\n",
      "Requirement already satisfied: pyquery in /opt/conda/envs/python35-paddle120-env/lib/python3.7/site-packages (from requests_html) (1.4.3)\n",
      "Requirement already satisfied: idna<2.9,>=2.5 in /opt/conda/envs/python35-paddle120-env/lib/python3.7/site-packages (from requests->requests_html) (2.8)\n",
      "Collecting urllib3!=1.25.0,!=1.25.1,<1.26,>=1.21.1 (from requests->requests_html)\n",
      "\u001b[?25l  Downloading https://pypi.tuna.tsinghua.edu.cn/packages/56/aa/4ef5aa67a9a62505db124a5cb5262332d1d4153462eb8fd89c9fa41e5d92/urllib3-1.25.11-py2.py3-none-any.whl (127kB)\n",
      "\u001b[K     |████████████████████████████████| 133kB 9.7MB/s eta 0:00:01\n",
      "\u001b[?25hRequirement already satisfied: chardet<3.1.0,>=3.0.2 in /opt/conda/envs/python35-paddle120-env/lib/python3.7/site-packages (from requests->requests_html) (3.0.4)\n",
      "Requirement already satisfied: certifi>=2017.4.17 in /opt/conda/envs/python35-paddle120-env/lib/python3.7/site-packages (from requests->requests_html) (2019.9.11)\n",
      "Requirement already satisfied: pyee<9.0.0,>=8.1.0 in /opt/conda/envs/python35-paddle120-env/lib/python3.7/site-packages (from pyppeteer>=0.0.14->requests_html) (8.2.2)\n",
      "Requirement already satisfied: websockets<10.0,>=9.1 in /opt/conda/envs/python35-paddle120-env/lib/python3.7/site-packages (from pyppeteer>=0.0.14->requests_html) (9.1)\n",
      "Requirement already satisfied: appdirs<2.0.0,>=1.4.3 in /opt/conda/envs/python35-paddle120-env/lib/python3.7/site-packages (from pyppeteer>=0.0.14->requests_html) (1.4.4)\n",
      "Requirement already satisfied: tqdm<5.0.0,>=4.42.1 in /opt/conda/envs/python35-paddle120-env/lib/python3.7/site-packages (from pyppeteer>=0.0.14->requests_html) (4.62.3)\n",
      "Requirement already satisfied: importlib-metadata>=1.4 in /opt/conda/envs/python35-paddle120-env/lib/python3.7/site-packages (from pyppeteer>=0.0.14->requests_html) (4.8.1)\n",
      "Requirement already satisfied: six>=1.4.1 in /opt/conda/envs/python35-paddle120-env/lib/python3.7/site-packages (from w3lib->requests_html) (1.15.0)\n",
      "Requirement already satisfied: beautifulsoup4 in /opt/conda/envs/python35-paddle120-env/lib/python3.7/site-packages (from bs4->requests_html) (4.10.0)\n",
      "Requirement already satisfied: cssselect>0.7.9 in /opt/conda/envs/python35-paddle120-env/lib/python3.7/site-packages (from pyquery->requests_html) (1.1.0)\n",
      "Requirement already satisfied: lxml>=2.1 in /opt/conda/envs/python35-paddle120-env/lib/python3.7/site-packages (from pyquery->requests_html) (4.6.3)\n",
      "Requirement already satisfied: typing-extensions>=3.6.4; python_version < \"3.8\" in /opt/conda/envs/python35-paddle120-env/lib/python3.7/site-packages (from importlib-metadata>=1.4->pyppeteer>=0.0.14->requests_html) (3.10.0.2)\n",
      "Requirement already satisfied: zipp>=0.5 in /opt/conda/envs/python35-paddle120-env/lib/python3.7/site-packages (from importlib-metadata>=1.4->pyppeteer>=0.0.14->requests_html) (0.6.0)\n",
      "Requirement already satisfied: soupsieve>1.2 in /opt/conda/envs/python35-paddle120-env/lib/python3.7/site-packages (from beautifulsoup4->bs4->requests_html) (2.2.1)\n",
      "Requirement already satisfied: more-itertools in /opt/conda/envs/python35-paddle120-env/lib/python3.7/site-packages (from zipp>=0.5->importlib-metadata>=1.4->pyppeteer>=0.0.14->requests_html) (7.2.0)\n",
      "Installing collected packages: urllib3\n",
      "  Found existing installation: urllib3 1.26.7\n",
      "    Uninstalling urllib3-1.26.7:\n",
      "      Successfully uninstalled urllib3-1.26.7\n",
      "Successfully installed urllib3-1.25.11\n"
     ]
    }
   ],
   "source": [
    "!pip install requests_html"
   ]
  },
  {
   "cell_type": "code",
   "execution_count": 2,
   "metadata": {
    "execution": {
     "iopub.execute_input": "2021-10-12T17:32:16.019998Z",
     "iopub.status.busy": "2021-10-12T17:32:16.019679Z",
     "iopub.status.idle": "2021-10-12T17:32:16.257663Z",
     "shell.execute_reply": "2021-10-12T17:32:16.256628Z",
     "shell.execute_reply.started": "2021-10-12T17:32:16.019941Z"
    }
   },
   "outputs": [],
   "source": [
    "from requests_html import HTMLSession"
   ]
  },
  {
   "cell_type": "code",
   "execution_count": 3,
   "metadata": {
    "execution": {
     "iopub.execute_input": "2021-10-12T17:32:16.259618Z",
     "iopub.status.busy": "2021-10-12T17:32:16.259317Z",
     "iopub.status.idle": "2021-10-12T17:32:16.263970Z",
     "shell.execute_reply": "2021-10-12T17:32:16.262986Z",
     "shell.execute_reply.started": "2021-10-12T17:32:16.259564Z"
    }
   },
   "outputs": [],
   "source": [
    "session = HTMLSession()"
   ]
  },
  {
   "cell_type": "code",
   "execution_count": 4,
   "metadata": {
    "execution": {
     "iopub.execute_input": "2021-10-12T17:32:16.266062Z",
     "iopub.status.busy": "2021-10-12T17:32:16.265756Z",
     "iopub.status.idle": "2021-10-12T17:32:16.271153Z",
     "shell.execute_reply": "2021-10-12T17:32:16.269939Z",
     "shell.execute_reply.started": "2021-10-12T17:32:16.265988Z"
    }
   },
   "outputs": [],
   "source": [
    "url = 'https://www.jianshu.com/p/85f4624485b9'"
   ]
  },
  {
   "cell_type": "code",
   "execution_count": 5,
   "metadata": {
    "execution": {
     "iopub.execute_input": "2021-10-12T17:32:16.272732Z",
     "iopub.status.busy": "2021-10-12T17:32:16.272347Z",
     "iopub.status.idle": "2021-10-12T17:32:16.595900Z",
     "shell.execute_reply": "2021-10-12T17:32:16.594583Z",
     "shell.execute_reply.started": "2021-10-12T17:32:16.272608Z"
    }
   },
   "outputs": [],
   "source": [
    "r = session.get(url)"
   ]
  },
  {
   "cell_type": "code",
   "execution_count": 6,
   "metadata": {
    "execution": {
     "iopub.execute_input": "2021-10-12T17:32:16.597761Z",
     "iopub.status.busy": "2021-10-12T17:32:16.597430Z",
     "iopub.status.idle": "2021-10-12T17:32:16.727863Z",
     "shell.execute_reply": "2021-10-12T17:32:16.726813Z",
     "shell.execute_reply.started": "2021-10-12T17:32:16.597702Z"
    }
   },
   "outputs": [
    {
     "name": "stdout",
     "output_type": "stream",
     "text": [
      "如何高效入门数据科学？ - 简书\n",
      "登录注册\n",
      "写文章\n",
      "首页下载APPIT技术\n",
      "如何高效入门数据科学？\n",
      "王树义关注赞赏支持\n",
      "如何高效入门数据科学？\n",
      "链接散落的教程文章，做个详细的导读，助你更高效入门数据科学。\n",
      "问题\n",
      "2017年6月以来，我陆续在自己的简书专栏《玉树芝兰》里，写了一系列数据科学教程。\n",
      "这源于一次研究生课编程工作坊尝试。受阎教练的创新思维训练营启发，我在课后把词云制作流程详细记录转述，分享给了大家。\n",
      "没想到，这篇《如何用Python做词云？》受到了读者们非常热烈的欢迎。\n",
      "此后，一发不可收拾。\n",
      "应读者的要求，结合我自己的学习、科研和教学实践，我陆续分享了更多与数据科学相关的文章。\n",
      "读者越来越多，我收到的问题也愈发五花八门。\n",
      "许多读者的问题，我其实都已经在其他的文章里面讲解过了，因此有时用“请参考我的另一篇文章《……》，链接为……”来答复，也帮助读者解决了问题。\n",
      "在建构同理心（empathy）之前，估计我会问出这样的问题：\n",
      "他们为什么不翻翻我的其他文章呢？\n",
      "但现在，我能感受到他们的疑惑：\n",
      "我哪里知道你写过另一篇文章？\n",
      "散落在各处的文章，不容易系统学习和检索。于是我在2017年11月，把写过的数据科学系列教程汇集到了一起，做了个索引贴。\n",
      "我把这个索引贴链接置于每篇新教程的末尾，并不断更新维护。\n",
      "然而，这样简单的标题索引，依然无法满足许多读者的需求。\n",
      "有的读者跟着教程做完了词云，发现如果对中文文本做分析，就会出现乱码：\n",
      "这时候，你该怎么办呢？\n",
      "更进一步，如果你希望把词云的外边框变成指定的形状，又该如何操作？\n",
      "光看标题，你可能不容易发现哪一篇文章会帮助自己解决这些问题，甚至可能会选择放弃。\n",
      "我决定做这个导读。\n",
      "这篇文章，不再是从任务出发，简单罗列文章标题和链接；而是从先易后难的认知习惯，重新组织文章顺序，简要介绍内容，提示可能遇到的问题。\n",
      "希望对你的学习能有帮助。\n",
      "基础环境\n",
      "大部分的教程，都是在 Python 运行环境 Jupyter Notebook 下运行和演示。\n",
      "安装这个运行环境，最简单的方法，就是安装 Anaconda 集成套件。\n",
      "请先收看这个视频教程《如何安装Python运行环境Anaconda？（视频教程）》，自己尝试安装Anaconda，运行起第一个Jupyter Notebook，输出一个“Hello world!”出来。\n",
      "有了这个基础，你就可以尝试不同的数据科学任务了。\n",
      "我的建议是先做词云。\n",
      "因为简单，而且有成就感。\n",
      "词云\n",
      "跟着图文教程《如何用Python做词云？》一步步执行。用几行Python代码，你就可以做出这样的词云来。\n",
      "我还专门把它升级做成了视频教程《如何用Python做词云？（基础篇视频教程）》，供你观看。\n",
      "参看这篇文章《如何用Python做中文分词？》，你就能做出这样的中文词云。\n",
      "如果你希望改变词云边框外观，就参考这篇文章《Python编程遇问题，文科生怎么办？》的最后部分。\n",
      "到这里，你已掌握Python运行环境安装、文本文件读取、常见软件包调用、可视化分析与结果呈现和中文分词等基本功夫了。\n",
      "回头望去，是不是成就感爆棚呢？\n",
      "虚拟环境\n",
      "细心的你，可能已经发现，图文教程和视频内容并不完全一致。\n",
      "视频教程目前全系列采用Python 3.6版本，未来得及重新整理的词云图文教程，展示的确实2.7版本Python。\n",
      "为什么呢？\n",
      "因为随着技术的发展，Python已经逐步要过渡到3.X版本了。\n",
      "许多第三方软件包都已经宣布了时间表，尽快支持3.X，放弃2.X版本的支持。\n",
      "才半年，你就可以感受到技术、社群和环境的变化之快。\n",
      "可是目前某些软件包，依然只能支持2.X版本Python。虽然这样的软件包越来越少了。\n",
      "你需要暂时做个“两栖动物”，千万不要束缚自己，因为“立场原因”固执着不肯用低版本Python。这样吃亏的是自己。\n",
      "怎样才能做个“两栖动物”呢？\n",
      "办法之一，就是使用Anaconda的虚拟环境。可以参考《如何在Jupyter Notebook中使用Python虚拟环境？》。\n",
      "你初始安装版本针对Python 2.7的Anaconda，并不妨碍你快速建立一个3.6版本Python的虚拟环境。\n",
      "有了这个秘籍，你就可以在不同版本的Python之间左右逢源，游刃有余了。\n",
      "自然语言处理\n",
      "下一步，我们来尝试自然语言处理（Natural Language Processing, NLP）。\n",
      "情感分析，是NLP在许多社会科学领域热门的应用之一。\n",
      "《如何用Python做情感分析？》这篇文章，分别从英文和中文两个案例，分别采用不同的软件包，针对性地解决应用需求。\n",
      "你只需要几行代码，就能让Python告诉你情感的取向。是不是很厉害？\n",
      "有了情感分析做基础，你可以尝试增加维度，对更大体量的数据做分析。\n",
      "增加时间维度，就可以持续分析变化的舆情。\n",
      "《如何用Python做舆情时间序列可视化？》这篇文章，一步步指引你在时间刻度上可视化情感分析结果：\n",
      "这图难看了一些。\n",
      "不过我们需要容忍自己起步时的笨拙，不断迭代与精进。\n",
      "希望一出手就满分，对极少数天才，确实无非是日常。\n",
      "但对大多数人，是拖延症的开始。\n",
      "你可能迫不及待，尝试换自己的数据做时间序列可视化分析。\n",
      "不过日期数据如果与样例有出入，可能会出现问题。\n",
      "这时候，不要慌，请参考《Python编程遇问题，文科生怎么办？》的第二部分，其中有详细的错误原因分析与对策展示。\n",
      "看过后，分析结果图也会迭代成这个样子：\n",
      "到这里，你对情感分析有点儿感觉了吧？\n",
      "如果你不打算使用第三方提供的情感分类算法，打算自己动手训练一个更为精确的情感分类模型，可以参考《如何用Python和机器学习训练中文文本情感分类模型？》一文。\n",
      "刚刚这些情感分析，其实只是极性分析（正面vs负面）。但是我们都知道，人的情感其实是多方面共同构成的。\n",
      "如何从文本中，分解出多维度的情感特征变化呢？\n",
      "《如何用Python和R对《权力的游戏》故事情节做情绪分析？》一文分析了《权力的游戏》中某一集剧本，你会获得这样的结果：\n",
      "如果你是《权力的游戏》剧迷，请告诉我，这张图描绘的是哪一集？\n",
      "先猜猜看，然后再打开文章，跟结尾做对比。\n",
      "这篇文章的可视化分析部分，用的是R。\n",
      "R也是数据科学领域一个非常受欢迎的开源工具。它的通用性和热度可能不如Python（毕竟Python除了数据科学，还能干许多其他的事儿），但是因为有统计学界诸多科学家的拥护和添砖加瓦，因此有非常好的一套生态系统。\n",
      "如果你希望对单一长文本提取若干重要关键词，该怎么办呢？\n",
      "请你阅读《如何用Python提取中文关键词？》一文。它采用词汇向量化、TextRank等成熟的关键词提取算法来解决问题。\n",
      "课间答疑\n",
      "随着知识、技能和经验的积累，你的疑问可能也逐渐增多了吧？\n",
      "有的同学对这种教学方式有疑问——案例挺有意思，也很简单易学，但是怎么把它用到我自己的学习、工作和科研中呢？\n",
      "我为你写了一篇答疑说明，叫做《文科生如何高效学数据科学？》。文中提到了以下几个方面：\n",
      "如何指定目标？\n",
      "如何确定深度？\n",
      "如何加强协作？\n",
      "提到协作，就不能不说Github这个全球最大的开源代码托管仓库了。\n",
      "在咱们的教程里，也多次使用Github来存储代码和数据，以便你能够重复运行教程中的结果。\n",
      "《如何高效入门Github？》一文提供了文档和视频教程资源，希望能对你掌握这个数据富矿提供帮助。\n",
      "不少读者在这个阶段常提出这个问题：老师，想学Python，推荐本书呗。\n",
      "看来，你已经明白了Python的好处了，对吧？\n",
      "《如何高效学Python？》帮助你给自己的学习特性做出了分类。根据分类的结果，你可以选择更适合自己的学习路径。\n",
      "推荐的教材，不仅包括书籍，还包括MOOC。希望这种充满互动的教学方式，对你入门数据科学有帮助。\n",
      "机器学习\n",
      "你可以尝试做更进一步的分析了。\n",
      "例如机器学习（Machine Learning）。\n",
      "机器学习的妙用，就是在那些你（其实是人类）无法准确描述解决步骤的问题上，让机器通过大量案例（数据）的观察、试错，构建一个相对有用的模型，来自动化处理问题，或者为人类的决策提供辅助依据。\n",
      "大体上，机器学习主要分为3类：\n",
      "监督学习（Supervised Learning）\n",
      "非监督学习（Unsupervised Learning）\n",
      "强化学习（Reinforcement Learning）\n",
      "目前本专栏介绍了前两类的一些例子。\n",
      "监督学习与非监督学习最大的差别，在于数据。\n",
      "数据已有标注（一般是人工赋予标签），一般用监督学习；\n",
      "数据没有标注，一般只能用非监督学习。\n",
      "监督学习部分，我们举了分类（classification）任务的例子。\n",
      "《贷还是不贷：如何用Python和机器学习帮你决策？》中的案例，选择了贷款审批辅助决策。\n",
      "具体的机器学习算法，是决策树（decision tree）。\n",
      "有同学表示，绘制这棵决策树的时候，遇到了问题。\n",
      "这主要是因为运行环境的差异和依赖工具的安装没有正确完成。\n",
      "《Python编程遇问题，文科生怎么办？》的第一部分，对这些问题做了详细的阐述，请根据列出的步骤尝试解决。\n",
      "不仅如此，这篇文章展示给你了一种任务导向的学习方式，期望它可以提升你Python语言和数据科学学习效率。\n",
      "非监督学习部分，我们讲述了《如何用Python从海量文本抽取主题？》。\n",
      "文中用一种叫做LDA的聚类（clustering）方法，帮你从可能感兴趣的浩如烟海文档中，提取出可能的类别，对应的主要关键词，并且做可视化处理。\n",
      "文中提及了停用词（stopwords）的处理，但是没有给出中文停用词的具体应用方法。\n",
      "《如何用Python和机器学习训练中文文本情感分类模型？》一文中，我不仅对停用词处理方式进行了详细的介绍，而且把监督学习Naive Bayes模型应用于情感分析，手把手教你如何训练自己的情感分类模型。\n",
      "深度学习\n",
      "深度学习，指用深度神经网络（Deep Neural Network）进行机器学习。\n",
      "相对于传统机器学习方法，它使用的模型结构更为复杂，需要更多的数据支持，并且训练起来要消耗更多的计算资源和时间。\n",
      "常见的深度学习应用，包括语音识别、计算机视觉和机器翻译等。\n",
      "当然，新闻里面最爱提的，是下围棋这个事儿：\n",
      "我们提供的案例，没有那么挑战人类智能极限，而是跟日常工作和生活更加相关。\n",
      "《如何用Python和深度神经网络发现即将流失的客户？》为你介绍了深度神经网络的基本结构。\n",
      "这篇文章通过客户流失预警的例子，讲述了使用前馈神经网络进行监督式学习的基本样例。\n",
      "实际操作部分，我们采用Tensorflow作为后端，tflearn作为前段，构造你自己的第一个深度神经网络。\n",
      "《如何用Python和深度神经网络发现即将流失的客户？》一文末尾还为你提供了进一步掌握深度学习的相关资源。\n",
      "如果你需要安装Tensorflow深度学习框架（Google出品哦），欢迎先阅读这篇《Tensorflow执行pip升级安装的坑》。\n",
      "有了深度神经网络的基础知识，我们折腾计算机视觉。\n",
      "《如何用Python和深度神经网络识别图像？》一文，举例分类哆啦a梦和瓦力这两个机器人的各种花式图像集合。\n",
      "卷积神经网络(Convolutional Neural Network, CNN)这时就大放异彩了。\n",
      "这篇文章，帮你分析了卷积神经网络中，不同层次（Layer）的作用。\n",
      "我们尽量避免用公式，而是用图像、动图和平实简洁的语言描述来为你解释概念。\n",
      "我们使用的深度学习框架，是苹果的TuriCreate。你会调用一个非常深层次的卷积神经网络，帮我们迁(tou)移(ji)学(qu)习(qiao)，用很少的训练数据，获得非常高的分类准确率。\n",
      "有的读者自己尝试，测试集准确率居然达到100%（视运行环境不同，有差异），大呼过瘾。可同时又觉得不可思议。\n",
      "为了解释这种“奇迹”，同时解答读者“如何在私有数据集上以图搜图”的疑问，我写了《如何用Python和深度神经网络寻找近似图片？》。\n",
      "希望读过此文，你对迁移学习（Transfer Learning）有了更深入的认识。\n",
      "如果这两篇文章学完，你对卷积神经网络的基础知识依然不是很清晰，也没关系，因为我的研究生们遭遇了同样的问题。\n",
      "为此，我专门录制了一段讲解答疑视频。\n",
      "这段视频里，我主要谈及了以下几个方面：\n",
      "深度神经网络的基本结构；\n",
      "神经元的计算功能实现；\n",
      "如何对深度神经网络做训练；\n",
      "如何选择最优的模型（超参数调整）；\n",
      "卷积神经网络基本原理；\n",
      "迁移学习的实现；\n",
      "疑问解答。\n",
      "希望看过之后，你再从论文里读到计算机视觉的神经网络模型，就可以游刃有余了。\n",
      "另一批作者又来发问了：\n",
      "老师，我用Windows，死活就是装不上TuriCreate，可怎么办？\n",
      "我替他们着急的时候，恰好找到了一个宝贝。于是写了《如何免费云端运行Python深度学习框架？》。\n",
      "免费使用GPU，用极为简易的操作，就可以在Google云端Linux主机上部署和执行苹果深度学习框架……\n",
      "听着是不是像做梦啊？\n",
      "感谢Google这家为人类知识积累做出贡献的企业。\n",
      "数据获取\n",
      "学完深度学习之后，你会发现自己变成了“数据饥渴”症患者。\n",
      "因为如果没有大量的数据，就无法支撑你的深度神经网络。\n",
      "如何获取数据呢？\n",
      "我们先要区分数据的来源。\n",
      "数据来源很多。但是对于研究者来说，网络数据和文献数据比较常用。\n",
      "目前主流（合法）的网络数据方法，主要分为3类：\n",
      "开放数据集下载；\n",
      "API读取；\n",
      "爬虫爬取（Crawling）。\n",
      "《如何用Python读取开放数据？》一文中，我为你讲解了如何把开放数据集下载并且在Python中使用。\n",
      "这篇文章介绍了常见的CSV/Excel, JSON和XML等开放数据文件格式的读取、初步处理和可视化方法与流程。\n",
      "如果没有开放数据集整理好供你下载，网站只提供API接口，你该怎么办呢？\n",
      "《如何用R和API免费获取Web数据？》一文，我们使用R读取维基百科API，获得指定条目的访问数量记录，并且做了可视化。\n",
      "如果没有人为你整理好数据，网站也没有开放API给你，那你就得“直接上大锤”了。\n",
      "《如何用Python爬数据？（一）网页抓取》一文为你介绍了非常人性化、易用的网页抓取软件包 requests_html，你可以尝试抓取网页内的指定类型链接。\n",
      "文献数据可能存储为各种格式，但其中pdf格式较为常见。\n",
      "应诸多读者的要求，我写了《如何用Python批量提取PDF文本内容？》。\n",
      "你可以批量提取pdf文档的文本内容，并且进行各种分析。\n",
      "文中的分析相对简单，我们只是统计了文档字符数量。\n",
      "但是发挥想象力，你可能会做出非常有价值的分析结果。\n",
      "希望这些文章可以帮助你高效获得优质数据，支撑起你自己的机器学习模型。\n",
      "小结\n",
      "本文把《玉树芝兰》专栏目前的数据科学类文章进行了梳理和归类，建立了链接，以帮你看清它们之间的逻辑依赖关系。\n",
      "专栏中，数据科学类文章主要围绕以下方面展开：\n",
      "环境搭建；\n",
      "基础入门；\n",
      "自然语言处理；\n",
      "机器学习；\n",
      "深度学习；\n",
      "数据获取；\n",
      "答疑。\n",
      "你可能早已发现，我们还有很多话题，没有来得及涉及。\n",
      "别着急。\n",
      "本专栏会持续添加新的内容。这篇导读也会不定期更新。欢迎关注。\n",
      "讨论\n",
      "本专栏数据科学类的文章里，你更喜欢哪个方面的主题？除此以外，你还希望读到哪些内容？欢迎留言，把你的经验和思考分享给大家，我们一起交流讨论。\n",
      "喜欢请点赞。还可以微信关注和置顶我的公众号“玉树芝兰”(nkwangshuyi)。\n",
      "如果你对数据科学感兴趣，不妨阅读我的系列教程索引贴《如何高效入门数据科学？》，里面还有更多的有趣问题及解法。\n",
      "推荐阅读更多精彩内容\n",
      "[连载散文]散落的梦境章节·前言\n",
      "弗洛伊德说：“梦不是空穴来风，是一种愿望的达成”。 说起梦境，从出生到长大，再到苍老，梦境不管你是在什么样的年纪里...\n",
      "飞扬Xavier阅读 258评论 13赞 5\n",
      "懂与不懂\n",
      "懂是知音，不懂是过客。懂是少数，不懂是多数。对懂的人相见恨晚，对不懂的人不言不屑...\n",
      "冰夫阅读 102评论 0赞 0\n",
      "评论5\n",
      "赞200\n",
      "抽奖\n",
      "200赞201赞\n",
      "2赞赏\n",
      "更多好文\n",
      "{\"dataManager\":\"[]\",\"props\":{\"isServer\":true,\"initialState\":{\"global\":{\"done\":false,\"artFromType\":null,\"fontType\":\"black\",\"$modal\":{\"ContributeModal\":false,\"RewardListModal\":false,\"PayModal\":false,\"CollectionModal\":false,\"LikeListModal\":false,\"ReportModal\":false,\"QRCodeShareModal\":false,\"BookCatalogModal\":false,\"RewardModal\":false},\"$ua\":{\"value\":\"Mozilla/5.0 (Macintosh; Intel Mac OS X 10_12_6) AppleWebKit/603.3.8 (KHTML, like Gecko) Version/10.1.2 Safari/603.3.8\",\"isIE11\":false,\"earlyIE\":null,\"chrome\":null,\"firefox\":null,\"safari\":\"10.1\",\"isMac\":true},\"$diamondRate\":{\"displayable\":false,\"rate\":0},\"readMode\":\"day\",\"locale\":\"zh-CN\",\"seoList\":[{\"comments_count\":13,\"public_abbr\":\"弗洛伊德说：“梦不是空穴来风，是一种愿望的达成”。 说起梦境，从出生到长大，再到苍老，梦境不管你是在什么样的年纪里...\",\"share_image_url\":\"\",\"slug\":\"c887c035d49f\",\"user\":{\"id\":2067660,\"nickname\":\"飞扬Xavier\",\"slug\":\"7ad6761b3975\",\"avatar\":\"https://upload.jianshu.io/users/upload_avatars/2067660/a5d62b274b27.jpg\"},\"likes_count\":5,\"title\":\"[连载散文]散落的梦境章节·前言\",\"id\":5969061,\"views_count\":258},{\"comments_count\":0,\"public_abbr\":\" 懂是知音，不懂是过客。懂是少数，不懂是多数。对懂的人相见恨晚，对不懂的人不言不屑...\",\"share_image_url\":\"\",\"slug\":\"d367cd9a6457\",\"user\":{\"id\":6482589,\"nickname\":\"冰夫\",\"slug\":\"e73219532b8d\",\"avatar\":\"https://cdn2.jianshu.io/assets/default_avatar/8-a356878e44b45ab268a3b0bbaaadeeb7.jpg\"},\"likes_count\":0,\"title\":\"懂与不懂\",\"id\":23384206,\"views_count\":102}]},\"note\":{\"data\":{\"is_author\":false,\"last_updated_at\":1530109559,\"public_title\":\"如何高效入门数据科学？\",\"purchased\":false,\"liked_note\":false,\"comments_count\":5,\"free_content\":\"\\u003cp\\u003e链接散落的教程文章，做个详细的导读，助你更高效入门数据科学。\\u003c/p\\u003e\\n\\u003cdiv class=\\\"image-package\\\"\\u003e\\n\\u003cdiv class=\\\"image-container\\\" style=\\\"max-width: 582px; max-height: 390px;\\\"\\u003e\\n\\u003cdiv class=\\\"image-container-fill\\\" style=\\\"padding-bottom: 67.01%;\\\"\\u003e\\u003c/div\\u003e\\n\\u003cdiv class=\\\"image-view\\\" data-width=\\\"582\\\" data-height=\\\"390\\\"\\u003e\\u003cimg data-original-src=\\\"//upload-images.jianshu.io/upload_images/64542-aa77b7902188affc.png\\\" data-original-width=\\\"582\\\" data-original-height=\\\"390\\\" data-original-format=\\\"image/png\\\" data-original-filesize=\\\"550610\\\"\\u003e\\u003c/div\\u003e\\n\\u003c/div\\u003e\\n\\u003cdiv class=\\\"image-caption\\\"\\u003e\\u003c/div\\u003e\\n\\u003c/div\\u003e\\n\\u003ch1\\u003e问题\\u003c/h1\\u003e\\n\\u003cp\\u003e2017年6月以来，我陆续在自己的简书专栏《\\u003ca href=\\\"https://www.jianshu.com/nb/130182\\\" target=\\\"_blank\\\"\\u003e玉树芝兰\\u003c/a\\u003e》里，写了一系列\\u003cstrong\\u003e数据科学\\u003c/strong\\u003e教程。\\u003c/p\\u003e\\n\\u003cp\\u003e这源于一次研究生课编程工作坊尝试。受阎教练的创新思维训练营启发，我在课后把词云制作流程详细记录转述，分享给了大家。\\u003c/p\\u003e\\n\\u003cp\\u003e没想到，这篇《\\u003ca href=\\\"https://www.jianshu.com/p/e4b24a734ccc\\\" target=\\\"_blank\\\"\\u003e如何用Python做词云？\\u003c/a\\u003e》受到了读者们非常热烈的欢迎。\\u003c/p\\u003e\\n\\u003cdiv class=\\\"image-package\\\"\\u003e\\n\\u003cdiv class=\\\"image-container\\\" style=\\\"max-width: 700px; max-height: 514px;\\\"\\u003e\\n\\u003cdiv class=\\\"image-container-fill\\\" style=\\\"padding-bottom: 36.25%;\\\"\\u003e\\u003c/div\\u003e\\n\\u003cdiv class=\\\"image-view\\\" data-width=\\\"1418\\\" data-height=\\\"514\\\"\\u003e\\u003cimg data-original-src=\\\"//upload-images.jianshu.io/upload_images/64542-c011abe8abceb489.png\\\" data-original-width=\\\"1418\\\" data-original-height=\\\"514\\\" data-original-format=\\\"image/png\\\" data-original-filesize=\\\"122202\\\"\\u003e\\u003c/div\\u003e\\n\\u003c/div\\u003e\\n\\u003cdiv class=\\\"image-caption\\\"\\u003e\\u003c/div\\u003e\\n\\u003c/div\\u003e\\n\\u003cp\\u003e此后，一发不可收拾。\\u003c/p\\u003e\\n\\u003cp\\u003e应读者的要求，结合我自己的学习、科研和教学实践，我陆续分享了更多与\\u003ca href=\\\"https://www.jianshu.com/p/30b4fa6793f6\\\" target=\\\"_blank\\\"\\u003e数据科学相关的文章\\u003c/a\\u003e。\\u003c/p\\u003e\\n\\u003cp\\u003e读者越来越多，我收到的问题也愈发五花八门。\\u003c/p\\u003e\\n\\u003cp\\u003e许多读者的问题，我其实都已经在其他的文章里面讲解过了，因此有时用“请参考我的另一篇文章《……》，链接为……”来答复，也帮助读者解决了问题。\\u003c/p\\u003e\\n\\u003cp\\u003e在建构\\u003cstrong\\u003e同理心\\u003c/strong\\u003e（empathy）之前，估计我会问出这样的问题：\\u003c/p\\u003e\\n\\u003cblockquote\\u003e\\n\\u003cp\\u003e他们为什么不翻翻我的其他文章呢？\\u003c/p\\u003e\\n\\u003c/blockquote\\u003e\\n\\u003cp\\u003e但现在，我能感受到他们的疑惑：\\u003c/p\\u003e\\n\\u003cblockquote\\u003e\\n\\u003cp\\u003e我哪里知道你写过另一篇文章？\\u003c/p\\u003e\\n\\u003c/blockquote\\u003e\\n\\u003cp\\u003e散落在各处的文章，不容易系统学习和检索。于是我在2017年11月，把写过的数据科学系列教程汇集到了一起，做了个\\u003ca href=\\\"https://www.jianshu.com/p/30b4fa6793f6\\\" target=\\\"_blank\\\"\\u003e索引贴\\u003c/a\\u003e。\\u003c/p\\u003e\\n\\u003cdiv class=\\\"image-package\\\"\\u003e\\n\\u003cdiv class=\\\"image-container\\\" style=\\\"max-width: 700px; max-height: 528px;\\\"\\u003e\\n\\u003cdiv class=\\\"image-container-fill\\\" style=\\\"padding-bottom: 75.44%;\\\"\\u003e\\u003c/div\\u003e\\n\\u003cdiv class=\\\"image-view\\\" data-width=\\\"1482\\\" data-height=\\\"1118\\\"\\u003e\\u003cimg data-original-src=\\\"//upload-images.jianshu.io/upload_images/64542-3dd6c72685bc4474.png\\\" data-original-width=\\\"1482\\\" data-original-height=\\\"1118\\\" data-original-format=\\\"image/png\\\" data-original-filesize=\\\"258766\\\"\\u003e\\u003c/div\\u003e\\n\\u003c/div\\u003e\\n\\u003cdiv class=\\\"image-caption\\\"\\u003e\\u003c/div\\u003e\\n\\u003c/div\\u003e\\n\\u003cp\\u003e我把这个索引贴链接置于每篇新教程的末尾，并不断更新维护。\\u003c/p\\u003e\\n\\u003cp\\u003e然而，这样简单的标题索引，依然\\u003cstrong\\u003e无法满足\\u003c/strong\\u003e许多读者的\\u003cstrong\\u003e需求\\u003c/strong\\u003e。\\u003c/p\\u003e\\n\\u003cp\\u003e有的读者跟着\\u003ca href=\\\"https://www.jianshu.com/p/e4b24a734ccc\\\" target=\\\"_blank\\\"\\u003e教程\\u003c/a\\u003e做完了词云，发现如果对中文文本做分析，就会出现乱码：\\u003c/p\\u003e\\n\\u003cdiv class=\\\"image-package\\\"\\u003e\\n\\u003cdiv class=\\\"image-container\\\" style=\\\"max-width: 382px; max-height: 200px;\\\"\\u003e\\n\\u003cdiv class=\\\"image-container-fill\\\" style=\\\"padding-bottom: 52.35999999999999%;\\\"\\u003e\\u003c/div\\u003e\\n\\u003cdiv class=\\\"image-view\\\" data-width=\\\"382\\\" data-height=\\\"200\\\"\\u003e\\u003cimg data-original-src=\\\"//upload-images.jianshu.io/upload_images/64542-2ab54a876d04e972.png\\\" data-original-width=\\\"382\\\" data-original-height=\\\"200\\\" data-original-format=\\\"image/png\\\" data-original-filesize=\\\"47186\\\"\\u003e\\u003c/div\\u003e\\n\\u003c/div\\u003e\\n\\u003cdiv class=\\\"image-caption\\\"\\u003e\\u003c/div\\u003e\\n\\u003c/div\\u003e\\n\\u003cp\\u003e这时候，你该怎么办呢？\\u003c/p\\u003e\\n\\u003cp\\u003e更进一步，如果你希望把词云的外边框变成指定的形状，又该如何操作？\\u003c/p\\u003e\\n\\u003cdiv class=\\\"image-package\\\"\\u003e\\n\\u003cdiv class=\\\"image-container\\\" style=\\\"max-width: 700px; max-height: 700px;\\\"\\u003e\\n\\u003cdiv class=\\\"image-container-fill\\\" style=\\\"padding-bottom: 100.0%;\\\"\\u003e\\u003c/div\\u003e\\n\\u003cdiv class=\\\"image-view\\\" data-width=\\\"700\\\" data-height=\\\"700\\\"\\u003e\\u003cimg data-original-src=\\\"//upload-images.jianshu.io/upload_images/64542-685debf2c9b840ca.png\\\" data-original-width=\\\"700\\\" data-original-height=\\\"700\\\" data-original-format=\\\"image/png\\\" data-original-filesize=\\\"230070\\\"\\u003e\\u003c/div\\u003e\\n\\u003c/div\\u003e\\n\\u003cdiv class=\\\"image-caption\\\"\\u003e\\u003c/div\\u003e\\n\\u003c/div\\u003e\\n\\u003cp\\u003e光看标题，你可能不容易发现哪一篇文章会帮助自己解决这些问题，甚至可能会选择\\u003cstrong\\u003e放弃\\u003c/strong\\u003e。\\u003c/p\\u003e\\n\\u003cp\\u003e我决定做这个导读。\\u003c/p\\u003e\\n\\u003cp\\u003e这篇文章，不再是从任务出发，简单罗列文章标题和链接；而是从先易后难的认知习惯，重新组织文章顺序，简要介绍内容，提示可能遇到的问题。\\u003c/p\\u003e\\n\\u003cp\\u003e希望对你的学习能\\u003cstrong\\u003e有帮助\\u003c/strong\\u003e。\\u003c/p\\u003e\\n\\u003ch1\\u003e基础环境\\u003c/h1\\u003e\\n\\u003cp\\u003e大部分的教程，都是在 Python 运行环境 Jupyter Notebook 下运行和演示。\\u003c/p\\u003e\\n\\u003cp\\u003e安装这个运行环境，最简单的方法，就是安装 Anaconda 集成套件。\\u003c/p\\u003e\\n\\u003cp\\u003e请先收看这个视频教程《\\u003ca href=\\\"https://www.jianshu.com/p/772740d57576\\\" target=\\\"_blank\\\"\\u003e如何安装Python运行环境Anaconda？（视频教程）\\u003c/a\\u003e》，自己尝试安装Anaconda，运行起第一个Jupyter Notebook，输出一个“Hello world!”出来。\\u003c/p\\u003e\\n\\u003cp\\u003e有了这个基础，你就可以尝试不同的数据科学任务了。\\u003c/p\\u003e\\n\\u003cp\\u003e我的建议是先做词云。\\u003c/p\\u003e\\n\\u003cp\\u003e因为简单，而且有成就感。\\u003c/p\\u003e\\n\\u003ch1\\u003e词云\\u003c/h1\\u003e\\n\\u003cp\\u003e跟着图文教程《\\u003ca href=\\\"https://www.jianshu.com/p/e4b24a734ccc\\\" target=\\\"_blank\\\"\\u003e如何用Python做词云？\\u003c/a\\u003e》一步步执行。用几行Python代码，你就可以做出这样的词云来。\\u003c/p\\u003e\\n\\u003cdiv class=\\\"image-package\\\"\\u003e\\n\\u003cdiv class=\\\"image-container\\\" style=\\\"max-width: 382px; max-height: 200px;\\\"\\u003e\\n\\u003cdiv class=\\\"image-container-fill\\\" style=\\\"padding-bottom: 52.35999999999999%;\\\"\\u003e\\u003c/div\\u003e\\n\\u003cdiv class=\\\"image-view\\\" data-width=\\\"382\\\" data-height=\\\"200\\\"\\u003e\\u003cimg data-original-src=\\\"//upload-images.jianshu.io/upload_images/64542-e9580ef6eda8ecf9.png\\\" data-original-width=\\\"382\\\" data-original-height=\\\"200\\\" data-original-format=\\\"image/png\\\" data-original-filesize=\\\"87597\\\"\\u003e\\u003c/div\\u003e\\n\\u003c/div\\u003e\\n\\u003cdiv class=\\\"image-caption\\\"\\u003e\\u003c/div\\u003e\\n\\u003c/div\\u003e\\n\\u003cp\\u003e我还专门把它升级做成了视频教程《\\u003ca href=\\\"https://www.jianshu.com/p/a2924231037c\\\" target=\\\"_blank\\\"\\u003e如何用Python做词云？（基础篇视频教程）\\u003c/a\\u003e》，供你观看。\\u003c/p\\u003e\\n\\u003cp\\u003e参看这篇文章《\\u003ca href=\\\"https://www.jianshu.com/p/721190534061\\\" target=\\\"_blank\\\"\\u003e如何用Python做中文分词？\\u003c/a\\u003e》，你就能做出这样的中文词云。\\u003c/p\\u003e\\n\\u003cdiv class=\\\"image-package\\\"\\u003e\\n\\u003cdiv class=\\\"image-container\\\" style=\\\"max-width: 382px; max-height: 200px;\\\"\\u003e\\n\\u003cdiv class=\\\"image-container-fill\\\" style=\\\"padding-bottom: 52.35999999999999%;\\\"\\u003e\\u003c/div\\u003e\\n\\u003cdiv class=\\\"image-view\\\" data-width=\\\"382\\\" data-height=\\\"200\\\"\\u003e\\u003cimg data-original-src=\\\"//upload-images.jianshu.io/upload_images/64542-ed7878518ed1580c.png\\\" data-original-width=\\\"382\\\" data-original-height=\\\"200\\\" data-original-format=\\\"image/png\\\" data-original-filesize=\\\"93628\\\"\\u003e\\u003c/div\\u003e\\n\\u003c/div\\u003e\\n\\u003cdiv class=\\\"image-caption\\\"\\u003e\\u003c/div\\u003e\\n\\u003c/div\\u003e\\n\\u003cp\\u003e如果你希望改变词云边框外观，就参考这篇文章《\\u003ca href=\\\"https://www.jianshu.com/p/af6201d2f0c6\\\" target=\\\"_blank\\\"\\u003ePython编程遇问题，文科生怎么办？\\u003c/a\\u003e》的\\u003cstrong\\u003e最后部分\\u003c/strong\\u003e。\\u003c/p\\u003e\\n\\u003cdiv class=\\\"image-package\\\"\\u003e\\n\\u003cdiv class=\\\"image-container\\\" style=\\\"max-width: 700px; max-height: 604px;\\\"\\u003e\\n\\u003cdiv class=\\\"image-container-fill\\\" style=\\\"padding-bottom: 86.29%;\\\"\\u003e\\u003c/div\\u003e\\n\\u003cdiv class=\\\"image-view\\\" data-width=\\\"700\\\" data-height=\\\"604\\\"\\u003e\\u003cimg data-original-src=\\\"//upload-images.jianshu.io/upload_images/64542-e698d31a46dd05cc.png\\\" data-original-width=\\\"700\\\" data-original-height=\\\"604\\\" data-original-format=\\\"image/png\\\" data-original-filesize=\\\"208168\\\"\\u003e\\u003c/div\\u003e\\n\\u003c/div\\u003e\\n\\u003cdiv class=\\\"image-caption\\\"\\u003e\\u003c/div\\u003e\\n\\u003c/div\\u003e\\n\\u003cp\\u003e到这里，你已掌握Python运行环境安装、文本文件读取、常见软件包调用、可视化分析与结果呈现和中文分词等基本功夫了。\\u003c/p\\u003e\\n\\u003cp\\u003e回头望去，是不是成就感爆棚呢？\\u003c/p\\u003e\\n\\u003ch1\\u003e虚拟环境\\u003c/h1\\u003e\\n\\u003cp\\u003e细心的你，可能已经发现，图文教程和视频内容\\u003cstrong\\u003e并不完全一致\\u003c/strong\\u003e。\\u003c/p\\u003e\\n\\u003cp\\u003e视频教程目前全系列采用Python 3.6版本，未来得及重新整理的词云图文教程，展示的确实2.7版本Python。\\u003c/p\\u003e\\n\\u003cp\\u003e为什么呢？\\u003c/p\\u003e\\n\\u003cp\\u003e因为随着技术的发展，Python已经逐步要过渡到3.X版本了。\\u003c/p\\u003e\\n\\u003cp\\u003e许多第三方软件包都已经宣布了时间表，尽快支持3.X，放弃2.X版本的支持。\\u003c/p\\u003e\\n\\u003cp\\u003e才半年，你就可以感受到技术、社群和环境的变化之快。\\u003c/p\\u003e\\n\\u003cp\\u003e可是\\u003cstrong\\u003e目前\\u003c/strong\\u003e某些软件包，依然只能支持2.X版本Python。虽然这样的软件包越来越少了。\\u003c/p\\u003e\\n\\u003cp\\u003e你需要暂时做个“\\u003cstrong\\u003e两栖动物\\u003c/strong\\u003e”，千万不要束缚自己，因为“立场原因”固执着不肯用低版本Python。这样吃亏的是自己。\\u003c/p\\u003e\\n\\u003cp\\u003e怎样才能做个“两栖动物”呢？\\u003c/p\\u003e\\n\\u003cp\\u003e办法之一，就是使用Anaconda的虚拟环境。可以参考《\\u003ca href=\\\"https://www.jianshu.com/p/afea092dda1d\\\" target=\\\"_blank\\\"\\u003e如何在Jupyter Notebook中使用Python虚拟环境？\\u003c/a\\u003e》。\\u003c/p\\u003e\\n\\u003cp\\u003e你初始安装版本针对Python 2.7的Anaconda，并不妨碍你快速建立一个3.6版本Python的\\u003cstrong\\u003e虚拟环境\\u003c/strong\\u003e。\\u003c/p\\u003e\\n\\u003cp\\u003e有了这个秘籍，你就可以在不同版本的Python之间左右逢源，游刃有余了。\\u003c/p\\u003e\\n\\u003ch1\\u003e自然语言处理\\u003c/h1\\u003e\\n\\u003cp\\u003e下一步，我们来尝试自然语言处理（Natural Language Processing, NLP）。\\u003c/p\\u003e\\n\\u003cp\\u003e情感分析，是NLP在许多社会科学领域热门的应用之一。\\u003c/p\\u003e\\n\\u003cp\\u003e《\\u003ca href=\\\"https://www.jianshu.com/p/d50a14541d01\\\" target=\\\"_blank\\\"\\u003e如何用Python做情感分析？\\u003c/a\\u003e》这篇文章，分别从英文和中文两个案例，分别采用不同的软件包，针对性地解决应用需求。\\u003c/p\\u003e\\n\\u003cp\\u003e你只需要几行代码，就能让Python告诉你情感的取向。是不是很厉害？\\u003c/p\\u003e\\n\\u003cp\\u003e有了情感分析做基础，你可以尝试增加维度，对更大体量的数据做分析。\\u003c/p\\u003e\\n\\u003cp\\u003e增加时间维度，就可以持续分析变化的舆情。\\u003c/p\\u003e\\n\\u003cp\\u003e《\\u003ca href=\\\"https://www.jianshu.com/p/4ea083874df4\\\" target=\\\"_blank\\\"\\u003e如何用Python做舆情时间序列可视化？\\u003c/a\\u003e》这篇文章，一步步指引你在时间刻度上可视化情感分析结果：\\u003c/p\\u003e\\n\\u003cdiv class=\\\"image-package\\\"\\u003e\\n\\u003cdiv class=\\\"image-container\\\" style=\\\"max-width: 676px; max-height: 484px;\\\"\\u003e\\n\\u003cdiv class=\\\"image-container-fill\\\" style=\\\"padding-bottom: 71.6%;\\\"\\u003e\\u003c/div\\u003e\\n\\u003cdiv class=\\\"image-view\\\" data-width=\\\"676\\\" data-height=\\\"484\\\"\\u003e\\u003cimg data-original-src=\\\"//upload-images.jianshu.io/upload_images/64542-2b965c8e5fc9545e.png\\\" data-original-width=\\\"676\\\" data-original-height=\\\"484\\\" data-original-format=\\\"image/png\\\" data-original-filesize=\\\"45954\\\"\\u003e\\u003c/div\\u003e\\n\\u003c/div\\u003e\\n\\u003cdiv class=\\\"image-caption\\\"\\u003e\\u003c/div\\u003e\\n\\u003c/div\\u003e\\n\\u003cp\\u003e这图难看了一些。\\u003c/p\\u003e\\n\\u003cp\\u003e不过我们需要容忍自己起步时的笨拙，不断迭代与精进。\\u003c/p\\u003e\\n\\u003cp\\u003e希望一出手就满分，对极少数天才，确实无非是日常。\\u003c/p\\u003e\\n\\u003cp\\u003e但对大多数人，是\\u003cstrong\\u003e拖延症\\u003c/strong\\u003e的开始。\\u003c/p\\u003e\\n\\u003cp\\u003e你可能迫不及待，尝试换自己的数据做时间序列可视化分析。\\u003c/p\\u003e\\n\\u003cp\\u003e不过日期数据如果与样例有出入，可能会出现问题。\\u003c/p\\u003e\\n\\u003cp\\u003e这时候，不要慌，请参考《\\u003ca href=\\\"https://www.jianshu.com/p/af6201d2f0c6\\\" target=\\\"_blank\\\"\\u003ePython编程遇问题，文科生怎么办？\\u003c/a\\u003e》的\\u003cstrong\\u003e第二部分\\u003c/strong\\u003e，其中有详细的错误原因分析与对策展示。\\u003c/p\\u003e\\n\\u003cp\\u003e看过后，分析结果图也会迭代成这个样子：\\u003c/p\\u003e\\n\\u003cdiv class=\\\"image-package\\\"\\u003e\\n\\u003cdiv class=\\\"image-container\\\" style=\\\"max-width: 700px; max-height: 206px;\\\"\\u003e\\n\\u003cdiv class=\\\"image-container-fill\\\" style=\\\"padding-bottom: 29.43%;\\\"\\u003e\\u003c/div\\u003e\\n\\u003cdiv class=\\\"image-view\\\" data-width=\\\"700\\\" data-height=\\\"206\\\"\\u003e\\u003cimg data-original-src=\\\"//upload-images.jianshu.io/upload_images/64542-8da549a25a11dbd7.png\\\" data-original-width=\\\"700\\\" data-original-height=\\\"206\\\" data-original-format=\\\"image/png\\\" data-original-filesize=\\\"147175\\\"\\u003e\\u003c/div\\u003e\\n\\u003c/div\\u003e\\n\\u003cdiv class=\\\"image-caption\\\"\\u003e\\u003c/div\\u003e\\n\\u003c/div\\u003e\\n\\u003cp\\u003e到这里，你对情感分析有点儿感觉了吧？\\u003c/p\\u003e\\n\\u003cp\\u003e如果你不打算使用第三方提供的情感分类算法，打算自己动手训练一个更为精确的情感分类模型，可以参考《\\u003ca href=\\\"https://www.jianshu.com/p/29aa3ad63f9d\\\" target=\\\"_blank\\\"\\u003e如何用Python和机器学习训练中文文本情感分类模型？\\u003c/a\\u003e》一文。\\u003c/p\\u003e\\n\\u003cp\\u003e刚刚这些情感分析，其实只是极性分析（正面vs负面）。但是我们都知道，人的情感其实是多方面共同构成的。\\u003c/p\\u003e\\n\\u003cdiv class=\\\"image-package\\\"\\u003e\\n\\u003cdiv class=\\\"image-container\\\" style=\\\"max-width: 430px; max-height: 297px;\\\"\\u003e\\n\\u003cdiv class=\\\"image-container-fill\\\" style=\\\"padding-bottom: 69.07%;\\\"\\u003e\\u003c/div\\u003e\\n\\u003cdiv class=\\\"image-view\\\" data-width=\\\"430\\\" data-height=\\\"297\\\"\\u003e\\u003cimg data-original-src=\\\"//upload-images.jianshu.io/upload_images/64542-c556f933edad42b8.png\\\" data-original-width=\\\"430\\\" data-original-height=\\\"297\\\" data-original-format=\\\"image/png\\\" data-original-filesize=\\\"102230\\\"\\u003e\\u003c/div\\u003e\\n\\u003c/div\\u003e\\n\\u003cdiv class=\\\"image-caption\\\"\\u003e\\u003c/div\\u003e\\n\\u003c/div\\u003e\\n\\u003cp\\u003e如何从文本中，分解出\\u003cstrong\\u003e多维度\\u003c/strong\\u003e的情感特征变化呢？\\u003c/p\\u003e\\n\\u003cp\\u003e《\\u003ca href=\\\"https://www.jianshu.com/p/0c782715e58a\\\" target=\\\"_blank\\\"\\u003e如何用Python和R对《权力的游戏》故事情节做情绪分析？\\u003c/a\\u003e》一文分析了《权力的游戏》中某一集剧本，你会获得这样的结果：\\u003c/p\\u003e\\n\\u003cdiv class=\\\"image-package\\\"\\u003e\\n\\u003cdiv class=\\\"image-container\\\" style=\\\"max-width: 672px; max-height: 480px;\\\"\\u003e\\n\\u003cdiv class=\\\"image-container-fill\\\" style=\\\"padding-bottom: 71.43%;\\\"\\u003e\\u003c/div\\u003e\\n\\u003cdiv class=\\\"image-view\\\" data-width=\\\"672\\\" data-height=\\\"480\\\"\\u003e\\u003cimg data-original-src=\\\"//upload-images.jianshu.io/upload_images/64542-f58e57d80d711aee.png\\\" data-original-width=\\\"672\\\" data-original-height=\\\"480\\\" data-original-format=\\\"image/png\\\" data-original-filesize=\\\"71602\\\"\\u003e\\u003c/div\\u003e\\n\\u003c/div\\u003e\\n\\u003cdiv class=\\\"image-caption\\\"\\u003e\\u003c/div\\u003e\\n\\u003c/div\\u003e\\n\\u003cp\\u003e如果你是《权力的游戏》剧迷，请告诉我，这张图描绘的是哪一集？\\u003c/p\\u003e\\n\\u003cp\\u003e先猜猜看，然后再打开\\u003ca href=\\\"https://www.jianshu.com/p/0c782715e58a\\\" target=\\\"_blank\\\"\\u003e文章\\u003c/a\\u003e，跟结尾做对比。\\u003c/p\\u003e\\n\\u003cp\\u003e这篇文章的可视化分析部分，用的是R。\\u003c/p\\u003e\\n\\u003cp\\u003eR也是数据科学领域一个非常受欢迎的\\u003cstrong\\u003e开源工具\\u003c/strong\\u003e。它的通用性和热度可能不如Python（毕竟Python除了数据科学，还能干许多其他的事儿），但是因为有统计学界诸多科学家的拥护和添砖加瓦，因此有非常好的一套生态系统。\\u003c/p\\u003e\\n\\u003cp\\u003e如果你希望对单一长文本提取若干重要关键词，该怎么办呢？\\u003c/p\\u003e\\n\\u003cp\\u003e请你阅读《\\u003ca href=\\\"https://www.jianshu.com/p/cf383fd471bb\\\" target=\\\"_blank\\\"\\u003e如何用Python提取中文关键词？\\u003c/a\\u003e》一文。它采用词汇向量化、TextRank等成熟的关键词提取算法来解决问题。\\u003c/p\\u003e\\n\\u003ch1\\u003e课间答疑\\u003c/h1\\u003e\\n\\u003cp\\u003e随着知识、技能和经验的积累，你的疑问可能也逐渐增多了吧？\\u003c/p\\u003e\\n\\u003cp\\u003e有的同学对这种教学方式有疑问——案例挺有意思，也很简单易学，但是怎么把它用到我自己的学习、工作和科研中呢？\\u003c/p\\u003e\\n\\u003cp\\u003e我为你写了一篇答疑说明，叫做《\\u003ca href=\\\"https://www.jianshu.com/p/e3f52e0860fd\\\" target=\\\"_blank\\\"\\u003e文科生如何高效学数据科学？\\u003c/a\\u003e》。文中提到了以下几个方面：\\u003c/p\\u003e\\n\\u003cul\\u003e\\n\\u003cli\\u003e如何指定目标？\\u003c/li\\u003e\\n\\u003cli\\u003e如何确定深度？\\u003c/li\\u003e\\n\\u003cli\\u003e如何加强协作？\\u003c/li\\u003e\\n\\u003c/ul\\u003e\\n\\u003cp\\u003e提到协作，就不能不说Github这个全球最大的开源代码托管仓库了。\\u003c/p\\u003e\\n\\u003cp\\u003e在咱们的教程里，也多次使用Github来存储代码和数据，以便你能够重复运行教程中的结果。\\u003c/p\\u003e\\n\\u003cp\\u003e《\\u003ca href=\\\"https://www.jianshu.com/p/13d356e76659\\\" target=\\\"_blank\\\"\\u003e如何高效入门Github？\\u003c/a\\u003e》一文提供了文档和视频教程资源，希望能对你掌握这个数据富矿提供帮助。\\u003c/p\\u003e\\n\\u003cp\\u003e不少读者在这个阶段常提出这个问题：老师，想学Python，推荐本书呗。\\u003c/p\\u003e\\n\\u003cp\\u003e看来，你已经明白了Python的好处了，对吧？\\u003c/p\\u003e\\n\\u003cp\\u003e《\\u003ca href=\\\"https://www.jianshu.com/p/3678e3dd29f5\\\" target=\\\"_blank\\\"\\u003e如何高效学Python？\\u003c/a\\u003e》帮助你给自己的学习特性做出了分类。根据分类的结果，你可以选择更适合自己的学习路径。\\u003c/p\\u003e\\n\\u003cp\\u003e推荐的教材，不仅包括书籍，还包括MOOC。希望这种充满互动的教学方式，对你入门数据科学有帮助。\\u003c/p\\u003e\\n\\u003ch1\\u003e机器学习\\u003c/h1\\u003e\\n\\u003cp\\u003e你可以尝试做更进一步的分析了。\\u003c/p\\u003e\\n\\u003cp\\u003e例如机器学习（Machine Learning）。\\u003c/p\\u003e\\n\\u003cdiv class=\\\"image-package\\\"\\u003e\\n\\u003cdiv class=\\\"image-container\\\" style=\\\"max-width: 700px; max-height: 596px;\\\"\\u003e\\n\\u003cdiv class=\\\"image-container-fill\\\" style=\\\"padding-bottom: 66.22%;\\\"\\u003e\\u003c/div\\u003e\\n\\u003cdiv class=\\\"image-view\\\" data-width=\\\"900\\\" data-height=\\\"596\\\"\\u003e\\u003cimg data-original-src=\\\"//upload-images.jianshu.io/upload_images/64542-3aa4b50db6d4ae2b.png\\\" data-original-width=\\\"900\\\" data-original-height=\\\"596\\\" data-original-format=\\\"image/png\\\" data-original-filesize=\\\"544337\\\"\\u003e\\u003c/div\\u003e\\n\\u003c/div\\u003e\\n\\u003cdiv class=\\\"image-caption\\\"\\u003e\\u003c/div\\u003e\\n\\u003c/div\\u003e\\n\\u003cp\\u003e机器学习的妙用，就是在那些你（其实是人类）无法准确描述解决步骤的问题上，让机器通过大量案例（数据）的观察、试错，构建一个\\u003cstrong\\u003e相对有用的模型\\u003c/strong\\u003e，来自动化处理问题，或者为人类的决策提供辅助依据。\\u003c/p\\u003e\\n\\u003cp\\u003e大体上，机器学习主要分为3类：\\u003c/p\\u003e\\n\\u003cul\\u003e\\n\\u003cli\\u003e监督学习（Supervised Learning）\\u003c/li\\u003e\\n\\u003cli\\u003e非监督学习（Unsupervised Learning）\\u003c/li\\u003e\\n\\u003cli\\u003e强化学习（Reinforcement Learning）\\u003c/li\\u003e\\n\\u003c/ul\\u003e\\n\\u003cp\\u003e目前本专栏介绍了前两类的一些例子。\\u003c/p\\u003e\\n\\u003cp\\u003e监督学习与非监督学习最大的差别，在于数据。\\u003c/p\\u003e\\n\\u003cp\\u003e数据已有标注（一般是人工赋予标签），一般用监督学习；\\u003c/p\\u003e\\n\\u003cp\\u003e数据没有标注，一般只能用非监督学习。\\u003c/p\\u003e\\n\\u003cdiv class=\\\"image-package\\\"\\u003e\\n\\u003cdiv class=\\\"image-container\\\" style=\\\"max-width: 700px; max-height: 436px;\\\"\\u003e\\n\\u003cdiv class=\\\"image-container-fill\\\" style=\\\"padding-bottom: 62.29%;\\\"\\u003e\\u003c/div\\u003e\\n\\u003cdiv class=\\\"image-view\\\" data-width=\\\"700\\\" data-height=\\\"436\\\"\\u003e\\u003cimg data-original-src=\\\"//upload-images.jianshu.io/upload_images/64542-b3648418a4f6ac29.png\\\" data-original-width=\\\"700\\\" data-original-height=\\\"436\\\" data-original-format=\\\"image/png\\\" data-original-filesize=\\\"287585\\\"\\u003e\\u003c/div\\u003e\\n\\u003c/div\\u003e\\n\\u003cdiv class=\\\"image-caption\\\"\\u003e\\u003c/div\\u003e\\n\\u003c/div\\u003e\\n\\u003cp\\u003e监督学习部分，我们举了分类（classification）任务的例子。\\u003c/p\\u003e\\n\\u003cp\\u003e《\\u003ca href=\\\"https://www.jianshu.com/p/67a71e366516\\\" target=\\\"_blank\\\"\\u003e贷还是不贷：如何用Python和机器学习帮你决策？\\u003c/a\\u003e》中的案例，选择了贷款审批辅助决策。\\u003c/p\\u003e\\n\\u003cp\\u003e具体的机器学习算法，是决策树（decision tree）。\\u003c/p\\u003e\\n\\u003cdiv class=\\\"image-package\\\"\\u003e\\n\\u003cdiv class=\\\"image-container\\\" style=\\\"max-width: 700px; max-height: 552px;\\\"\\u003e\\n\\u003cdiv class=\\\"image-container-fill\\\" style=\\\"padding-bottom: 35.05%;\\\"\\u003e\\u003c/div\\u003e\\n\\u003cdiv class=\\\"image-view\\\" data-width=\\\"1575\\\" data-height=\\\"552\\\"\\u003e\\u003cimg data-original-src=\\\"//upload-images.jianshu.io/upload_images/64542-736a4f780d13e464.png\\\" data-original-width=\\\"1575\\\" data-original-height=\\\"552\\\" data-original-format=\\\"image/png\\\" data-original-filesize=\\\"239087\\\"\\u003e\\u003c/div\\u003e\\n\\u003c/div\\u003e\\n\\u003cdiv class=\\\"image-caption\\\"\\u003e\\u003c/div\\u003e\\n\\u003c/div\\u003e\\n\\u003cp\\u003e有同学表示，绘制这棵决策树的时候，遇到了问题。\\u003c/p\\u003e\\n\\u003cp\\u003e这主要是因为运行环境的差异和依赖工具的安装没有正确完成。\\u003c/p\\u003e\\n\\u003cp\\u003e《\\u003ca href=\\\"https://www.jianshu.com/p/af6201d2f0c6\\\" target=\\\"_blank\\\"\\u003ePython编程遇问题，文科生怎么办？\\u003c/a\\u003e》的第一部分，对这些问题做了详细的阐述，请根据列出的步骤尝试解决。\\u003c/p\\u003e\\n\\u003cp\\u003e不仅如此，\\u003ca href=\\\"https://www.jianshu.com/p/af6201d2f0c6\\\" target=\\\"_blank\\\"\\u003e这篇文章\\u003c/a\\u003e展示给你了一种\\u003cstrong\\u003e任务导向\\u003c/strong\\u003e的学习方式，期望它可以提升你Python语言和数据科学学习效率。\\u003c/p\\u003e\\n\\u003cp\\u003e非监督学习部分，我们讲述了《\\u003ca href=\\\"https://www.jianshu.com/p/fdde9fc03f94\\\" target=\\\"_blank\\\"\\u003e如何用Python从海量文本抽取主题？\\u003c/a\\u003e》。\\u003c/p\\u003e\\n\\u003cp\\u003e文中用一种叫做LDA的聚类（clustering）方法，帮你从可能感兴趣的浩如烟海文档中，提取出可能的类别，对应的主要关键词，并且做可视化处理。\\u003c/p\\u003e\\n\\u003cdiv class=\\\"image-package\\\"\\u003e\\n\\u003cdiv class=\\\"image-container\\\" style=\\\"max-width: 700px; max-height: 438px;\\\"\\u003e\\n\\u003cdiv class=\\\"image-container-fill\\\" style=\\\"padding-bottom: 62.57%;\\\"\\u003e\\u003c/div\\u003e\\n\\u003cdiv class=\\\"image-view\\\" data-width=\\\"700\\\" data-height=\\\"438\\\"\\u003e\\u003cimg data-original-src=\\\"//upload-images.jianshu.io/upload_images/64542-6bc6a0c127d96893.png\\\" data-original-width=\\\"700\\\" data-original-height=\\\"438\\\" data-original-format=\\\"image/png\\\" data-original-filesize=\\\"147571\\\"\\u003e\\u003c/div\\u003e\\n\\u003c/div\\u003e\\n\\u003cdiv class=\\\"image-caption\\\"\\u003e\\u003c/div\\u003e\\n\\u003c/div\\u003e\\n\\u003cp\\u003e文中提及了停用词（stopwords）的处理，但是没有给出中文停用词的具体应用方法。\\u003c/p\\u003e\\n\\u003cp\\u003e《\\u003ca href=\\\"https://www.jianshu.com/p/29aa3ad63f9d\\\" target=\\\"_blank\\\"\\u003e如何用Python和机器学习训练中文文本情感分类模型？\\u003c/a\\u003e》一文中，我不仅对停用词处理方式进行了详细的介绍，而且把监督学习Naive Bayes模型应用于情感分析，手把手教你如何训练自己的情感分类模型。\\u003c/p\\u003e\\n\\u003ch1\\u003e深度学习\\u003c/h1\\u003e\\n\\u003cp\\u003e深度学习，指用深度神经网络（Deep Neural Network）进行机器学习。\\u003c/p\\u003e\\n\\u003cp\\u003e相对于传统机器学习方法，它使用的模型结构更为复杂，需要更多的数据支持，并且训练起来要消耗更多的计算资源和时间。\\u003c/p\\u003e\\n\\u003cp\\u003e常见的深度学习应用，包括语音识别、计算机视觉和机器翻译等。\\u003c/p\\u003e\\n\\u003cp\\u003e当然，新闻里面最爱提的，是下围棋这个事儿：\\u003c/p\\u003e\\n\\u003cdiv class=\\\"image-package\\\"\\u003e\\n\\u003cdiv class=\\\"image-container\\\" style=\\\"max-width: 400px; max-height: 288px;\\\"\\u003e\\n\\u003cdiv class=\\\"image-container-fill\\\" style=\\\"padding-bottom: 72.0%;\\\"\\u003e\\u003c/div\\u003e\\n\\u003cdiv class=\\\"image-view\\\" data-width=\\\"400\\\" data-height=\\\"288\\\"\\u003e\\u003cimg data-original-src=\\\"//upload-images.jianshu.io/upload_images/64542-27758c474c62535b.png\\\" data-original-width=\\\"400\\\" data-original-height=\\\"288\\\" data-original-format=\\\"image/png\\\" data-original-filesize=\\\"101612\\\"\\u003e\\u003c/div\\u003e\\n\\u003c/div\\u003e\\n\\u003cdiv class=\\\"image-caption\\\"\\u003e\\u003c/div\\u003e\\n\\u003c/div\\u003e\\n\\u003cp\\u003e我们提供的案例，没有那么挑战人类智能极限，而是跟日常工作和生活更加相关。\\u003c/p\\u003e\\n\\u003cp\\u003e《\\u003ca href=\\\"https://www.jianshu.com/p/7c08e9d79514\\\" target=\\\"_blank\\\"\\u003e如何用Python和深度神经网络发现即将流失的客户？\\u003c/a\\u003e》为你介绍了深度神经网络的基本结构。\\u003c/p\\u003e\\n\\u003cdiv class=\\\"image-package\\\"\\u003e\\n\\u003cdiv class=\\\"image-container\\\" style=\\\"max-width: 700px; max-height: 438px;\\\"\\u003e\\n\\u003cdiv class=\\\"image-container-fill\\\" style=\\\"padding-bottom: 62.57%;\\\"\\u003e\\u003c/div\\u003e\\n\\u003cdiv class=\\\"image-view\\\" data-width=\\\"700\\\" data-height=\\\"438\\\"\\u003e\\u003cimg data-original-src=\\\"//upload-images.jianshu.io/upload_images/64542-ea930696fb27650a.png\\\" data-original-width=\\\"700\\\" data-original-height=\\\"438\\\" data-original-format=\\\"image/png\\\" data-original-filesize=\\\"159564\\\"\\u003e\\u003c/div\\u003e\\n\\u003c/div\\u003e\\n\\u003cdiv class=\\\"image-caption\\\"\\u003e\\u003c/div\\u003e\\n\\u003c/div\\u003e\\n\\u003cp\\u003e这篇文章通过客户流失预警的例子，讲述了使用前馈神经网络进行监督式学习的基本样例。\\u003c/p\\u003e\\n\\u003cp\\u003e实际操作部分，我们采用Tensorflow作为后端，tflearn作为前段，构造你自己的第一个深度神经网络。\\u003c/p\\u003e\\n\\u003cdiv class=\\\"image-package\\\"\\u003e\\n\\u003cdiv class=\\\"image-container\\\" style=\\\"max-width: 700px; max-height: 394px;\\\"\\u003e\\n\\u003cdiv class=\\\"image-container-fill\\\" style=\\\"padding-bottom: 56.28999999999999%;\\\"\\u003e\\u003c/div\\u003e\\n\\u003cdiv class=\\\"image-view\\\" data-width=\\\"700\\\" data-height=\\\"394\\\"\\u003e\\u003cimg data-original-src=\\\"//upload-images.jianshu.io/upload_images/64542-1dbb3320f53954a9.png\\\" data-original-width=\\\"700\\\" data-original-height=\\\"394\\\" data-original-format=\\\"image/png\\\" data-original-filesize=\\\"108390\\\"\\u003e\\u003c/div\\u003e\\n\\u003c/div\\u003e\\n\\u003cdiv class=\\\"image-caption\\\"\\u003e\\u003c/div\\u003e\\n\\u003c/div\\u003e\\n\\u003cp\\u003e《\\u003ca href=\\\"https://www.jianshu.com/p/7c08e9d79514\\\" target=\\\"_blank\\\"\\u003e如何用Python和深度神经网络发现即将流失的客户？\\u003c/a\\u003e》一文末尾还为你提供了进一步掌握深度学习的相关资源。\\u003c/p\\u003e\\n\\u003cp\\u003e如果你需要安装Tensorflow深度学习框架（Google出品哦），欢迎先阅读这篇《\\u003ca href=\\\"https://www.jianshu.com/p/94e6778937ea\\\" target=\\\"_blank\\\"\\u003eTensorflow执行pip升级安装的坑\\u003c/a\\u003e》。\\u003c/p\\u003e\\n\\u003cp\\u003e有了深度神经网络的基础知识，我们折腾计算机视觉。\\u003c/p\\u003e\\n\\u003cp\\u003e《\\u003ca href=\\\"https://www.jianshu.com/p/0db025ebf0a1\\\" target=\\\"_blank\\\"\\u003e如何用Python和深度神经网络识别图像？\\u003c/a\\u003e》一文，举例分类哆啦a梦和瓦力这两个机器人的各种花式图像集合。\\u003c/p\\u003e\\n\\u003cp\\u003e卷积神经网络(Convolutional Neural Network, CNN)这时就大放异彩了。\\u003c/p\\u003e\\n\\u003cdiv class=\\\"image-package\\\"\\u003e\\n\\u003cdiv class=\\\"image-container\\\" style=\\\"max-width: 700px; max-height: 245px;\\\"\\u003e\\n\\u003cdiv class=\\\"image-container-fill\\\" style=\\\"padding-bottom: 35.0%;\\\"\\u003e\\u003c/div\\u003e\\n\\u003cdiv class=\\\"image-view\\\" data-width=\\\"700\\\" data-height=\\\"245\\\"\\u003e\\u003cimg data-original-src=\\\"//upload-images.jianshu.io/upload_images/64542-7a6632f9f883ba00.png\\\" data-original-width=\\\"700\\\" data-original-height=\\\"245\\\" data-original-format=\\\"image/png\\\" data-original-filesize=\\\"35017\\\"\\u003e\\u003c/div\\u003e\\n\\u003c/div\\u003e\\n\\u003cdiv class=\\\"image-caption\\\"\\u003e\\u003c/div\\u003e\\n\\u003c/div\\u003e\\n\\u003cp\\u003e这篇文章，帮你分析了卷积神经网络中，不同层次（Layer）的作用。\\u003c/p\\u003e\\n\\u003cp\\u003e我们尽量避免用公式，而是用图像、动图和平实简洁的语言描述来为你解释概念。\\u003c/p\\u003e\\n\\u003cp\\u003e我们使用的深度学习框架，是苹果的TuriCreate。你会调用一个非常深层次的卷积神经网络，帮我们迁(tou)移(ji)学(qu)习(qiao)，用很少的训练数据，获得非常高的分类准确率。\\u003c/p\\u003e\\n\\u003cdiv class=\\\"image-package\\\"\\u003e\\n\\u003cdiv class=\\\"image-container\\\" style=\\\"max-width: 638px; max-height: 359px;\\\"\\u003e\\n\\u003cdiv class=\\\"image-container-fill\\\" style=\\\"padding-bottom: 56.269999999999996%;\\\"\\u003e\\u003c/div\\u003e\\n\\u003cdiv class=\\\"image-view\\\" data-width=\\\"638\\\" data-height=\\\"359\\\"\\u003e\\u003cimg data-original-src=\\\"//upload-images.jianshu.io/upload_images/64542-b57926c40a3b1339.png\\\" data-original-width=\\\"638\\\" data-original-height=\\\"359\\\" data-original-format=\\\"image/png\\\" data-original-filesize=\\\"185014\\\"\\u003e\\u003c/div\\u003e\\n\\u003c/div\\u003e\\n\\u003cdiv class=\\\"image-caption\\\"\\u003e\\u003c/div\\u003e\\n\\u003c/div\\u003e\\n\\u003cp\\u003e有的读者自己尝试，测试集准确率居然达到100%（视运行环境不同，有差异），大呼过瘾。可同时又觉得不可思议。\\u003c/p\\u003e\\n\\u003cp\\u003e为了解释这种“奇迹”，同时解答读者“如何在私有数据集上以图搜图”的疑问，我写了《\\u003ca href=\\\"https://www.jianshu.com/p/6fe5c75a8aa5\\\" target=\\\"_blank\\\"\\u003e如何用Python和深度神经网络寻找近似图片？\\u003c/a\\u003e》。\\u003c/p\\u003e\\n\\u003cdiv class=\\\"image-package\\\"\\u003e\\n\\u003cdiv class=\\\"image-container\\\" style=\\\"max-width: 700px; max-height: 525px;\\\"\\u003e\\n\\u003cdiv class=\\\"image-container-fill\\\" style=\\\"padding-bottom: 75.0%;\\\"\\u003e\\u003c/div\\u003e\\n\\u003cdiv class=\\\"image-view\\\" data-width=\\\"700\\\" data-height=\\\"525\\\"\\u003e\\u003cimg data-original-src=\\\"//upload-images.jianshu.io/upload_images/64542-98dc1305c34c19f6.png\\\" data-original-width=\\\"700\\\" data-original-height=\\\"525\\\" data-original-format=\\\"image/png\\\" data-original-filesize=\\\"191492\\\"\\u003e\\u003c/div\\u003e\\n\\u003c/div\\u003e\\n\\u003cdiv class=\\\"image-caption\\\"\\u003e\\u003c/div\\u003e\\n\\u003c/div\\u003e\\n\\u003cp\\u003e希望读过此文，你对迁移学习（Transfer Learning）有了更深入的认识。\\u003c/p\\u003e\\n\\u003cp\\u003e如果这两篇文章学完，你对卷积神经网络的基础知识依然不是很清晰，也没关系，因为我的研究生们遭遇了同样的问题。\\u003c/p\\u003e\\n\\u003cp\\u003e为此，我专门录制了一段\\u003ca href=\\\"https://www.jianshu.com/p/fe114409daaf\\\" target=\\\"_blank\\\"\\u003e讲解答疑视频\\u003c/a\\u003e。\\u003c/p\\u003e\\n\\u003cdiv class=\\\"image-package\\\"\\u003e\\n\\u003cdiv class=\\\"image-container\\\" style=\\\"max-width: 700px; max-height: 437px;\\\"\\u003e\\n\\u003cdiv class=\\\"image-container-fill\\\" style=\\\"padding-bottom: 62.5%;\\\"\\u003e\\u003c/div\\u003e\\n\\u003cdiv class=\\\"image-view\\\" data-width=\\\"2560\\\" data-height=\\\"1600\\\"\\u003e\\u003cimg data-original-src=\\\"//upload-images.jianshu.io/upload_images/64542-b6f3cbadee3b0c02.png\\\" data-original-width=\\\"2560\\\" data-original-height=\\\"1600\\\" data-original-format=\\\"image/png\\\" data-original-filesize=\\\"1901730\\\"\\u003e\\u003c/div\\u003e\\n\\u003c/div\\u003e\\n\\u003cdiv class=\\\"image-caption\\\"\\u003e\\u003c/div\\u003e\\n\\u003c/div\\u003e\\n\\u003cp\\u003e\\u003ca href=\\\"https://www.jianshu.com/p/fe114409daaf\\\" target=\\\"_blank\\\"\\u003e这段视频\\u003c/a\\u003e里，我主要谈及了以下几个方面：\\u003c/p\\u003e\\n\\u003cul\\u003e\\n\\u003cli\\u003e深度神经网络的基本结构；\\u003c/li\\u003e\\n\\u003cli\\u003e神经元的计算功能实现；\\u003c/li\\u003e\\n\\u003cli\\u003e如何对深度神经网络做训练；\\u003c/li\\u003e\\n\\u003cli\\u003e如何选择最优的模型（超参数调整）；\\u003c/li\\u003e\\n\\u003cli\\u003e卷积神经网络基本原理；\\u003c/li\\u003e\\n\\u003cli\\u003e迁移学习的实现；\\u003c/li\\u003e\\n\\u003cli\\u003e疑问解答。\\u003c/li\\u003e\\n\\u003c/ul\\u003e\\n\\u003cp\\u003e希望看过之后，你再从论文里读到计算机视觉的神经网络模型，就可以游刃有余了。\\u003c/p\\u003e\\n\\u003cp\\u003e另一批作者又来发问了：\\u003c/p\\u003e\\n\\u003cp\\u003e老师，我用Windows，死活就是装不上TuriCreate，可怎么办？\\u003c/p\\u003e\\n\\u003cp\\u003e我替他们着急的时候，恰好找到了一个宝贝。于是写了《\\u003ca href=\\\"https://www.jianshu.com/p/eebf9a13c52a\\\" target=\\\"_blank\\\"\\u003e如何免费云端运行Python深度学习框架？\\u003c/a\\u003e》。\\u003c/p\\u003e\\n\\u003cdiv class=\\\"image-package\\\"\\u003e\\n\\u003cdiv class=\\\"image-container\\\" style=\\\"max-width: 700px; max-height: 551px;\\\"\\u003e\\n\\u003cdiv class=\\\"image-container-fill\\\" style=\\\"padding-bottom: 78.71000000000001%;\\\"\\u003e\\u003c/div\\u003e\\n\\u003cdiv class=\\\"image-view\\\" data-width=\\\"700\\\" data-height=\\\"551\\\"\\u003e\\u003cimg data-original-src=\\\"//upload-images.jianshu.io/upload_images/64542-dc123857b8a90c1d.png\\\" data-original-width=\\\"700\\\" data-original-height=\\\"551\\\" data-original-format=\\\"image/png\\\" data-original-filesize=\\\"109194\\\"\\u003e\\u003c/div\\u003e\\n\\u003c/div\\u003e\\n\\u003cdiv class=\\\"image-caption\\\"\\u003e\\u003c/div\\u003e\\n\\u003c/div\\u003e\\n\\u003cp\\u003e免费使用GPU，用极为简易的操作，就可以在Google云端Linux主机上部署和执行苹果深度学习框架……\\u003c/p\\u003e\\n\\u003cp\\u003e听着是不是像做梦啊？\\u003c/p\\u003e\\n\\u003cp\\u003e感谢Google这家为人类知识积累做出贡献的企业。\\u003c/p\\u003e\\n\\u003cdiv class=\\\"image-package\\\"\\u003e\\n\\u003cdiv class=\\\"image-container\\\" style=\\\"max-width: 700px; max-height: 393px;\\\"\\u003e\\n\\u003cdiv class=\\\"image-container-fill\\\" style=\\\"padding-bottom: 56.25%;\\\"\\u003e\\u003c/div\\u003e\\n\\u003cdiv class=\\\"image-view\\\" data-width=\\\"2048\\\" data-height=\\\"1152\\\"\\u003e\\u003cimg data-original-src=\\\"//upload-images.jianshu.io/upload_images/64542-c4ca89bb1e9b1730.jpg\\\" data-original-width=\\\"2048\\\" data-original-height=\\\"1152\\\" data-original-format=\\\"image/jpeg\\\" data-original-filesize=\\\"491929\\\"\\u003e\\u003c/div\\u003e\\n\\u003c/div\\u003e\\n\\u003cdiv class=\\\"image-caption\\\"\\u003e\\u003c/div\\u003e\\n\\u003c/div\\u003e\\n\\u003ch1\\u003e数据获取\\u003c/h1\\u003e\\n\\u003cp\\u003e学完深度学习之后，你会发现自己变成了“数据饥渴”症患者。\\u003c/p\\u003e\\n\\u003cp\\u003e因为如果没有大量的数据，就无法支撑你的深度神经网络。\\u003c/p\\u003e\\n\\u003cp\\u003e如何获取数据呢？\\u003c/p\\u003e\\n\\u003cp\\u003e我们先要区分数据的来源。\\u003c/p\\u003e\\n\\u003cp\\u003e数据来源很多。但是对于研究者来说，网络数据和文献数据比较常用。\\u003c/p\\u003e\\n\\u003cp\\u003e目前主流（合法）的网络数据方法，主要分为3类：\\u003c/p\\u003e\\n\\u003cul\\u003e\\n\\u003cli\\u003e开放数据集下载；\\u003c/li\\u003e\\n\\u003cli\\u003eAPI读取；\\u003c/li\\u003e\\n\\u003cli\\u003e爬虫爬取（Crawling）。\\u003c/li\\u003e\\n\\u003c/ul\\u003e\\n\\u003cp\\u003e《\\u003ca href=\\\"https://www.jianshu.com/p/424e1c65f424\\\" target=\\\"_blank\\\"\\u003e如何用Python读取开放数据？\\u003c/a\\u003e》一文中，我为你讲解了如何把开放数据集下载并且在Python中使用。\\u003c/p\\u003e\\n\\u003cp\\u003e这篇文章介绍了常见的CSV/Excel, JSON和XML等开放数据文件格式的读取、初步处理和可视化方法与流程。\\u003c/p\\u003e\\n\\u003cdiv class=\\\"image-package\\\"\\u003e\\n\\u003cdiv class=\\\"image-container\\\" style=\\\"max-width: 700px; max-height: 286px;\\\"\\u003e\\n\\u003cdiv class=\\\"image-container-fill\\\" style=\\\"padding-bottom: 40.86%;\\\"\\u003e\\u003c/div\\u003e\\n\\u003cdiv class=\\\"image-view\\\" data-width=\\\"700\\\" data-height=\\\"286\\\"\\u003e\\u003cimg data-original-src=\\\"//upload-images.jianshu.io/upload_images/64542-febdb73c695190f6.png\\\" data-original-width=\\\"700\\\" data-original-height=\\\"286\\\" data-original-format=\\\"image/png\\\" data-original-filesize=\\\"36778\\\"\\u003e\\u003c/div\\u003e\\n\\u003c/div\\u003e\\n\\u003cdiv class=\\\"image-caption\\\"\\u003e\\u003c/div\\u003e\\n\\u003c/div\\u003e\\n\\u003cp\\u003e如果没有开放数据集整理好供你下载，网站只提供API接口，你该怎么办呢？\\u003c/p\\u003e\\n\\u003cp\\u003e《\\u003ca href=\\\"https://www.jianshu.com/p/c2e030187495\\\" target=\\\"_blank\\\"\\u003e如何用R和API免费获取Web数据？\\u003c/a\\u003e》一文，我们使用R读取维基百科API，获得指定条目的访问数量记录，并且做了可视化。\\u003c/p\\u003e\\n\\u003cdiv class=\\\"image-package\\\"\\u003e\\n\\u003cdiv class=\\\"image-container\\\" style=\\\"max-width: 672px; max-height: 480px;\\\"\\u003e\\n\\u003cdiv class=\\\"image-container-fill\\\" style=\\\"padding-bottom: 71.43%;\\\"\\u003e\\u003c/div\\u003e\\n\\u003cdiv class=\\\"image-view\\\" data-width=\\\"672\\\" data-height=\\\"480\\\"\\u003e\\u003cimg data-original-src=\\\"//upload-images.jianshu.io/upload_images/64542-8b385419870c3a37.png\\\" data-original-width=\\\"672\\\" data-original-height=\\\"480\\\" data-original-format=\\\"image/png\\\" data-original-filesize=\\\"52016\\\"\\u003e\\u003c/div\\u003e\\n\\u003c/div\\u003e\\n\\u003cdiv class=\\\"image-caption\\\"\\u003e\\u003c/div\\u003e\\n\\u003c/div\\u003e\\n\\u003cp\\u003e如果没有人为你整理好数据，网站也没有开放API给你，那你就得“直接上大锤”了。\\u003c/p\\u003e\\n\\u003cp\\u003e《\\u003ca href=\\\"https://www.jianshu.com/p/ba02079ecd2f\\\" target=\\\"_blank\\\"\\u003e如何用Python爬数据？（一）网页抓取\\u003c/a\\u003e》一文为你介绍了非常人性化、易用的网页抓取软件包 \\u003ccode\\u003erequests_html\\u003c/code\\u003e，你可以尝试抓取网页内的指定类型链接。\\u003c/p\\u003e\\n\\u003cdiv class=\\\"image-package\\\"\\u003e\\n\\u003cdiv class=\\\"image-container\\\" style=\\\"max-width: 700px; max-height: 732px;\\\"\\u003e\\n\\u003cdiv class=\\\"image-container-fill\\\" style=\\\"padding-bottom: 104.58000000000001%;\\\"\\u003e\\u003c/div\\u003e\\n\\u003cdiv class=\\\"image-view\\\" data-width=\\\"895\\\" data-height=\\\"936\\\"\\u003e\\u003cimg data-original-src=\\\"//upload-images.jianshu.io/upload_images/64542-2f4e62152ae30565.png\\\" data-original-width=\\\"895\\\" data-original-height=\\\"936\\\" data-original-format=\\\"image/png\\\" data-original-filesize=\\\"324250\\\"\\u003e\\u003c/div\\u003e\\n\\u003c/div\\u003e\\n\\u003cdiv class=\\\"image-caption\\\"\\u003e\\u003c/div\\u003e\\n\\u003c/div\\u003e\\n\\u003cp\\u003e文献数据可能存储为各种格式，但其中pdf格式较为常见。\\u003c/p\\u003e\\n\\u003cp\\u003e应诸多读者的要求，我写了《\\u003ca href=\\\"https://www.jianshu.com/p/31939ee6f1c9\\\" target=\\\"_blank\\\"\\u003e如何用Python批量提取PDF文本内容？\\u003c/a\\u003e》。\\u003c/p\\u003e\\n\\u003cdiv class=\\\"image-package\\\"\\u003e\\n\\u003cdiv class=\\\"image-container\\\" style=\\\"max-width: 700px; max-height: 108px;\\\"\\u003e\\n\\u003cdiv class=\\\"image-container-fill\\\" style=\\\"padding-bottom: 15.43%;\\\"\\u003e\\u003c/div\\u003e\\n\\u003cdiv class=\\\"image-view\\\" data-width=\\\"700\\\" data-height=\\\"108\\\"\\u003e\\u003cimg data-original-src=\\\"//upload-images.jianshu.io/upload_images/64542-eae1dd6a77d3d67f.png\\\" data-original-width=\\\"700\\\" data-original-height=\\\"108\\\" data-original-format=\\\"image/png\\\" data-original-filesize=\\\"41381\\\"\\u003e\\u003c/div\\u003e\\n\\u003c/div\\u003e\\n\\u003cdiv class=\\\"image-caption\\\"\\u003e\\u003c/div\\u003e\\n\\u003c/div\\u003e\\n\\u003cp\\u003e你可以批量提取pdf文档的文本内容，并且进行各种分析。\\u003c/p\\u003e\\n\\u003cp\\u003e文中的分析相对简单，我们只是统计了文档字符数量。\\u003c/p\\u003e\\n\\u003cdiv class=\\\"image-package\\\"\\u003e\\n\\u003cdiv class=\\\"image-container\\\" style=\\\"max-width: 700px; max-height: 444px;\\\"\\u003e\\n\\u003cdiv class=\\\"image-container-fill\\\" style=\\\"padding-bottom: 63.43%;\\\"\\u003e\\u003c/div\\u003e\\n\\u003cdiv class=\\\"image-view\\\" data-width=\\\"700\\\" data-height=\\\"444\\\"\\u003e\\u003cimg data-original-src=\\\"//upload-images.jianshu.io/upload_images/64542-4fd58a78756eabe5.png\\\" data-original-width=\\\"700\\\" data-original-height=\\\"444\\\" data-original-format=\\\"image/png\\\" data-original-filesize=\\\"32314\\\"\\u003e\\u003c/div\\u003e\\n\\u003c/div\\u003e\\n\\u003cdiv class=\\\"image-caption\\\"\\u003e\\u003c/div\\u003e\\n\\u003c/div\\u003e\\n\\u003cp\\u003e但是发挥想象力，你可能会做出非常有价值的分析结果。\\u003c/p\\u003e\\n\\u003cp\\u003e希望这些文章可以帮助你高效获得优质数据，支撑起你自己的机器学习模型。\\u003c/p\\u003e\\n\\u003ch1\\u003e小结\\u003c/h1\\u003e\\n\\u003cp\\u003e本文把《\\u003ca href=\\\"https://www.jianshu.com/nb/130182\\\" target=\\\"_blank\\\"\\u003e玉树芝兰\\u003c/a\\u003e》专栏目前的数据科学类文章进行了梳理和归类，建立了链接，以帮你看清它们之间的逻辑依赖关系。\\u003c/p\\u003e\\n\\u003cp\\u003e专栏中，数据科学类文章主要围绕以下方面展开：\\u003c/p\\u003e\\n\\u003cul\\u003e\\n\\u003cli\\u003e环境搭建；\\u003c/li\\u003e\\n\\u003cli\\u003e基础入门；\\u003c/li\\u003e\\n\\u003cli\\u003e自然语言处理；\\u003c/li\\u003e\\n\\u003cli\\u003e机器学习；\\u003c/li\\u003e\\n\\u003cli\\u003e深度学习；\\u003c/li\\u003e\\n\\u003cli\\u003e数据获取；\\u003c/li\\u003e\\n\\u003cli\\u003e答疑。\\u003c/li\\u003e\\n\\u003c/ul\\u003e\\n\\u003cp\\u003e你可能早已发现，我们还有很多话题，没有来得及涉及。\\u003c/p\\u003e\\n\\u003cp\\u003e别着急。\\u003c/p\\u003e\\n\\u003cp\\u003e本专栏会持续添加新的内容。这篇导读也会不定期更新。欢迎关注。\\u003c/p\\u003e\\n\\u003ch1\\u003e讨论\\u003c/h1\\u003e\\n\\u003cp\\u003e本专栏数据科学类的文章里，你更喜欢哪个方面的主题？除此以外，你还希望读到哪些内容？欢迎留言，把你的经验和思考分享给大家，我们一起交流讨论。\\u003c/p\\u003e\\n\\u003cp\\u003e喜欢请点赞。还可以微信关注和置顶我的公众号\\u003ca href=\\\"http://oejqwrqkh.bkt.clouddn.com/2016-10-11-22-26-16.jpg\\\" target=\\\"_blank\\\" rel=\\\"nofollow\\\"\\u003e“玉树芝兰”(nkwangshuyi)\\u003c/a\\u003e。\\u003c/p\\u003e\\n\\u003cp\\u003e如果你对数据科学感兴趣，不妨阅读我的系列教程索引贴《\\u003ca href=\\\"https://www.jianshu.com/p/85f4624485b9\\\" target=\\\"_blank\\\"\\u003e如何高效入门数据科学？\\u003c/a\\u003e》，里面还有更多的有趣问题及解法。\\u003c/p\\u003e\\n\",\"voted_down\":false,\"rewardable\":true,\"show_paid_comment_tips\":false,\"share_image_url\":\"http://upload-images.jianshu.io/upload_images/64542-aa77b7902188affc.png\",\"slug\":\"85f4624485b9\",\"user\":{\"liked_by_user\":false,\"following_count\":81205,\"gender\":1,\"avatar_widget\":null,\"slug\":\"7618ab4a30e4\",\"intro\":\"终身学习者、大学教师。稍微懂一点儿写作、演讲、Python和机器学习。欢迎微信关注并置顶我的公...\",\"likes_count\":12787,\"nickname\":\"王树义\",\"badges\":[{\"text\":\"互联网优秀作者\",\"intro_url\":\"http://www.jianshu.com/p/d1d89ed69098\",\"image_url\":\"https://upload.jianshu.io/user_badge/d859cce6-5b76-421c-aa99-ebe102569be0\",\"icon\":\"other\"}],\"total_fp_amount\":\"3657598768408787456317\",\"wordage\":537687,\"avatar\":\"https://upload.jianshu.io/users/upload_avatars/64542/53f3ed10904a.JPG\",\"id\":64542,\"liked_user\":false},\"likes_count\":200,\"paid_type\":\"fbook_free\",\"show_ads\":true,\"paid_content_accessible\":false,\"hide_search_input\":false,\"total_fp_amount\":\"5797000000000000000\",\"trial_open\":false,\"reprintable\":true,\"bookmarked\":false,\"wordage\":5341,\"featured_comments_count\":0,\"downvotes_count\":0,\"wangxin_trial_open\":null,\"guideShow\":{\"audit_user_nickname_spliter\":0,\"pc_note_bottom_btn\":1,\"pc_like_author_guidance\":1,\"ban_some_labels\":1,\"h5_real_name_auth_link\":1,\"audit_user_background_image_spliter\":0,\"audit_note_spliter\":0,\"new_user_no_ads\":1,\"audit_post_spliter\":0,\"launch_tab\":0,\"include_post\":0,\"pc_login_guidance\":1,\"audit_comment_spliter\":0,\"pc_note_bottom_qrcode\":1,\"audit_user_avatar_spliter\":0,\"audit_collection_spliter\":0,\"pc_top_lottery_guidance\":2,\"subscription_guide_entry\":1,\"creation_muti_function_on\":1,\"explore_score_searcher\":1,\"audit_user_spliter\":0,\"h5_ab_test\":1,\"reason_text\":1,\"pc_note_popup\":2},\"commentable\":true,\"total_rewards_count\":2,\"id\":24146431,\"notebook\":{\"name\":\"\"},\"activity_collection_slug\":null,\"description\":\"链接散落的教程文章，做个详细的导读，助你更高效入门数据科学。 问题 2017年6月以来，我陆续在自己的简书专栏《玉树芝兰》里，写了一系列数据科学教程。 这源于一次研究生课编程...\",\"first_shared_at\":1519128367,\"views_count\":58161,\"notebook_id\":130182},\"baseList\":{\"likeList\":[],\"rewardList\":[]},\"status\":\"success\",\"statusCode\":0},\"user\":{\"isLogin\":false,\"userInfo\":{}},\"comments\":{\"list\":[],\"featuredList\":[]}},\"initialProps\":{\"pageProps\":{\"query\":{\"slug\":\"85f4624485b9\"}},\"localeData\":{\"common\":{\"jianshu\":\"简书\",\"diamond\":\"简书钻\",\"totalAssets\":\"总资产{num}\",\"diamondValue\":\" (约{num}元)\",\"login\":\"登录\",\"logout\":\"注销\",\"register\":\"注册\",\"on\":\"开\",\"off\":\"关\",\"follow\":\"关注\",\"followBook\":\"关注连载\",\"following\":\"已关注\",\"cancelFollow\":\"取消关注\",\"publish\":\"发布\",\"wordage\":\"字数\",\"audio\":\"音频\",\"read\":\"阅读\",\"reward\":\"赞赏\",\"zan\":\"赞\",\"comment\":\"评论\",\"expand\":\"展开\",\"prevPage\":\"上一页\",\"nextPage\":\"下一页\",\"floor\":\"楼\",\"confirm\":\"确定\",\"delete\":\"删除\",\"report\":\"举报\",\"fontSong\":\"宋体\",\"fontBlack\":\"黑体\",\"chs\":\"简体\",\"cht\":\"繁体\",\"jianChat\":\"简信\",\"postRequest\":\"投稿请求\",\"likeAndZan\":\"喜欢和赞\",\"rewardAndPay\":\"赞赏和付费\",\"home\":\"我的主页\",\"markedNotes\":\"收藏的文章\",\"likedNotes\":\"喜欢的文章\",\"paidThings\":\"已购内容\",\"wallet\":\"我的钱包\",\"setting\":\"设置\",\"feedback\":\"帮助与反馈\",\"loading\":\"加载中...\",\"needLogin\":\"请登录后进行操作\",\"trialing\":\"文章正在审核中...\",\"reprintTip\":\"禁止转载，如需转载请通过简信或评论联系作者。\"},\"error\":{\"rewardSelf\":\"无法打赏自己的文章哟~\"},\"message\":{\"paidNoteTip\":\"付费购买后才可以参与评论哦\",\"CommentDisableTip\":\"作者关闭了评论功能\",\"contentCanNotEmptyTip\":\"回复内容不能为空\",\"addComment\":\"评论发布成功\",\"deleteComment\":\"评论删除成功\",\"likeComment\":\"评论点赞成功\",\"setReadMode\":\"阅读模式设置成功\",\"setFontType\":\"字体设置成功\",\"setLocale\":\"显示语言设置成功\",\"follow\":\"关注成功\",\"cancelFollow\":\"取消关注成功\",\"copySuccess\":\"复制代码成功\"},\"header\":{\"homePage\":\"首页\",\"download\":\"下载APP\",\"discover\":\"发现\",\"message\":\"消息\",\"reward\":\"赞赏支持\",\"editNote\":\"编辑文章\",\"writeNote\":\"写文章\",\"techarea\":\"IT技术\"},\"note\":{},\"noteMeta\":{\"lastModified\":\"最后编辑于 \",\"wordage\":\"字数 {num}\",\"viewsCount\":\"阅读 {num}\"},\"divider\":{\"selfText\":\"以下内容为付费内容，定价 ¥{price}\",\"paidText\":\"已付费，可查看以下内容\",\"notPaidText\":\"还有 {percent} 的精彩内容\",\"modify\":\"点击修改\"},\"paidPanel\":{\"buyNote\":\"支付 ¥{price} 继续阅读\",\"buyBook\":\"立即拿下 ¥{price}\",\"freeTitle\":\"该作品为付费连载\",\"freeText\":\"购买即可永久获取连载内的所有内容，包括将来更新的内容\",\"paidTitle\":\"还没看够？拿下整部连载！\",\"paidText\":\"永久获得连载内的所有内容, 包括将来更新的内容\"},\"book\":{\"last\":\"已是最后\",\"lookCatalog\":\"查看连载目录\",\"header\":\"文章来自以下连载\"},\"action\":{\"like\":\"{num}人点赞\",\"collection\":\"收入专题\",\"report\":\"举报文章\"},\"comment\":{\"allComments\":\"全部评论\",\"featuredComments\":\"精彩评论\",\"closed\":\"评论已关闭\",\"close\":\"关闭评论\",\"open\":\"打开评论\",\"desc\":\"按时间倒序\",\"asc\":\"按时间正序\",\"disableText1\":\"用户已关闭评论，\",\"disableText2\":\"与Ta简信交流\",\"placeholder\":\"写下你的评论...\",\"publish\":\"发表\",\"create\":\" 添加新评论\",\"reply\":\" 回复\",\"restComments\":\"还有{num}条评论，\",\"expandImage\":\"展开剩余{num}张图\",\"deleteText\":\"确定要删除评论么？\"},\"collection\":{\"title\":\"被以下专题收入，发现更多相似内容\",\"putToMyCollection\":\"收入我的专题\"},\"seoList\":{\"title\":\"推荐阅读\",\"more\":\"更多精彩内容\"},\"sideList\":{\"title\":\"推荐阅读\"},\"wxShareModal\":{\"desc\":\"打开微信“扫一扫”，打开网页后点击屏幕右上角分享按钮\"},\"bookChapterModal\":{\"try\":\"试读\",\"toggle\":\"切换顺序\"},\"collectionModal\":{\"title\":\"收入到我管理的专题\",\"search\":\"搜索我管理的专题\",\"newCollection\":\"新建专题\",\"create\":\"创建\",\"nothingFound\":\"未找到相关专题\",\"loadMore\":\"展开查看更多\"},\"contributeModal\":{\"search\":\"搜索专题投稿\",\"newCollection\":\"新建专题\",\"addNewOne\":\"去新建一个\",\"nothingFound\":\"未找到相关专题\",\"loadMore\":\"展开查看更多\",\"managed\":\"我管理的专题\",\"recommend\":\"推荐专题\"},\"QRCodeShow\":{\"payTitle\":\"微信扫码支付\",\"payText\":\"支付金额\"},\"rewardModal\":{\"title\":\"给作者送糖\",\"custom\":\"自定义\",\"placeholder\":\"给Ta留言...\",\"choose\":\"选择支付方式\",\"balance\":\"简书余额\",\"tooltip\":\"网站该功能暂时下线，如需使用，请到简书App操作\",\"confirm\":\"确认支付\",\"success\":\"赞赏成功\"},\"payModal\":{\"payBook\":\"购买连载\",\"payNote\":\"购买文章\",\"promotion\":\"优惠券\",\"promotionFetching\":\"优惠券获取中...\",\"noPromotion\":\"无可用优惠券\",\"promotionNum\":\"{num}张可用\",\"noUsePromotion\":\"不使用优惠券\",\"validPromotion\":\"可用优惠券\",\"invalidPromotion\":\"不可用优惠券\",\"total\":\"支付总额\",\"tip1\":\"· 你将购买的商品为虚拟内容服务，购买后不支持退订、转让、退换，请斟酌确认。\",\"tip2\":\"· 购买后可在“已购内容”中查看和使用。\",\"success\":\"购买成功\"},\"reportModal\":{\"abuse\":\"辱骂、人身攻击等不友善内容\",\"minors_forbidden\":\"未成年违规内容\",\"ad\":\"广告及垃圾信息\",\"plagiarism\":\"抄袭或未授权转载\",\"placeholder\":\"写下举报的详情情况（选填）\",\"success\":\"举报成功\"},\"guidModal\":{\"modalAText\":\"相似文章推荐\",\"subText\":\"下载简书APP，浏览更多相似文章\",\"btnAText\":\"先不下载，下次再说\",\"followOkText\":\"关注作者成功！\",\"followTextTip\":\"下载简书APP，作者更多精彩内容更新及时提醒！\",\"followBtn\":\"下次再说\",\"downloadTipText\":\"更多精彩内容，就在简书APP\",\"footerDownLoadText\":\"下载简书APP\",\"modabTitle\":\"免费送你2次抽奖机会\",\"modalbTip\":\"抽取10000收益加成卡，下载简书APP概率翻倍\",\"modalbFooterTip\":\"下载简书APP，天天参与抽大奖\",\"modalReward\":\"抽奖\",\"scanQrtip\":\"扫码下载简书APP\",\"downloadAppText\":\"下载简书APP，随时随地发现和创作内容\",\"redText\":\"阅读\",\"likesText\":\"赞\",\"downLoadLeft\":\"更多好文\",\"leftscanText\":\"把文字装进口袋\"}},\"currentLocale\":\"zh-CN\",\"asPath\":\"/p/85f4624485b9\"}},\"page\":\"/p/[slug]\",\"query\":{\"slug\":\"85f4624485b9\"},\"buildId\":\"0x8V6OXlBxpBTrGIQa8wl\",\"assetPrefix\":\"https://cdn2.jianshu.io/shakespeare\"}\n"
     ]
    }
   ],
   "source": [
    "print(r.html.text)"
   ]
  },
  {
   "cell_type": "code",
   "execution_count": 7,
   "metadata": {
    "execution": {
     "iopub.execute_input": "2021-10-12T17:32:16.729479Z",
     "iopub.status.busy": "2021-10-12T17:32:16.729053Z",
     "iopub.status.idle": "2021-10-12T17:32:16.743803Z",
     "shell.execute_reply": "2021-10-12T17:32:16.742833Z",
     "shell.execute_reply.started": "2021-10-12T17:32:16.729388Z"
    }
   },
   "outputs": [
    {
     "data": {
      "text/plain": [
       "{'/',\n",
       " '/apps?utm_medium=desktop&utm_source=navbar-apps',\n",
       " '/p/c887c035d49f',\n",
       " '/p/d367cd9a6457',\n",
       " '/sign_in',\n",
       " '/sign_up',\n",
       " '/techareas',\n",
       " '/u/7618ab4a30e4',\n",
       " '/u/7ad6761b3975',\n",
       " '/u/e73219532b8d',\n",
       " '/writer',\n",
       " 'http://oejqwrqkh.bkt.clouddn.com/2016-10-11-22-26-16.jpg',\n",
       " 'https://www.jianshu.com/nb/130182',\n",
       " 'https://www.jianshu.com/p/0c782715e58a',\n",
       " 'https://www.jianshu.com/p/0db025ebf0a1',\n",
       " 'https://www.jianshu.com/p/13d356e76659',\n",
       " 'https://www.jianshu.com/p/29aa3ad63f9d',\n",
       " 'https://www.jianshu.com/p/30b4fa6793f6',\n",
       " 'https://www.jianshu.com/p/31939ee6f1c9',\n",
       " 'https://www.jianshu.com/p/3678e3dd29f5',\n",
       " 'https://www.jianshu.com/p/424e1c65f424',\n",
       " 'https://www.jianshu.com/p/4ea083874df4',\n",
       " 'https://www.jianshu.com/p/67a71e366516',\n",
       " 'https://www.jianshu.com/p/6fe5c75a8aa5',\n",
       " 'https://www.jianshu.com/p/721190534061',\n",
       " 'https://www.jianshu.com/p/772740d57576',\n",
       " 'https://www.jianshu.com/p/7c08e9d79514',\n",
       " 'https://www.jianshu.com/p/85f4624485b9',\n",
       " 'https://www.jianshu.com/p/94e6778937ea',\n",
       " 'https://www.jianshu.com/p/a2924231037c',\n",
       " 'https://www.jianshu.com/p/af6201d2f0c6',\n",
       " 'https://www.jianshu.com/p/afea092dda1d',\n",
       " 'https://www.jianshu.com/p/ba02079ecd2f',\n",
       " 'https://www.jianshu.com/p/c2e030187495',\n",
       " 'https://www.jianshu.com/p/cf383fd471bb',\n",
       " 'https://www.jianshu.com/p/d50a14541d01',\n",
       " 'https://www.jianshu.com/p/e3f52e0860fd',\n",
       " 'https://www.jianshu.com/p/e4b24a734ccc',\n",
       " 'https://www.jianshu.com/p/eebf9a13c52a',\n",
       " 'https://www.jianshu.com/p/fdde9fc03f94',\n",
       " 'https://www.jianshu.com/p/fe114409daaf'}"
      ]
     },
     "execution_count": 7,
     "metadata": {},
     "output_type": "execute_result"
    }
   ],
   "source": [
    "r.html.links"
   ]
  },
  {
   "cell_type": "code",
   "execution_count": 8,
   "metadata": {
    "execution": {
     "iopub.execute_input": "2021-10-12T17:32:16.745286Z",
     "iopub.status.busy": "2021-10-12T17:32:16.744988Z",
     "iopub.status.idle": "2021-10-12T17:32:16.756462Z",
     "shell.execute_reply": "2021-10-12T17:32:16.755434Z",
     "shell.execute_reply.started": "2021-10-12T17:32:16.745224Z"
    }
   },
   "outputs": [
    {
     "data": {
      "text/plain": [
       "{'http://oejqwrqkh.bkt.clouddn.com/2016-10-11-22-26-16.jpg',\n",
       " 'https://www.jianshu.com/',\n",
       " 'https://www.jianshu.com/apps?utm_medium=desktop&utm_source=navbar-apps',\n",
       " 'https://www.jianshu.com/nb/130182',\n",
       " 'https://www.jianshu.com/p/0c782715e58a',\n",
       " 'https://www.jianshu.com/p/0db025ebf0a1',\n",
       " 'https://www.jianshu.com/p/13d356e76659',\n",
       " 'https://www.jianshu.com/p/29aa3ad63f9d',\n",
       " 'https://www.jianshu.com/p/30b4fa6793f6',\n",
       " 'https://www.jianshu.com/p/31939ee6f1c9',\n",
       " 'https://www.jianshu.com/p/3678e3dd29f5',\n",
       " 'https://www.jianshu.com/p/424e1c65f424',\n",
       " 'https://www.jianshu.com/p/4ea083874df4',\n",
       " 'https://www.jianshu.com/p/67a71e366516',\n",
       " 'https://www.jianshu.com/p/6fe5c75a8aa5',\n",
       " 'https://www.jianshu.com/p/721190534061',\n",
       " 'https://www.jianshu.com/p/772740d57576',\n",
       " 'https://www.jianshu.com/p/7c08e9d79514',\n",
       " 'https://www.jianshu.com/p/85f4624485b9',\n",
       " 'https://www.jianshu.com/p/94e6778937ea',\n",
       " 'https://www.jianshu.com/p/a2924231037c',\n",
       " 'https://www.jianshu.com/p/af6201d2f0c6',\n",
       " 'https://www.jianshu.com/p/afea092dda1d',\n",
       " 'https://www.jianshu.com/p/ba02079ecd2f',\n",
       " 'https://www.jianshu.com/p/c2e030187495',\n",
       " 'https://www.jianshu.com/p/c887c035d49f',\n",
       " 'https://www.jianshu.com/p/cf383fd471bb',\n",
       " 'https://www.jianshu.com/p/d367cd9a6457',\n",
       " 'https://www.jianshu.com/p/d50a14541d01',\n",
       " 'https://www.jianshu.com/p/e3f52e0860fd',\n",
       " 'https://www.jianshu.com/p/e4b24a734ccc',\n",
       " 'https://www.jianshu.com/p/eebf9a13c52a',\n",
       " 'https://www.jianshu.com/p/fdde9fc03f94',\n",
       " 'https://www.jianshu.com/p/fe114409daaf',\n",
       " 'https://www.jianshu.com/sign_in',\n",
       " 'https://www.jianshu.com/sign_up',\n",
       " 'https://www.jianshu.com/techareas',\n",
       " 'https://www.jianshu.com/u/7618ab4a30e4',\n",
       " 'https://www.jianshu.com/u/7ad6761b3975',\n",
       " 'https://www.jianshu.com/u/e73219532b8d',\n",
       " 'https://www.jianshu.com/writer'}"
      ]
     },
     "execution_count": 8,
     "metadata": {},
     "output_type": "execute_result"
    }
   ],
   "source": [
    "r.html.absolute_links"
   ]
  },
  {
   "cell_type": "code",
   "execution_count": 13,
   "metadata": {
    "execution": {
     "iopub.execute_input": "2021-10-12T17:32:43.699117Z",
     "iopub.status.busy": "2021-10-12T17:32:43.698727Z",
     "iopub.status.idle": "2021-10-12T17:32:43.703526Z",
     "shell.execute_reply": "2021-10-12T17:32:43.702435Z",
     "shell.execute_reply.started": "2021-10-12T17:32:43.699059Z"
    }
   },
   "outputs": [],
   "source": [
    "sel = '#__next > div._21bLU4._3kbg6I > div > div._gp-ck > section:nth-child(1) > article > p:nth-child(4) > a'"
   ]
  },
  {
   "cell_type": "code",
   "execution_count": 14,
   "metadata": {
    "execution": {
     "iopub.execute_input": "2021-10-12T17:32:46.629369Z",
     "iopub.status.busy": "2021-10-12T17:32:46.628971Z",
     "iopub.status.idle": "2021-10-12T17:32:46.635415Z",
     "shell.execute_reply": "2021-10-12T17:32:46.634516Z",
     "shell.execute_reply.started": "2021-10-12T17:32:46.629308Z"
    }
   },
   "outputs": [],
   "source": [
    "results = r.html.find(sel)"
   ]
  },
  {
   "cell_type": "code",
   "execution_count": 15,
   "metadata": {
    "execution": {
     "iopub.execute_input": "2021-10-12T17:32:48.821691Z",
     "iopub.status.busy": "2021-10-12T17:32:48.821248Z",
     "iopub.status.idle": "2021-10-12T17:32:48.828190Z",
     "shell.execute_reply": "2021-10-12T17:32:48.827176Z",
     "shell.execute_reply.started": "2021-10-12T17:32:48.821595Z"
    }
   },
   "outputs": [
    {
     "data": {
      "text/plain": [
       "[<Element 'a' href='https://www.jianshu.com/nb/130182' target='_blank'>]"
      ]
     },
     "execution_count": 15,
     "metadata": {},
     "output_type": "execute_result"
    }
   ],
   "source": [
    "results"
   ]
  },
  {
   "cell_type": "code",
   "execution_count": 19,
   "metadata": {
    "execution": {
     "iopub.execute_input": "2021-10-12T17:33:00.621842Z",
     "iopub.status.busy": "2021-10-12T17:33:00.621026Z",
     "iopub.status.idle": "2021-10-12T17:33:00.629556Z",
     "shell.execute_reply": "2021-10-12T17:33:00.628646Z",
     "shell.execute_reply.started": "2021-10-12T17:33:00.621494Z"
    }
   },
   "outputs": [
    {
     "data": {
      "text/plain": [
       "'玉树芝兰'"
      ]
     },
     "execution_count": 19,
     "metadata": {},
     "output_type": "execute_result"
    }
   ],
   "source": [
    "results[0].text"
   ]
  },
  {
   "cell_type": "code",
   "execution_count": 20,
   "metadata": {
    "execution": {
     "iopub.execute_input": "2021-10-12T17:33:01.676283Z",
     "iopub.status.busy": "2021-10-12T17:33:01.675891Z",
     "iopub.status.idle": "2021-10-12T17:33:01.682880Z",
     "shell.execute_reply": "2021-10-12T17:33:01.682094Z",
     "shell.execute_reply.started": "2021-10-12T17:33:01.676219Z"
    },
    "scrolled": true
   },
   "outputs": [
    {
     "data": {
      "text/plain": [
       "{'https://www.jianshu.com/nb/130182'}"
      ]
     },
     "execution_count": 20,
     "metadata": {},
     "output_type": "execute_result"
    }
   ],
   "source": [
    "results[0].absolute_links"
   ]
  },
  {
   "cell_type": "code",
   "execution_count": 21,
   "metadata": {
    "execution": {
     "iopub.execute_input": "2021-10-12T17:33:03.175437Z",
     "iopub.status.busy": "2021-10-12T17:33:03.174622Z",
     "iopub.status.idle": "2021-10-12T17:33:03.183235Z",
     "shell.execute_reply": "2021-10-12T17:33:03.182431Z",
     "shell.execute_reply.started": "2021-10-12T17:33:03.175122Z"
    }
   },
   "outputs": [
    {
     "data": {
      "text/plain": [
       "'https://www.jianshu.com/nb/130182'"
      ]
     },
     "execution_count": 21,
     "metadata": {},
     "output_type": "execute_result"
    }
   ],
   "source": [
    "list(results[0].absolute_links)[0]"
   ]
  },
  {
   "cell_type": "code",
   "execution_count": 22,
   "metadata": {
    "execution": {
     "iopub.execute_input": "2021-10-12T17:33:03.956325Z",
     "iopub.status.busy": "2021-10-12T17:33:03.955428Z",
     "iopub.status.idle": "2021-10-12T17:33:03.964131Z",
     "shell.execute_reply": "2021-10-12T17:33:03.963069Z",
     "shell.execute_reply.started": "2021-10-12T17:33:03.955933Z"
    }
   },
   "outputs": [],
   "source": [
    "def get_text_link_from_sel(sel):\n",
    "    mylist = []\n",
    "    try:\n",
    "        results = r.html.find(sel)\n",
    "        for result in results:\n",
    "            mytext = result.text\n",
    "            mylink = list(result.absolute_links)[0]\n",
    "            mylist.append((mytext, mylink))\n",
    "        return mylist\n",
    "    except:\n",
    "        return None"
   ]
  },
  {
   "cell_type": "code",
   "execution_count": 23,
   "metadata": {
    "execution": {
     "iopub.execute_input": "2021-10-12T17:33:04.809496Z",
     "iopub.status.busy": "2021-10-12T17:33:04.809106Z",
     "iopub.status.idle": "2021-10-12T17:33:04.817481Z",
     "shell.execute_reply": "2021-10-12T17:33:04.816261Z",
     "shell.execute_reply.started": "2021-10-12T17:33:04.809434Z"
    }
   },
   "outputs": [
    {
     "name": "stdout",
     "output_type": "stream",
     "text": [
      "[('玉树芝兰', 'https://www.jianshu.com/nb/130182')]\n"
     ]
    }
   ],
   "source": [
    "print(get_text_link_from_sel(sel))"
   ]
  },
  {
   "cell_type": "code",
   "execution_count": 24,
   "metadata": {
    "execution": {
     "iopub.execute_input": "2021-10-12T17:33:05.467891Z",
     "iopub.status.busy": "2021-10-12T17:33:05.467132Z",
     "iopub.status.idle": "2021-10-12T17:33:05.476317Z",
     "shell.execute_reply": "2021-10-12T17:33:05.475118Z",
     "shell.execute_reply.started": "2021-10-12T17:33:05.467591Z"
    }
   },
   "outputs": [
    {
     "name": "stdout",
     "output_type": "stream",
     "text": [
      "[('玉树芝兰', 'https://www.jianshu.com/nb/130182')]\n"
     ]
    }
   ],
   "source": [
    "print(get_text_link_from_sel(sel))"
   ]
  },
  {
   "cell_type": "code",
   "execution_count": 36,
   "metadata": {
    "execution": {
     "iopub.execute_input": "2021-10-12T17:36:04.893098Z",
     "iopub.status.busy": "2021-10-12T17:36:04.892655Z",
     "iopub.status.idle": "2021-10-12T17:36:04.898362Z",
     "shell.execute_reply": "2021-10-12T17:36:04.896934Z",
     "shell.execute_reply.started": "2021-10-12T17:36:04.893029Z"
    }
   },
   "outputs": [],
   "source": [
    "sel = '#__next > div._21bLU4._3kbg6I > div > div._gp-ck > section:nth-child(1) > article > p > a'"
   ]
  },
  {
   "cell_type": "code",
   "execution_count": 37,
   "metadata": {
    "execution": {
     "iopub.execute_input": "2021-10-12T17:36:06.535659Z",
     "iopub.status.busy": "2021-10-12T17:36:06.535004Z",
     "iopub.status.idle": "2021-10-12T17:36:06.565659Z",
     "shell.execute_reply": "2021-10-12T17:36:06.564642Z",
     "shell.execute_reply.started": "2021-10-12T17:36:06.535350Z"
    }
   },
   "outputs": [
    {
     "name": "stdout",
     "output_type": "stream",
     "text": [
      "[('玉树芝兰', 'https://www.jianshu.com/nb/130182'), ('如何用Python做词云？', 'https://www.jianshu.com/p/e4b24a734ccc'), ('数据科学相关的文章', 'https://www.jianshu.com/p/30b4fa6793f6'), ('索引贴', 'https://www.jianshu.com/p/30b4fa6793f6'), ('教程', 'https://www.jianshu.com/p/e4b24a734ccc'), ('如何安装Python运行环境Anaconda？（视频教程）', 'https://www.jianshu.com/p/772740d57576'), ('如何用Python做词云？', 'https://www.jianshu.com/p/e4b24a734ccc'), ('如何用Python做词云？（基础篇视频教程）', 'https://www.jianshu.com/p/a2924231037c'), ('如何用Python做中文分词？', 'https://www.jianshu.com/p/721190534061'), ('Python编程遇问题，文科生怎么办？', 'https://www.jianshu.com/p/af6201d2f0c6'), ('如何在Jupyter Notebook中使用Python虚拟环境？', 'https://www.jianshu.com/p/afea092dda1d'), ('如何用Python做情感分析？', 'https://www.jianshu.com/p/d50a14541d01'), ('如何用Python做舆情时间序列可视化？', 'https://www.jianshu.com/p/4ea083874df4'), ('Python编程遇问题，文科生怎么办？', 'https://www.jianshu.com/p/af6201d2f0c6'), ('如何用Python和机器学习训练中文文本情感分类模型？', 'https://www.jianshu.com/p/29aa3ad63f9d'), ('如何用Python和R对《权力的游戏》故事情节做情绪分析？', 'https://www.jianshu.com/p/0c782715e58a'), ('文章', 'https://www.jianshu.com/p/0c782715e58a'), ('如何用Python提取中文关键词？', 'https://www.jianshu.com/p/cf383fd471bb'), ('文科生如何高效学数据科学？', 'https://www.jianshu.com/p/e3f52e0860fd'), ('如何高效入门Github？', 'https://www.jianshu.com/p/13d356e76659'), ('如何高效学Python？', 'https://www.jianshu.com/p/3678e3dd29f5'), ('贷还是不贷：如何用Python和机器学习帮你决策？', 'https://www.jianshu.com/p/67a71e366516'), ('Python编程遇问题，文科生怎么办？', 'https://www.jianshu.com/p/af6201d2f0c6'), ('这篇文章', 'https://www.jianshu.com/p/af6201d2f0c6'), ('如何用Python从海量文本抽取主题？', 'https://www.jianshu.com/p/fdde9fc03f94'), ('如何用Python和机器学习训练中文文本情感分类模型？', 'https://www.jianshu.com/p/29aa3ad63f9d'), ('如何用Python和深度神经网络发现即将流失的客户？', 'https://www.jianshu.com/p/7c08e9d79514'), ('如何用Python和深度神经网络发现即将流失的客户？', 'https://www.jianshu.com/p/7c08e9d79514'), ('Tensorflow执行pip升级安装的坑', 'https://www.jianshu.com/p/94e6778937ea'), ('如何用Python和深度神经网络识别图像？', 'https://www.jianshu.com/p/0db025ebf0a1'), ('如何用Python和深度神经网络寻找近似图片？', 'https://www.jianshu.com/p/6fe5c75a8aa5'), ('讲解答疑视频', 'https://www.jianshu.com/p/fe114409daaf'), ('这段视频', 'https://www.jianshu.com/p/fe114409daaf'), ('如何免费云端运行Python深度学习框架？', 'https://www.jianshu.com/p/eebf9a13c52a'), ('如何用Python读取开放数据？', 'https://www.jianshu.com/p/424e1c65f424'), ('如何用R和API免费获取Web数据？', 'https://www.jianshu.com/p/c2e030187495'), ('如何用Python爬数据？（一）网页抓取', 'https://www.jianshu.com/p/ba02079ecd2f'), ('如何用Python批量提取PDF文本内容？', 'https://www.jianshu.com/p/31939ee6f1c9'), ('玉树芝兰', 'https://www.jianshu.com/nb/130182'), ('“玉树芝兰”(nkwangshuyi)', 'http://oejqwrqkh.bkt.clouddn.com/2016-10-11-22-26-16.jpg'), ('如何高效入门数据科学？', 'https://www.jianshu.com/p/85f4624485b9')]\n"
     ]
    }
   ],
   "source": [
    "print(get_text_link_from_sel(sel))"
   ]
  },
  {
   "cell_type": "code",
   "execution_count": 38,
   "metadata": {
    "execution": {
     "iopub.execute_input": "2021-10-12T17:36:12.333443Z",
     "iopub.status.busy": "2021-10-12T17:36:12.333052Z",
     "iopub.status.idle": "2021-10-12T17:36:12.337738Z",
     "shell.execute_reply": "2021-10-12T17:36:12.336615Z",
     "shell.execute_reply.started": "2021-10-12T17:36:12.333381Z"
    }
   },
   "outputs": [],
   "source": [
    "import pandas as pd"
   ]
  },
  {
   "cell_type": "code",
   "execution_count": 39,
   "metadata": {
    "execution": {
     "iopub.execute_input": "2021-10-12T17:36:12.937790Z",
     "iopub.status.busy": "2021-10-12T17:36:12.937419Z",
     "iopub.status.idle": "2021-10-12T17:36:12.962679Z",
     "shell.execute_reply": "2021-10-12T17:36:12.961727Z",
     "shell.execute_reply.started": "2021-10-12T17:36:12.937732Z"
    }
   },
   "outputs": [],
   "source": [
    "df = pd.DataFrame(get_text_link_from_sel(sel))"
   ]
  },
  {
   "cell_type": "code",
   "execution_count": 40,
   "metadata": {
    "execution": {
     "iopub.execute_input": "2021-10-12T17:36:14.348154Z",
     "iopub.status.busy": "2021-10-12T17:36:14.347750Z",
     "iopub.status.idle": "2021-10-12T17:36:14.363565Z",
     "shell.execute_reply": "2021-10-12T17:36:14.362587Z",
     "shell.execute_reply.started": "2021-10-12T17:36:14.348087Z"
    }
   },
   "outputs": [
    {
     "data": {
      "text/html": [
       "<div>\n",
       "<style scoped>\n",
       "    .dataframe tbody tr th:only-of-type {\n",
       "        vertical-align: middle;\n",
       "    }\n",
       "\n",
       "    .dataframe tbody tr th {\n",
       "        vertical-align: top;\n",
       "    }\n",
       "\n",
       "    .dataframe thead th {\n",
       "        text-align: right;\n",
       "    }\n",
       "</style>\n",
       "<table border=\"1\" class=\"dataframe\">\n",
       "  <thead>\n",
       "    <tr style=\"text-align: right;\">\n",
       "      <th></th>\n",
       "      <th>0</th>\n",
       "      <th>1</th>\n",
       "    </tr>\n",
       "  </thead>\n",
       "  <tbody>\n",
       "    <tr>\n",
       "      <th>0</th>\n",
       "      <td>玉树芝兰</td>\n",
       "      <td>https://www.jianshu.com/nb/130182</td>\n",
       "    </tr>\n",
       "    <tr>\n",
       "      <th>1</th>\n",
       "      <td>如何用Python做词云？</td>\n",
       "      <td>https://www.jianshu.com/p/e4b24a734ccc</td>\n",
       "    </tr>\n",
       "    <tr>\n",
       "      <th>2</th>\n",
       "      <td>数据科学相关的文章</td>\n",
       "      <td>https://www.jianshu.com/p/30b4fa6793f6</td>\n",
       "    </tr>\n",
       "    <tr>\n",
       "      <th>3</th>\n",
       "      <td>索引贴</td>\n",
       "      <td>https://www.jianshu.com/p/30b4fa6793f6</td>\n",
       "    </tr>\n",
       "    <tr>\n",
       "      <th>4</th>\n",
       "      <td>教程</td>\n",
       "      <td>https://www.jianshu.com/p/e4b24a734ccc</td>\n",
       "    </tr>\n",
       "    <tr>\n",
       "      <th>5</th>\n",
       "      <td>如何安装Python运行环境Anaconda？（视频教程）</td>\n",
       "      <td>https://www.jianshu.com/p/772740d57576</td>\n",
       "    </tr>\n",
       "    <tr>\n",
       "      <th>6</th>\n",
       "      <td>如何用Python做词云？</td>\n",
       "      <td>https://www.jianshu.com/p/e4b24a734ccc</td>\n",
       "    </tr>\n",
       "    <tr>\n",
       "      <th>7</th>\n",
       "      <td>如何用Python做词云？（基础篇视频教程）</td>\n",
       "      <td>https://www.jianshu.com/p/a2924231037c</td>\n",
       "    </tr>\n",
       "    <tr>\n",
       "      <th>8</th>\n",
       "      <td>如何用Python做中文分词？</td>\n",
       "      <td>https://www.jianshu.com/p/721190534061</td>\n",
       "    </tr>\n",
       "    <tr>\n",
       "      <th>9</th>\n",
       "      <td>Python编程遇问题，文科生怎么办？</td>\n",
       "      <td>https://www.jianshu.com/p/af6201d2f0c6</td>\n",
       "    </tr>\n",
       "    <tr>\n",
       "      <th>10</th>\n",
       "      <td>如何在Jupyter Notebook中使用Python虚拟环境？</td>\n",
       "      <td>https://www.jianshu.com/p/afea092dda1d</td>\n",
       "    </tr>\n",
       "    <tr>\n",
       "      <th>11</th>\n",
       "      <td>如何用Python做情感分析？</td>\n",
       "      <td>https://www.jianshu.com/p/d50a14541d01</td>\n",
       "    </tr>\n",
       "    <tr>\n",
       "      <th>12</th>\n",
       "      <td>如何用Python做舆情时间序列可视化？</td>\n",
       "      <td>https://www.jianshu.com/p/4ea083874df4</td>\n",
       "    </tr>\n",
       "    <tr>\n",
       "      <th>13</th>\n",
       "      <td>Python编程遇问题，文科生怎么办？</td>\n",
       "      <td>https://www.jianshu.com/p/af6201d2f0c6</td>\n",
       "    </tr>\n",
       "    <tr>\n",
       "      <th>14</th>\n",
       "      <td>如何用Python和机器学习训练中文文本情感分类模型？</td>\n",
       "      <td>https://www.jianshu.com/p/29aa3ad63f9d</td>\n",
       "    </tr>\n",
       "    <tr>\n",
       "      <th>15</th>\n",
       "      <td>如何用Python和R对《权力的游戏》故事情节做情绪分析？</td>\n",
       "      <td>https://www.jianshu.com/p/0c782715e58a</td>\n",
       "    </tr>\n",
       "    <tr>\n",
       "      <th>16</th>\n",
       "      <td>文章</td>\n",
       "      <td>https://www.jianshu.com/p/0c782715e58a</td>\n",
       "    </tr>\n",
       "    <tr>\n",
       "      <th>17</th>\n",
       "      <td>如何用Python提取中文关键词？</td>\n",
       "      <td>https://www.jianshu.com/p/cf383fd471bb</td>\n",
       "    </tr>\n",
       "    <tr>\n",
       "      <th>18</th>\n",
       "      <td>文科生如何高效学数据科学？</td>\n",
       "      <td>https://www.jianshu.com/p/e3f52e0860fd</td>\n",
       "    </tr>\n",
       "    <tr>\n",
       "      <th>19</th>\n",
       "      <td>如何高效入门Github？</td>\n",
       "      <td>https://www.jianshu.com/p/13d356e76659</td>\n",
       "    </tr>\n",
       "    <tr>\n",
       "      <th>20</th>\n",
       "      <td>如何高效学Python？</td>\n",
       "      <td>https://www.jianshu.com/p/3678e3dd29f5</td>\n",
       "    </tr>\n",
       "    <tr>\n",
       "      <th>21</th>\n",
       "      <td>贷还是不贷：如何用Python和机器学习帮你决策？</td>\n",
       "      <td>https://www.jianshu.com/p/67a71e366516</td>\n",
       "    </tr>\n",
       "    <tr>\n",
       "      <th>22</th>\n",
       "      <td>Python编程遇问题，文科生怎么办？</td>\n",
       "      <td>https://www.jianshu.com/p/af6201d2f0c6</td>\n",
       "    </tr>\n",
       "    <tr>\n",
       "      <th>23</th>\n",
       "      <td>这篇文章</td>\n",
       "      <td>https://www.jianshu.com/p/af6201d2f0c6</td>\n",
       "    </tr>\n",
       "    <tr>\n",
       "      <th>24</th>\n",
       "      <td>如何用Python从海量文本抽取主题？</td>\n",
       "      <td>https://www.jianshu.com/p/fdde9fc03f94</td>\n",
       "    </tr>\n",
       "    <tr>\n",
       "      <th>25</th>\n",
       "      <td>如何用Python和机器学习训练中文文本情感分类模型？</td>\n",
       "      <td>https://www.jianshu.com/p/29aa3ad63f9d</td>\n",
       "    </tr>\n",
       "    <tr>\n",
       "      <th>26</th>\n",
       "      <td>如何用Python和深度神经网络发现即将流失的客户？</td>\n",
       "      <td>https://www.jianshu.com/p/7c08e9d79514</td>\n",
       "    </tr>\n",
       "    <tr>\n",
       "      <th>27</th>\n",
       "      <td>如何用Python和深度神经网络发现即将流失的客户？</td>\n",
       "      <td>https://www.jianshu.com/p/7c08e9d79514</td>\n",
       "    </tr>\n",
       "    <tr>\n",
       "      <th>28</th>\n",
       "      <td>Tensorflow执行pip升级安装的坑</td>\n",
       "      <td>https://www.jianshu.com/p/94e6778937ea</td>\n",
       "    </tr>\n",
       "    <tr>\n",
       "      <th>29</th>\n",
       "      <td>如何用Python和深度神经网络识别图像？</td>\n",
       "      <td>https://www.jianshu.com/p/0db025ebf0a1</td>\n",
       "    </tr>\n",
       "    <tr>\n",
       "      <th>30</th>\n",
       "      <td>如何用Python和深度神经网络寻找近似图片？</td>\n",
       "      <td>https://www.jianshu.com/p/6fe5c75a8aa5</td>\n",
       "    </tr>\n",
       "    <tr>\n",
       "      <th>31</th>\n",
       "      <td>讲解答疑视频</td>\n",
       "      <td>https://www.jianshu.com/p/fe114409daaf</td>\n",
       "    </tr>\n",
       "    <tr>\n",
       "      <th>32</th>\n",
       "      <td>这段视频</td>\n",
       "      <td>https://www.jianshu.com/p/fe114409daaf</td>\n",
       "    </tr>\n",
       "    <tr>\n",
       "      <th>33</th>\n",
       "      <td>如何免费云端运行Python深度学习框架？</td>\n",
       "      <td>https://www.jianshu.com/p/eebf9a13c52a</td>\n",
       "    </tr>\n",
       "    <tr>\n",
       "      <th>34</th>\n",
       "      <td>如何用Python读取开放数据？</td>\n",
       "      <td>https://www.jianshu.com/p/424e1c65f424</td>\n",
       "    </tr>\n",
       "    <tr>\n",
       "      <th>35</th>\n",
       "      <td>如何用R和API免费获取Web数据？</td>\n",
       "      <td>https://www.jianshu.com/p/c2e030187495</td>\n",
       "    </tr>\n",
       "    <tr>\n",
       "      <th>36</th>\n",
       "      <td>如何用Python爬数据？（一）网页抓取</td>\n",
       "      <td>https://www.jianshu.com/p/ba02079ecd2f</td>\n",
       "    </tr>\n",
       "    <tr>\n",
       "      <th>37</th>\n",
       "      <td>如何用Python批量提取PDF文本内容？</td>\n",
       "      <td>https://www.jianshu.com/p/31939ee6f1c9</td>\n",
       "    </tr>\n",
       "    <tr>\n",
       "      <th>38</th>\n",
       "      <td>玉树芝兰</td>\n",
       "      <td>https://www.jianshu.com/nb/130182</td>\n",
       "    </tr>\n",
       "    <tr>\n",
       "      <th>39</th>\n",
       "      <td>“玉树芝兰”(nkwangshuyi)</td>\n",
       "      <td>http://oejqwrqkh.bkt.clouddn.com/2016-10-11-22...</td>\n",
       "    </tr>\n",
       "    <tr>\n",
       "      <th>40</th>\n",
       "      <td>如何高效入门数据科学？</td>\n",
       "      <td>https://www.jianshu.com/p/85f4624485b9</td>\n",
       "    </tr>\n",
       "  </tbody>\n",
       "</table>\n",
       "</div>"
      ],
      "text/plain": [
       "                                    0  \\\n",
       "0                                玉树芝兰   \n",
       "1                       如何用Python做词云？   \n",
       "2                           数据科学相关的文章   \n",
       "3                                 索引贴   \n",
       "4                                  教程   \n",
       "5       如何安装Python运行环境Anaconda？（视频教程）   \n",
       "6                       如何用Python做词云？   \n",
       "7              如何用Python做词云？（基础篇视频教程）   \n",
       "8                     如何用Python做中文分词？   \n",
       "9                 Python编程遇问题，文科生怎么办？   \n",
       "10  如何在Jupyter Notebook中使用Python虚拟环境？   \n",
       "11                    如何用Python做情感分析？   \n",
       "12               如何用Python做舆情时间序列可视化？   \n",
       "13                Python编程遇问题，文科生怎么办？   \n",
       "14        如何用Python和机器学习训练中文文本情感分类模型？   \n",
       "15      如何用Python和R对《权力的游戏》故事情节做情绪分析？   \n",
       "16                                 文章   \n",
       "17                  如何用Python提取中文关键词？   \n",
       "18                      文科生如何高效学数据科学？   \n",
       "19                      如何高效入门Github？   \n",
       "20                       如何高效学Python？   \n",
       "21          贷还是不贷：如何用Python和机器学习帮你决策？   \n",
       "22                Python编程遇问题，文科生怎么办？   \n",
       "23                               这篇文章   \n",
       "24                如何用Python从海量文本抽取主题？   \n",
       "25        如何用Python和机器学习训练中文文本情感分类模型？   \n",
       "26         如何用Python和深度神经网络发现即将流失的客户？   \n",
       "27         如何用Python和深度神经网络发现即将流失的客户？   \n",
       "28              Tensorflow执行pip升级安装的坑   \n",
       "29              如何用Python和深度神经网络识别图像？   \n",
       "30            如何用Python和深度神经网络寻找近似图片？   \n",
       "31                             讲解答疑视频   \n",
       "32                               这段视频   \n",
       "33              如何免费云端运行Python深度学习框架？   \n",
       "34                   如何用Python读取开放数据？   \n",
       "35                 如何用R和API免费获取Web数据？   \n",
       "36               如何用Python爬数据？（一）网页抓取   \n",
       "37              如何用Python批量提取PDF文本内容？   \n",
       "38                               玉树芝兰   \n",
       "39                “玉树芝兰”(nkwangshuyi)   \n",
       "40                        如何高效入门数据科学？   \n",
       "\n",
       "                                                    1  \n",
       "0                   https://www.jianshu.com/nb/130182  \n",
       "1              https://www.jianshu.com/p/e4b24a734ccc  \n",
       "2              https://www.jianshu.com/p/30b4fa6793f6  \n",
       "3              https://www.jianshu.com/p/30b4fa6793f6  \n",
       "4              https://www.jianshu.com/p/e4b24a734ccc  \n",
       "5              https://www.jianshu.com/p/772740d57576  \n",
       "6              https://www.jianshu.com/p/e4b24a734ccc  \n",
       "7              https://www.jianshu.com/p/a2924231037c  \n",
       "8              https://www.jianshu.com/p/721190534061  \n",
       "9              https://www.jianshu.com/p/af6201d2f0c6  \n",
       "10             https://www.jianshu.com/p/afea092dda1d  \n",
       "11             https://www.jianshu.com/p/d50a14541d01  \n",
       "12             https://www.jianshu.com/p/4ea083874df4  \n",
       "13             https://www.jianshu.com/p/af6201d2f0c6  \n",
       "14             https://www.jianshu.com/p/29aa3ad63f9d  \n",
       "15             https://www.jianshu.com/p/0c782715e58a  \n",
       "16             https://www.jianshu.com/p/0c782715e58a  \n",
       "17             https://www.jianshu.com/p/cf383fd471bb  \n",
       "18             https://www.jianshu.com/p/e3f52e0860fd  \n",
       "19             https://www.jianshu.com/p/13d356e76659  \n",
       "20             https://www.jianshu.com/p/3678e3dd29f5  \n",
       "21             https://www.jianshu.com/p/67a71e366516  \n",
       "22             https://www.jianshu.com/p/af6201d2f0c6  \n",
       "23             https://www.jianshu.com/p/af6201d2f0c6  \n",
       "24             https://www.jianshu.com/p/fdde9fc03f94  \n",
       "25             https://www.jianshu.com/p/29aa3ad63f9d  \n",
       "26             https://www.jianshu.com/p/7c08e9d79514  \n",
       "27             https://www.jianshu.com/p/7c08e9d79514  \n",
       "28             https://www.jianshu.com/p/94e6778937ea  \n",
       "29             https://www.jianshu.com/p/0db025ebf0a1  \n",
       "30             https://www.jianshu.com/p/6fe5c75a8aa5  \n",
       "31             https://www.jianshu.com/p/fe114409daaf  \n",
       "32             https://www.jianshu.com/p/fe114409daaf  \n",
       "33             https://www.jianshu.com/p/eebf9a13c52a  \n",
       "34             https://www.jianshu.com/p/424e1c65f424  \n",
       "35             https://www.jianshu.com/p/c2e030187495  \n",
       "36             https://www.jianshu.com/p/ba02079ecd2f  \n",
       "37             https://www.jianshu.com/p/31939ee6f1c9  \n",
       "38                  https://www.jianshu.com/nb/130182  \n",
       "39  http://oejqwrqkh.bkt.clouddn.com/2016-10-11-22...  \n",
       "40             https://www.jianshu.com/p/85f4624485b9  "
      ]
     },
     "execution_count": 40,
     "metadata": {},
     "output_type": "execute_result"
    }
   ],
   "source": [
    "df"
   ]
  },
  {
   "cell_type": "code",
   "execution_count": 41,
   "metadata": {
    "execution": {
     "iopub.execute_input": "2021-10-12T17:36:17.917218Z",
     "iopub.status.busy": "2021-10-12T17:36:17.916852Z",
     "iopub.status.idle": "2021-10-12T17:36:17.922313Z",
     "shell.execute_reply": "2021-10-12T17:36:17.921235Z",
     "shell.execute_reply.started": "2021-10-12T17:36:17.917160Z"
    }
   },
   "outputs": [],
   "source": [
    "df.columns = ['text', 'link']"
   ]
  },
  {
   "cell_type": "code",
   "execution_count": 42,
   "metadata": {
    "execution": {
     "iopub.execute_input": "2021-10-12T17:36:18.907221Z",
     "iopub.status.busy": "2021-10-12T17:36:18.906850Z",
     "iopub.status.idle": "2021-10-12T17:36:18.921820Z",
     "shell.execute_reply": "2021-10-12T17:36:18.920892Z",
     "shell.execute_reply.started": "2021-10-12T17:36:18.907161Z"
    }
   },
   "outputs": [
    {
     "data": {
      "text/html": [
       "<div>\n",
       "<style scoped>\n",
       "    .dataframe tbody tr th:only-of-type {\n",
       "        vertical-align: middle;\n",
       "    }\n",
       "\n",
       "    .dataframe tbody tr th {\n",
       "        vertical-align: top;\n",
       "    }\n",
       "\n",
       "    .dataframe thead th {\n",
       "        text-align: right;\n",
       "    }\n",
       "</style>\n",
       "<table border=\"1\" class=\"dataframe\">\n",
       "  <thead>\n",
       "    <tr style=\"text-align: right;\">\n",
       "      <th></th>\n",
       "      <th>text</th>\n",
       "      <th>link</th>\n",
       "    </tr>\n",
       "  </thead>\n",
       "  <tbody>\n",
       "    <tr>\n",
       "      <th>0</th>\n",
       "      <td>玉树芝兰</td>\n",
       "      <td>https://www.jianshu.com/nb/130182</td>\n",
       "    </tr>\n",
       "    <tr>\n",
       "      <th>1</th>\n",
       "      <td>如何用Python做词云？</td>\n",
       "      <td>https://www.jianshu.com/p/e4b24a734ccc</td>\n",
       "    </tr>\n",
       "    <tr>\n",
       "      <th>2</th>\n",
       "      <td>数据科学相关的文章</td>\n",
       "      <td>https://www.jianshu.com/p/30b4fa6793f6</td>\n",
       "    </tr>\n",
       "    <tr>\n",
       "      <th>3</th>\n",
       "      <td>索引贴</td>\n",
       "      <td>https://www.jianshu.com/p/30b4fa6793f6</td>\n",
       "    </tr>\n",
       "    <tr>\n",
       "      <th>4</th>\n",
       "      <td>教程</td>\n",
       "      <td>https://www.jianshu.com/p/e4b24a734ccc</td>\n",
       "    </tr>\n",
       "    <tr>\n",
       "      <th>5</th>\n",
       "      <td>如何安装Python运行环境Anaconda？（视频教程）</td>\n",
       "      <td>https://www.jianshu.com/p/772740d57576</td>\n",
       "    </tr>\n",
       "    <tr>\n",
       "      <th>6</th>\n",
       "      <td>如何用Python做词云？</td>\n",
       "      <td>https://www.jianshu.com/p/e4b24a734ccc</td>\n",
       "    </tr>\n",
       "    <tr>\n",
       "      <th>7</th>\n",
       "      <td>如何用Python做词云？（基础篇视频教程）</td>\n",
       "      <td>https://www.jianshu.com/p/a2924231037c</td>\n",
       "    </tr>\n",
       "    <tr>\n",
       "      <th>8</th>\n",
       "      <td>如何用Python做中文分词？</td>\n",
       "      <td>https://www.jianshu.com/p/721190534061</td>\n",
       "    </tr>\n",
       "    <tr>\n",
       "      <th>9</th>\n",
       "      <td>Python编程遇问题，文科生怎么办？</td>\n",
       "      <td>https://www.jianshu.com/p/af6201d2f0c6</td>\n",
       "    </tr>\n",
       "    <tr>\n",
       "      <th>10</th>\n",
       "      <td>如何在Jupyter Notebook中使用Python虚拟环境？</td>\n",
       "      <td>https://www.jianshu.com/p/afea092dda1d</td>\n",
       "    </tr>\n",
       "    <tr>\n",
       "      <th>11</th>\n",
       "      <td>如何用Python做情感分析？</td>\n",
       "      <td>https://www.jianshu.com/p/d50a14541d01</td>\n",
       "    </tr>\n",
       "    <tr>\n",
       "      <th>12</th>\n",
       "      <td>如何用Python做舆情时间序列可视化？</td>\n",
       "      <td>https://www.jianshu.com/p/4ea083874df4</td>\n",
       "    </tr>\n",
       "    <tr>\n",
       "      <th>13</th>\n",
       "      <td>Python编程遇问题，文科生怎么办？</td>\n",
       "      <td>https://www.jianshu.com/p/af6201d2f0c6</td>\n",
       "    </tr>\n",
       "    <tr>\n",
       "      <th>14</th>\n",
       "      <td>如何用Python和机器学习训练中文文本情感分类模型？</td>\n",
       "      <td>https://www.jianshu.com/p/29aa3ad63f9d</td>\n",
       "    </tr>\n",
       "    <tr>\n",
       "      <th>15</th>\n",
       "      <td>如何用Python和R对《权力的游戏》故事情节做情绪分析？</td>\n",
       "      <td>https://www.jianshu.com/p/0c782715e58a</td>\n",
       "    </tr>\n",
       "    <tr>\n",
       "      <th>16</th>\n",
       "      <td>文章</td>\n",
       "      <td>https://www.jianshu.com/p/0c782715e58a</td>\n",
       "    </tr>\n",
       "    <tr>\n",
       "      <th>17</th>\n",
       "      <td>如何用Python提取中文关键词？</td>\n",
       "      <td>https://www.jianshu.com/p/cf383fd471bb</td>\n",
       "    </tr>\n",
       "    <tr>\n",
       "      <th>18</th>\n",
       "      <td>文科生如何高效学数据科学？</td>\n",
       "      <td>https://www.jianshu.com/p/e3f52e0860fd</td>\n",
       "    </tr>\n",
       "    <tr>\n",
       "      <th>19</th>\n",
       "      <td>如何高效入门Github？</td>\n",
       "      <td>https://www.jianshu.com/p/13d356e76659</td>\n",
       "    </tr>\n",
       "    <tr>\n",
       "      <th>20</th>\n",
       "      <td>如何高效学Python？</td>\n",
       "      <td>https://www.jianshu.com/p/3678e3dd29f5</td>\n",
       "    </tr>\n",
       "    <tr>\n",
       "      <th>21</th>\n",
       "      <td>贷还是不贷：如何用Python和机器学习帮你决策？</td>\n",
       "      <td>https://www.jianshu.com/p/67a71e366516</td>\n",
       "    </tr>\n",
       "    <tr>\n",
       "      <th>22</th>\n",
       "      <td>Python编程遇问题，文科生怎么办？</td>\n",
       "      <td>https://www.jianshu.com/p/af6201d2f0c6</td>\n",
       "    </tr>\n",
       "    <tr>\n",
       "      <th>23</th>\n",
       "      <td>这篇文章</td>\n",
       "      <td>https://www.jianshu.com/p/af6201d2f0c6</td>\n",
       "    </tr>\n",
       "    <tr>\n",
       "      <th>24</th>\n",
       "      <td>如何用Python从海量文本抽取主题？</td>\n",
       "      <td>https://www.jianshu.com/p/fdde9fc03f94</td>\n",
       "    </tr>\n",
       "    <tr>\n",
       "      <th>25</th>\n",
       "      <td>如何用Python和机器学习训练中文文本情感分类模型？</td>\n",
       "      <td>https://www.jianshu.com/p/29aa3ad63f9d</td>\n",
       "    </tr>\n",
       "    <tr>\n",
       "      <th>26</th>\n",
       "      <td>如何用Python和深度神经网络发现即将流失的客户？</td>\n",
       "      <td>https://www.jianshu.com/p/7c08e9d79514</td>\n",
       "    </tr>\n",
       "    <tr>\n",
       "      <th>27</th>\n",
       "      <td>如何用Python和深度神经网络发现即将流失的客户？</td>\n",
       "      <td>https://www.jianshu.com/p/7c08e9d79514</td>\n",
       "    </tr>\n",
       "    <tr>\n",
       "      <th>28</th>\n",
       "      <td>Tensorflow执行pip升级安装的坑</td>\n",
       "      <td>https://www.jianshu.com/p/94e6778937ea</td>\n",
       "    </tr>\n",
       "    <tr>\n",
       "      <th>29</th>\n",
       "      <td>如何用Python和深度神经网络识别图像？</td>\n",
       "      <td>https://www.jianshu.com/p/0db025ebf0a1</td>\n",
       "    </tr>\n",
       "    <tr>\n",
       "      <th>30</th>\n",
       "      <td>如何用Python和深度神经网络寻找近似图片？</td>\n",
       "      <td>https://www.jianshu.com/p/6fe5c75a8aa5</td>\n",
       "    </tr>\n",
       "    <tr>\n",
       "      <th>31</th>\n",
       "      <td>讲解答疑视频</td>\n",
       "      <td>https://www.jianshu.com/p/fe114409daaf</td>\n",
       "    </tr>\n",
       "    <tr>\n",
       "      <th>32</th>\n",
       "      <td>这段视频</td>\n",
       "      <td>https://www.jianshu.com/p/fe114409daaf</td>\n",
       "    </tr>\n",
       "    <tr>\n",
       "      <th>33</th>\n",
       "      <td>如何免费云端运行Python深度学习框架？</td>\n",
       "      <td>https://www.jianshu.com/p/eebf9a13c52a</td>\n",
       "    </tr>\n",
       "    <tr>\n",
       "      <th>34</th>\n",
       "      <td>如何用Python读取开放数据？</td>\n",
       "      <td>https://www.jianshu.com/p/424e1c65f424</td>\n",
       "    </tr>\n",
       "    <tr>\n",
       "      <th>35</th>\n",
       "      <td>如何用R和API免费获取Web数据？</td>\n",
       "      <td>https://www.jianshu.com/p/c2e030187495</td>\n",
       "    </tr>\n",
       "    <tr>\n",
       "      <th>36</th>\n",
       "      <td>如何用Python爬数据？（一）网页抓取</td>\n",
       "      <td>https://www.jianshu.com/p/ba02079ecd2f</td>\n",
       "    </tr>\n",
       "    <tr>\n",
       "      <th>37</th>\n",
       "      <td>如何用Python批量提取PDF文本内容？</td>\n",
       "      <td>https://www.jianshu.com/p/31939ee6f1c9</td>\n",
       "    </tr>\n",
       "    <tr>\n",
       "      <th>38</th>\n",
       "      <td>玉树芝兰</td>\n",
       "      <td>https://www.jianshu.com/nb/130182</td>\n",
       "    </tr>\n",
       "    <tr>\n",
       "      <th>39</th>\n",
       "      <td>“玉树芝兰”(nkwangshuyi)</td>\n",
       "      <td>http://oejqwrqkh.bkt.clouddn.com/2016-10-11-22...</td>\n",
       "    </tr>\n",
       "    <tr>\n",
       "      <th>40</th>\n",
       "      <td>如何高效入门数据科学？</td>\n",
       "      <td>https://www.jianshu.com/p/85f4624485b9</td>\n",
       "    </tr>\n",
       "  </tbody>\n",
       "</table>\n",
       "</div>"
      ],
      "text/plain": [
       "                                 text  \\\n",
       "0                                玉树芝兰   \n",
       "1                       如何用Python做词云？   \n",
       "2                           数据科学相关的文章   \n",
       "3                                 索引贴   \n",
       "4                                  教程   \n",
       "5       如何安装Python运行环境Anaconda？（视频教程）   \n",
       "6                       如何用Python做词云？   \n",
       "7              如何用Python做词云？（基础篇视频教程）   \n",
       "8                     如何用Python做中文分词？   \n",
       "9                 Python编程遇问题，文科生怎么办？   \n",
       "10  如何在Jupyter Notebook中使用Python虚拟环境？   \n",
       "11                    如何用Python做情感分析？   \n",
       "12               如何用Python做舆情时间序列可视化？   \n",
       "13                Python编程遇问题，文科生怎么办？   \n",
       "14        如何用Python和机器学习训练中文文本情感分类模型？   \n",
       "15      如何用Python和R对《权力的游戏》故事情节做情绪分析？   \n",
       "16                                 文章   \n",
       "17                  如何用Python提取中文关键词？   \n",
       "18                      文科生如何高效学数据科学？   \n",
       "19                      如何高效入门Github？   \n",
       "20                       如何高效学Python？   \n",
       "21          贷还是不贷：如何用Python和机器学习帮你决策？   \n",
       "22                Python编程遇问题，文科生怎么办？   \n",
       "23                               这篇文章   \n",
       "24                如何用Python从海量文本抽取主题？   \n",
       "25        如何用Python和机器学习训练中文文本情感分类模型？   \n",
       "26         如何用Python和深度神经网络发现即将流失的客户？   \n",
       "27         如何用Python和深度神经网络发现即将流失的客户？   \n",
       "28              Tensorflow执行pip升级安装的坑   \n",
       "29              如何用Python和深度神经网络识别图像？   \n",
       "30            如何用Python和深度神经网络寻找近似图片？   \n",
       "31                             讲解答疑视频   \n",
       "32                               这段视频   \n",
       "33              如何免费云端运行Python深度学习框架？   \n",
       "34                   如何用Python读取开放数据？   \n",
       "35                 如何用R和API免费获取Web数据？   \n",
       "36               如何用Python爬数据？（一）网页抓取   \n",
       "37              如何用Python批量提取PDF文本内容？   \n",
       "38                               玉树芝兰   \n",
       "39                “玉树芝兰”(nkwangshuyi)   \n",
       "40                        如何高效入门数据科学？   \n",
       "\n",
       "                                                 link  \n",
       "0                   https://www.jianshu.com/nb/130182  \n",
       "1              https://www.jianshu.com/p/e4b24a734ccc  \n",
       "2              https://www.jianshu.com/p/30b4fa6793f6  \n",
       "3              https://www.jianshu.com/p/30b4fa6793f6  \n",
       "4              https://www.jianshu.com/p/e4b24a734ccc  \n",
       "5              https://www.jianshu.com/p/772740d57576  \n",
       "6              https://www.jianshu.com/p/e4b24a734ccc  \n",
       "7              https://www.jianshu.com/p/a2924231037c  \n",
       "8              https://www.jianshu.com/p/721190534061  \n",
       "9              https://www.jianshu.com/p/af6201d2f0c6  \n",
       "10             https://www.jianshu.com/p/afea092dda1d  \n",
       "11             https://www.jianshu.com/p/d50a14541d01  \n",
       "12             https://www.jianshu.com/p/4ea083874df4  \n",
       "13             https://www.jianshu.com/p/af6201d2f0c6  \n",
       "14             https://www.jianshu.com/p/29aa3ad63f9d  \n",
       "15             https://www.jianshu.com/p/0c782715e58a  \n",
       "16             https://www.jianshu.com/p/0c782715e58a  \n",
       "17             https://www.jianshu.com/p/cf383fd471bb  \n",
       "18             https://www.jianshu.com/p/e3f52e0860fd  \n",
       "19             https://www.jianshu.com/p/13d356e76659  \n",
       "20             https://www.jianshu.com/p/3678e3dd29f5  \n",
       "21             https://www.jianshu.com/p/67a71e366516  \n",
       "22             https://www.jianshu.com/p/af6201d2f0c6  \n",
       "23             https://www.jianshu.com/p/af6201d2f0c6  \n",
       "24             https://www.jianshu.com/p/fdde9fc03f94  \n",
       "25             https://www.jianshu.com/p/29aa3ad63f9d  \n",
       "26             https://www.jianshu.com/p/7c08e9d79514  \n",
       "27             https://www.jianshu.com/p/7c08e9d79514  \n",
       "28             https://www.jianshu.com/p/94e6778937ea  \n",
       "29             https://www.jianshu.com/p/0db025ebf0a1  \n",
       "30             https://www.jianshu.com/p/6fe5c75a8aa5  \n",
       "31             https://www.jianshu.com/p/fe114409daaf  \n",
       "32             https://www.jianshu.com/p/fe114409daaf  \n",
       "33             https://www.jianshu.com/p/eebf9a13c52a  \n",
       "34             https://www.jianshu.com/p/424e1c65f424  \n",
       "35             https://www.jianshu.com/p/c2e030187495  \n",
       "36             https://www.jianshu.com/p/ba02079ecd2f  \n",
       "37             https://www.jianshu.com/p/31939ee6f1c9  \n",
       "38                  https://www.jianshu.com/nb/130182  \n",
       "39  http://oejqwrqkh.bkt.clouddn.com/2016-10-11-22...  \n",
       "40             https://www.jianshu.com/p/85f4624485b9  "
      ]
     },
     "execution_count": 42,
     "metadata": {},
     "output_type": "execute_result"
    }
   ],
   "source": [
    "df"
   ]
  },
  {
   "cell_type": "code",
   "execution_count": 43,
   "metadata": {
    "execution": {
     "iopub.execute_input": "2021-10-12T17:36:22.113029Z",
     "iopub.status.busy": "2021-10-12T17:36:22.112372Z",
     "iopub.status.idle": "2021-10-12T17:36:22.119842Z",
     "shell.execute_reply": "2021-10-12T17:36:22.118909Z",
     "shell.execute_reply.started": "2021-10-12T17:36:22.112730Z"
    }
   },
   "outputs": [],
   "source": [
    "df.to_csv('output.csv', encoding='utf8', index=False)"
   ]
  },
  {
   "cell_type": "code",
   "execution_count": null,
   "metadata": {},
   "outputs": [],
   "source": []
  }
 ],
 "metadata": {
  "kernelspec": {
   "display_name": "Python 3",
   "language": "python",
   "name": "py35-paddle1.2.0"
  },
  "language_info": {
   "codemirror_mode": {
    "name": "ipython",
    "version": 3
   },
   "file_extension": ".py",
   "mimetype": "text/x-python",
   "name": "python",
   "nbconvert_exporter": "python",
   "pygments_lexer": "ipython3",
   "version": "3.7.4"
  }
 },
 "nbformat": 4,
 "nbformat_minor": 4
}
