{
 "cells": [
  {
   "cell_type": "code",
   "execution_count": null,
   "metadata": {
    "collapsed": true
   },
   "outputs": [],
   "source": [
    "from glob import glob"
   ]
  },
  {
   "cell_type": "code",
   "execution_count": null,
   "metadata": {
    "collapsed": true
   },
   "outputs": [],
   "source": [
    "from PIL import Image"
   ]
  },
  {
   "cell_type": "code",
   "execution_count": null,
   "metadata": {
    "collapsed": true
   },
   "outputs": [],
   "source": [
    "import os"
   ]
  },
  {
   "cell_type": "code",
   "execution_count": null,
   "metadata": {
    "collapsed": true
   },
   "outputs": [],
   "source": [
    "source_dir = 'image'"
   ]
  },
  {
   "cell_type": "code",
   "execution_count": null,
   "metadata": {
    "collapsed": true
   },
   "outputs": [],
   "source": [
    "target_dir = 'output'"
   ]
  },
  {
   "cell_type": "code",
   "execution_count": null,
   "metadata": {
    "collapsed": false
   },
   "outputs": [],
   "source": [
    "filenames = glob('{}/*'.format(source_dir))"
   ]
  },
  {
   "cell_type": "code",
   "execution_count": null,
   "metadata": {
    "collapsed": false
   },
   "outputs": [],
   "source": [
    "print(filenames)"
   ]
  },
  {
   "cell_type": "code",
   "execution_count": null,
   "metadata": {
    "collapsed": false
   },
   "outputs": [],
   "source": [
    "for filename in filenames:\n",
    "    with Image.open(filename) as im:\n",
    "        width, height = im.size\n",
    "        print(filename, width, height, os.path.getsize(filename))"
   ]
  },
  {
   "cell_type": "code",
   "execution_count": null,
   "metadata": {
    "collapsed": false
   },
   "outputs": [],
   "source": [
    "2*1024*1024"
   ]
  },
  {
   "cell_type": "code",
   "execution_count": null,
   "metadata": {
    "collapsed": true
   },
   "outputs": [],
   "source": [
    "threshold = 2*1024*1024"
   ]
  },
  {
   "cell_type": "code",
   "execution_count": null,
   "metadata": {
    "collapsed": false
   },
   "outputs": [],
   "source": [
    "for filename in filenames:\n",
    "    filesize = os.path.getsize(filename)\n",
    "    if filesize >= threshold:\n",
    "        print(filename)"
   ]
  },
  {
   "cell_type": "code",
   "execution_count": null,
   "metadata": {
    "collapsed": true
   },
   "outputs": [],
   "source": [
    "if not os.path.exists(target_dir):\n",
    "    os.makedirs(target_dir)"
   ]
  },
  {
   "cell_type": "code",
   "execution_count": null,
   "metadata": {
    "collapsed": false
   },
   "outputs": [],
   "source": [
    "for filename in filenames:\n",
    "    filesize = os.path.getsize(filename)\n",
    "    if filesize >= threshold:\n",
    "        print(filename)\n",
    "        with Image.open(filename) as im:\n",
    "            width, height = im.size\n",
    "            new_width = 1024\n",
    "            new_height = int(new_width * height * 1.0 / width)\n",
    "            print('adjusted size:', new_width, new_height)"
   ]
  },
  {
   "cell_type": "code",
   "execution_count": null,
   "metadata": {
    "collapsed": false
   },
   "outputs": [],
   "source": [
    "for filename in filenames:\n",
    "    filesize = os.path.getsize(filename)\n",
    "    if filesize >= threshold:\n",
    "        print(filename)\n",
    "        with Image.open(filename) as im:\n",
    "            width, height = im.size\n",
    "            new_width = 1024\n",
    "            new_height = int(new_width * height * 1.0 / width)\n",
    "            resized_im = im.resize((new_width, new_height))\n",
    "            output_filename = filename.replace(source_dir, target_dir)\n",
    "            resized_im.save(output_filename)"
   ]
  },
  {
   "cell_type": "code",
   "execution_count": null,
   "metadata": {
    "collapsed": false
   },
   "outputs": [],
   "source": [
    "def resize_images(source_dir, target_dir, threshold):\n",
    "    filenames = glob('{}/*'.format(source_dir))\n",
    "    if not os.path.exists(target_dir):\n",
    "        os.makedirs(target_dir)\n",
    "    for filename in filenames:\n",
    "        filesize = os.path.getsize(filename)\n",
    "        if filesize >= threshold:\n",
    "            print(filename)\n",
    "            with Image.open(filename) as im:\n",
    "                width, height = im.size\n",
    "                new_width = 1024\n",
    "                new_height = int(new_width * height * 1.0 / width)\n",
    "                resized_im = im.resize((new_width, new_height))\n",
    "                output_filename = filename.replace(source_dir, target_dir)\n",
    "                resized_im.save(output_filename)"
   ]
  },
  {
   "cell_type": "code",
   "execution_count": null,
   "metadata": {
    "collapsed": false
   },
   "outputs": [],
   "source": [
    "import math"
   ]
  },
  {
   "cell_type": "code",
   "execution_count": null,
   "metadata": {
    "collapsed": true
   },
   "outputs": [],
   "source": [
    "def resize_images(source_dir, target_dir, threshold):\n",
    "    filenames = glob('{}/*'.format(source_dir))\n",
    "    if not os.path.exists(target_dir):\n",
    "        os.makedirs(target_dir)\n",
    "    for filename in filenames:\n",
    "        filesize = os.path.getsize(filename)\n",
    "        if filesize >= threshold:\n",
    "            print(filename)\n",
    "            with Image.open(filename) as im:\n",
    "                width, height = im.size\n",
    "                if width >= height:\n",
    "                    new_width = int(math.sqrt(threshold/2))\n",
    "                    new_height = int(new_width * height * 1.0 / width)\n",
    "                else:\n",
    "                    new_height = int(math.sqrt(threshold/2))\n",
    "                    new_width = int(new_height * width * 1.0 / height)\n",
    "                resized_im = im.resize((new_width, new_height))\n",
    "                output_filename = filename.replace(source_dir, target_dir)\n",
    "                resized_im.save(output_filename)"
   ]
  },
  {
   "cell_type": "code",
   "execution_count": null,
   "metadata": {
    "collapsed": false
   },
   "outputs": [],
   "source": [
    "resize_images(source_dir, target_dir, threshold)"
   ]
  },
  {
   "cell_type": "code",
   "execution_count": null,
   "metadata": {
    "collapsed": true
   },
   "outputs": [],
   "source": []
  }
 ],
 "metadata": {
  "kernelspec": {
   "display_name": "Python 2",
   "language": "python",
   "name": "python2"
  },
  "language_info": {
   "codemirror_mode": {
    "name": "ipython",
    "version": 2
   },
   "file_extension": ".py",
   "mimetype": "text/x-python",
   "name": "python",
   "nbconvert_exporter": "python",
   "pygments_lexer": "ipython2",
   "version": "2.7.11"
  }
 },
 "nbformat": 4,
 "nbformat_minor": 0
}
